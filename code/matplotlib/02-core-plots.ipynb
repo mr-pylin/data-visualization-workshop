{
 "cells": [
  {
   "cell_type": "markdown",
   "metadata": {},
   "source": [
    "<div style=\"display: flex; justify-content: space-between; align-items: center;\">\n",
    "    <div style=\"text-align: left; flex: 4;\">\n",
    "        <strong>Author:</strong> Amirhossein Heydari — \n",
    "        📧 <a href=\"mailto:amirhosseinheydari78@gmail.com\">amirhosseinheydari78@gmail.com</a> — \n",
    "        🐙 <a href=\"https://github.com/mr-pylin/data-visualization-workshop\" target=\"_blank\" rel=\"noopener\">github.com/mr-pylin</a>\n",
    "    </div>\n",
    "    <div style=\"display: flex; justify-content: flex-end; flex: 1; gap: 8px; align-items: center; padding: 0;\">\n",
    "        <a href=\"https://matplotlib.org/\" target=\"_blank\" rel=\"noopener noreferrer\">\n",
    "            <img src=\"../../assets/images/libraries/matplotlib/logo/Matplotlib_icon.svg\"\n",
    "                 alt=\"Matplotlib Logo\"\n",
    "                 style=\"max-height: 48px; width: auto;\">\n",
    "        </a>\n",
    "        <a href=\"https://seaborn.pydata.org/\" target=\"_blank\" rel=\"noopener noreferrer\">\n",
    "            <img src=\"../../assets/images/libraries/seaborn/logo/logo-mark-lightbg.svg\"\n",
    "                 alt=\"Seaborn Logo\"\n",
    "                 style=\"max-height: 48px; width: auto;\">\n",
    "        </a>\n",
    "        <a href=\"https://seaborn.pydata.org/\" target=\"_blank\" rel=\"noopener noreferrer\">\n",
    "            <img src=\"../../assets/images/libraries/plotly/logo/Plotly-Logo-White copy.svg\"\n",
    "                 alt=\"Seaborn Logo\"\n",
    "                 style=\"max-height: 48px; width: auto; background-color: #1f1f1f; border-radius: 8px;\">\n",
    "        </a>\n",
    "    </div>\n",
    "</div>\n",
    "<hr>\n"
   ]
  },
  {
   "cell_type": "markdown",
   "metadata": {},
   "source": [
    "**Table of contents**<a id='toc0_'></a>    \n",
    "- [Dependencies](#toc1_)    \n",
    "- [Core Plots](#toc2_)    \n",
    "  - [Line Plots](#toc2_1_)    \n",
    "    - [Basic Usage](#toc2_1_1_)    \n",
    "    - [Multiple lines in one figure](#toc2_1_2_)    \n",
    "  - [Step Plots](#toc2_2_)    \n",
    "    - [Creating Discrete Transitions](#toc2_2_1_)    \n",
    "    - [Comparison with Line Plots](#toc2_2_2_)    \n",
    "  - [Stem Plots](#toc2_3_)    \n",
    "    - [Visualizing discrete data points](#toc2_3_1_)    \n",
    "    - [Applications in signal or sequence data](#toc2_3_2_)    \n",
    "  - [Scatter Plots](#toc2_4_)    \n",
    "    - [Basic Usage](#toc2_4_1_)    \n",
    "  - [Bar Charts](#toc2_5_)    \n",
    "    - [Vertical Bars](#toc2_5_1_)    \n",
    "    - [Horizontal Bars](#toc2_5_2_)    \n",
    "    - [Grouped Bars](#toc2_5_3_)    \n",
    "    - [Stacked Bars](#toc2_5_4_)    \n",
    "  - [Histograms](#toc2_6_)    \n",
    "    - [Basic Usage](#toc2_6_1_)    \n",
    "    - [Bins, Range and Density Options](#toc2_6_2_)    \n",
    "  - [Box & Violin Plots](#toc2_7_)    \n",
    "    - [Box Plot for Distribution Summary](#toc2_7_1_)    \n",
    "    - [Violin Plot for Shape Visualization](#toc2_7_2_)    \n",
    "  - [Pie Charts](#toc2_8_)    \n",
    "    - [Basic pie and donut chart](#toc2_8_1_)    \n",
    "    - [Labeling and percentage display](#toc2_8_2_)    \n",
    "\n",
    "<!-- vscode-jupyter-toc-config\n",
    "\tnumbering=false\n",
    "\tanchor=true\n",
    "\tflat=false\n",
    "\tminLevel=1\n",
    "\tmaxLevel=6\n",
    "\t/vscode-jupyter-toc-config -->\n",
    "<!-- THIS CELL WILL BE REPLACED ON TOC UPDATE. DO NOT WRITE YOUR TEXT IN THIS CELL -->"
   ]
  },
  {
   "cell_type": "markdown",
   "metadata": {},
   "source": [
    "# <a id='toc1_'></a>[Dependencies](#toc0_)"
   ]
  },
  {
   "cell_type": "code",
   "execution_count": null,
   "metadata": {},
   "outputs": [],
   "source": [
    "import matplotlib.pyplot as plt\n",
    "import numpy as np"
   ]
  },
  {
   "cell_type": "code",
   "execution_count": null,
   "metadata": {},
   "outputs": [],
   "source": [
    "rng = np.random.default_rng(seed=42)"
   ]
  },
  {
   "cell_type": "code",
   "execution_count": null,
   "metadata": {},
   "outputs": [],
   "source": [
    "np.set_printoptions(linewidth=120)"
   ]
  },
  {
   "cell_type": "markdown",
   "metadata": {},
   "source": [
    "# <a id='toc2_'></a>[Core Plots](#toc0_)\n"
   ]
  },
  {
   "cell_type": "markdown",
   "metadata": {},
   "source": [
    "## <a id='toc2_1_'></a>[Line Plots](#toc0_)\n",
    "\n",
    "- Line plots are one of the most fundamental ways to visualize **trends and relationships between numerical data**.\n",
    "- They are particularly useful for **continuous data** or **time-series data**, where the order of points matters.\n",
    "\n",
    "📝 Docs:\n",
    "   - `matplotlib.pyplot.plot`: [matplotlib.org/stable/api/_as_gen/matplotlib.pyplot.plot.html](https://matplotlib.org/stable/api/_as_gen/matplotlib.pyplot.plot.html)\n"
   ]
  },
  {
   "cell_type": "code",
   "execution_count": null,
   "metadata": {},
   "outputs": [],
   "source": [
    "# create artificial data\n",
    "x = np.linspace(0, 10, 100)\n",
    "\n",
    "# log\n",
    "print(f\"x:\\n{x}\")"
   ]
  },
  {
   "cell_type": "markdown",
   "metadata": {},
   "source": [
    "### <a id='toc2_1_1_'></a>[Basic Usage](#toc0_)\n",
    "\n",
    "A line plot connects data points with straight lines. It is often used to:\n",
    "\n",
    "- Show changes or trends over time 📈\n",
    "- Compare multiple series in a single figure\n",
    "- Highlight general patterns rather than individual data points\n"
   ]
  },
  {
   "cell_type": "code",
   "execution_count": null,
   "metadata": {},
   "outputs": [],
   "source": [
    "plt.plot(x, np.sin(x))\n",
    "plt.title(\"Basic Line Plot — sin(x)\")\n",
    "plt.xlabel(\"x\")\n",
    "plt.ylabel(\"np.sin(x)\")\n",
    "plt.show()"
   ]
  },
  {
   "cell_type": "markdown",
   "metadata": {},
   "source": [
    "### <a id='toc2_1_2_'></a>[Multiple lines in one figure](#toc0_)\n",
    "\n",
    "You can overlay multiple lines in a single plot to compare series.\n",
    "\n",
    "- Each line can represent a different category or variable\n",
    "- Even without styling, using multiple lines allows **quick visual comparison**\n"
   ]
  },
  {
   "cell_type": "code",
   "execution_count": null,
   "metadata": {},
   "outputs": [],
   "source": [
    "plt.plot(x, np.sin(x), linestyle=\"-\")\n",
    "plt.plot(x, np.cos(x), linestyle=\"--\")\n",
    "plt.title(\"Multiple Lines\")\n",
    "plt.xlabel(\"x\")\n",
    "plt.ylabel(\"value\")\n",
    "plt.show()"
   ]
  },
  {
   "cell_type": "markdown",
   "metadata": {},
   "source": [
    "## <a id='toc2_2_'></a>[Step Plots](#toc0_)\n",
    "\n",
    "- Step plots are used to visualize **discrete transitions** or **piecewise-constant data**.\n",
    "- They are particularly useful when you want to **highlight sudden changes** between values.\n",
    "\n",
    "📝 Docs:\n",
    "- `matplotlib.pyplot.step`: [matplotlib.org/stable/api/_as_gen/matplotlib.pyplot.step.html](https://matplotlib.org/stable/api/_as_gen/matplotlib.pyplot.step.html)\n",
    "- Step Demo: [matplotlib.org/stable/gallery/lines_bars_and_markers/step_demo.html](https://matplotlib.org/stable/gallery/lines_bars_and_markers/step_demo.html)\n"
   ]
  },
  {
   "cell_type": "code",
   "execution_count": null,
   "metadata": {},
   "outputs": [],
   "source": [
    "# create artificial data\n",
    "i = np.arange(0, 11)\n",
    "v = rng.integers(low=-2, high=3, size=len(i))\n",
    "\n",
    "# log\n",
    "print(f\"i: {i}\")\n",
    "print(f\"v: {v}\")"
   ]
  },
  {
   "cell_type": "markdown",
   "metadata": {},
   "source": [
    "### <a id='toc2_2_1_'></a>[Creating Discrete Transitions](#toc0_)\n",
    "\n",
    "Step plots draw horizontal lines connecting data points, with vertical jumps at each step.\n",
    "\n",
    "- Useful for **time series with discrete events**\n",
    "- Helps visualize **threshold crossings** or **binary signals**\n"
   ]
  },
  {
   "cell_type": "code",
   "execution_count": null,
   "metadata": {},
   "outputs": [],
   "source": [
    "plt.step(i, v, where=\"post\")\n",
    "plt.title('Step Plot (where=\"post\")')\n",
    "plt.xlabel(\"index\")\n",
    "plt.ylabel(\"value\")\n",
    "plt.grid(alpha=0.3)\n",
    "plt.show()"
   ]
  },
  {
   "cell_type": "markdown",
   "metadata": {},
   "source": [
    "### <a id='toc2_2_2_'></a>[Comparison with Line Plots](#toc0_)\n",
    "\n",
    "- Step plots emphasize **sudden changes**, while line plots suggest **continuous change**\n",
    "- Step plots are better for **event-driven data**, line plots for smooth trends\n",
    "- They can be combined with markers to highlight key points\n"
   ]
  },
  {
   "cell_type": "code",
   "execution_count": null,
   "metadata": {},
   "outputs": [],
   "source": [
    "plt.step(i, v, where=\"mid\")\n",
    "plt.plot(i, v)\n",
    "plt.title('Step vs Line (where=\"mid\")')\n",
    "plt.xlabel(\"index\")\n",
    "plt.ylabel(\"value\")\n",
    "plt.grid(alpha=0.3)\n",
    "plt.show()"
   ]
  },
  {
   "cell_type": "markdown",
   "metadata": {},
   "source": [
    "## <a id='toc2_3_'></a>[Stem Plots](#toc0_)\n",
    "\n",
    "- Stem plots are used to visualize **discrete data points** as vertical lines extending from a baseline, often with markers at the tips.\n",
    "- They are commonly used in **signal processing** or to highlight **individual observations**.\n",
    "\n",
    "📝 Docs:\n",
    "- `matplotlib.pyplot.stem`: [matplotlib.org/stable/api/_as_gen/matplotlib.pyplot.stem.html](https://matplotlib.org/stable/api/_as_gen/matplotlib.pyplot.stem.html)\n",
    "- Stem Plot: [matplotlib.org/stable/gallery/lines_bars_and_markers/stem_plot.html](https://matplotlib.org/stable/gallery/lines_bars_and_markers/stem_plot.html)\n"
   ]
  },
  {
   "cell_type": "code",
   "execution_count": null,
   "metadata": {},
   "outputs": [],
   "source": [
    "# create artificial data\n",
    "n = np.arange(0, 10)\n",
    "v = rng.random(size=len(n))\n",
    "\n",
    "# log\n",
    "print(f\"n: {n}\")\n",
    "print(f\"v: {v}\")"
   ]
  },
  {
   "cell_type": "markdown",
   "metadata": {},
   "source": [
    "### <a id='toc2_3_1_'></a>[Visualizing discrete data points](#toc0_)\n",
    "\n",
    "- Each data point is represented by a vertical line from a baseline (usually y=0)\n",
    "- Marker at the top indicates the actual value\n",
    "- Useful for **sequence data**, impulses, or sparse datasets\n"
   ]
  },
  {
   "cell_type": "code",
   "execution_count": null,
   "metadata": {},
   "outputs": [],
   "source": [
    "plt.stem(n, v, markerfmt=\"r^\")\n",
    "plt.title(\"Stem Plot — discrete samples\")\n",
    "plt.xlabel(\"n\")\n",
    "plt.ylabel(\"value\")\n",
    "plt.grid(alpha=0.3)\n",
    "plt.show()"
   ]
  },
  {
   "cell_type": "markdown",
   "metadata": {},
   "source": [
    "### <a id='toc2_3_2_'></a>[Applications in signal or sequence data](#toc0_)\n",
    "\n",
    "- Representing **digital signals** or **spike trains**\n",
    "- Highlighting **key events or measurements** in a dataset\n",
    "- Can be combined with line or scatter plots for **contextual visualization**\n"
   ]
  },
  {
   "cell_type": "code",
   "execution_count": null,
   "metadata": {},
   "outputs": [],
   "source": [
    "n = np.arange(0, 21)\n",
    "signal = np.zeros_like(n, dtype=float)\n",
    "signal[[2, 5, 8]] = [1.0, -0.6, 0.8]  # sparse impulses"
   ]
  },
  {
   "cell_type": "code",
   "execution_count": null,
   "metadata": {},
   "outputs": [],
   "source": [
    "plt.stem(n, signal)\n",
    "plt.title(\"Sparse Impulse Signal (stem)\")\n",
    "plt.xlabel(\"n\")\n",
    "plt.ylabel(\"amplitude\")\n",
    "plt.grid(alpha=0.3)\n",
    "plt.show()"
   ]
  },
  {
   "cell_type": "markdown",
   "metadata": {},
   "source": [
    "## <a id='toc2_4_'></a>[Scatter Plots](#toc0_)\n",
    "\n",
    "- Scatter plots are used to visualize the **relationship between two numerical variables**.\n",
    "- They show **individual data points** without connecting lines, making them ideal for spotting **patterns, clusters, or outliers**.\n",
    "\n",
    "📝 Docs:\n",
    "- `matplotlib.pyplot.scatter`: [matplotlib.org/stable/api/_as_gen/matplotlib.pyplot.scatter.html](https://matplotlib.org/stable/api/_as_gen/matplotlib.pyplot.scatter.html)\n",
    "- Scatter Demo2: [matplotlib.org/stable/gallery/lines_bars_and_markers/scatter_demo2.html](https://matplotlib.org/stable/gallery/lines_bars_and_markers/scatter_demo2.html)\n"
   ]
  },
  {
   "cell_type": "code",
   "execution_count": null,
   "metadata": {},
   "outputs": [],
   "source": [
    "# create artificial data\n",
    "x = rng.normal(size=100)\n",
    "y = 0.5 * x + rng.normal(scale=0.6, size=100)\n",
    "sizes = 50 * (rng.random(100) + 0.3)"
   ]
  },
  {
   "cell_type": "markdown",
   "metadata": {},
   "source": [
    "### <a id='toc2_4_1_'></a>[Basic Usage](#toc0_)\n",
    "\n",
    "- Each point represents a pair of values (x, y)\n",
    "- Useful for **correlation analysis** and detecting **trends**\n",
    "- Can be combined with line plots to overlay trends\n"
   ]
  },
  {
   "cell_type": "code",
   "execution_count": null,
   "metadata": {},
   "outputs": [],
   "source": [
    "plt.scatter(x, y, s=sizes, alpha=0.7)\n",
    "plt.title(\"Scatter Plot — basic\")\n",
    "plt.xlabel(\"x\")\n",
    "plt.ylabel(\"y\")\n",
    "plt.grid(alpha=0.3)\n",
    "plt.show()"
   ]
  },
  {
   "cell_type": "markdown",
   "metadata": {},
   "source": [
    "## <a id='toc2_5_'></a>[Bar Charts](#toc0_)\n",
    "\n",
    "- Bar charts are used to visualize **categorical data** or **discrete values**.\n",
    "- They display **rectangular bars** where the length represents the value of each category.\n",
    "\n",
    "📝 Docs:\n",
    "- `matplotlib.pyplot.bar`: [matplotlib.org/stable/api/_as_gen/matplotlib.pyplot.bar.html](https://matplotlib.org/stable/api/_as_gen/matplotlib.pyplot.bar.html)\n",
    "- `matplotlib.pyplot.barh`: [matplotlib.org/stable/api/_as_gen/matplotlib.pyplot.barh.html](https://matplotlib.org/stable/api/_as_gen/matplotlib.pyplot.barh.html)\n",
    "- Stacked bar chart: [matplotlib.org/stable/gallery/lines_bars_and_markers/bar_stacked.html](https://matplotlib.org/stable/gallery/lines_bars_and_markers/bar_stacked.html)\n"
   ]
  },
  {
   "cell_type": "code",
   "execution_count": null,
   "metadata": {},
   "outputs": [],
   "source": [
    "# create artificial data\n",
    "c = [\"A\", \"B\", \"C\", \"D\"]\n",
    "v1 = [23, 45, 12, 30]\n",
    "v2 = [10, 20, 30, 40]\n",
    "\n",
    "# log\n",
    "print(f\"c  : {c}\")\n",
    "print(f\"v1 : {v1}\")\n",
    "print(f\"v2 : {v2}\")"
   ]
  },
  {
   "cell_type": "markdown",
   "metadata": {},
   "source": [
    "### <a id='toc2_5_1_'></a>[Vertical Bars](#toc0_)\n",
    "\n",
    "- Standard bar chart with vertical bars\n",
    "- Height of each bar corresponds to its value\n",
    "- Useful for comparing **categories or groups**\n"
   ]
  },
  {
   "cell_type": "code",
   "execution_count": null,
   "metadata": {},
   "outputs": [],
   "source": [
    "plt.bar(c, v1)\n",
    "plt.title(\"Vertical Bar Chart\")\n",
    "plt.xlabel(\"category\")\n",
    "plt.ylabel(\"value\")\n",
    "plt.grid(axis=\"y\", alpha=0.3)\n",
    "plt.show()"
   ]
  },
  {
   "cell_type": "markdown",
   "metadata": {},
   "source": [
    "### <a id='toc2_5_2_'></a>[Horizontal Bars](#toc0_)\n",
    "\n",
    "- Bars extend horizontally instead of vertically\n",
    "- Better for **long category names** or when **space is limited**\n"
   ]
  },
  {
   "cell_type": "code",
   "execution_count": null,
   "metadata": {},
   "outputs": [],
   "source": [
    "plt.barh(c, v1)\n",
    "plt.title(\"Vertical Bar Chart\")\n",
    "plt.xlabel(\"category\")\n",
    "plt.ylabel(\"value\")\n",
    "plt.grid(axis=\"x\", alpha=0.3)\n",
    "plt.show()"
   ]
  },
  {
   "cell_type": "markdown",
   "metadata": {},
   "source": [
    "### <a id='toc2_5_3_'></a>[Grouped Bars](#toc0_)\n",
    "\n",
    "- Used to **compare multiple datasets side by side**\n",
    "- Each group represents a category, bars within the group represent different series\n"
   ]
  },
  {
   "cell_type": "code",
   "execution_count": null,
   "metadata": {},
   "outputs": [],
   "source": [
    "x = np.arange(len(c))\n",
    "width = 0.35"
   ]
  },
  {
   "cell_type": "code",
   "execution_count": null,
   "metadata": {},
   "outputs": [],
   "source": [
    "plt.bar(x - width / 2, v1, width, label=\"v1\")\n",
    "plt.bar(x + width / 2, v2, width, label=\"v2\")\n",
    "plt.xticks(x, c)\n",
    "plt.legend()\n",
    "plt.title(\"Grouped Bars\")\n",
    "plt.show()"
   ]
  },
  {
   "cell_type": "markdown",
   "metadata": {},
   "source": [
    "### <a id='toc2_5_4_'></a>[Stacked Bars](#toc0_)\n",
    "\n",
    "- Bars are stacked on top of each other to show **subcomponents of a total**\n",
    "- Useful for **composition analysis** of a category\n"
   ]
  },
  {
   "cell_type": "code",
   "execution_count": null,
   "metadata": {},
   "outputs": [],
   "source": [
    "plt.figure()\n",
    "plt.bar(c, v1, label=\"v1\")\n",
    "plt.bar(c, v2, bottom=v1, label=\"v2\")\n",
    "plt.title(\"Stacked Bars\")\n",
    "plt.legend()\n",
    "plt.show()"
   ]
  },
  {
   "cell_type": "markdown",
   "metadata": {},
   "source": [
    "## <a id='toc2_6_'></a>[Histograms](#toc0_)\n",
    "\n",
    "- Histograms are used to visualize the **distribution of numerical data**.\n",
    "- They divide data into **bins** and show how many points fall into each bin.\n",
    "\n",
    "📝 Docs:\n",
    "- `matplotlib.pyplot.hist`: [matplotlib.org/stable/api/_as_gen/matplotlib.pyplot.hist.html](https://matplotlib.org/stable/api/_as_gen/matplotlib.pyplot.hist.html)\n",
    "- Histograms: [matplotlib.org/stable/gallery/statistics/hist.html](https://matplotlib.org/stable/gallery/statistics/hist.html)\n"
   ]
  },
  {
   "cell_type": "markdown",
   "metadata": {},
   "source": [
    "### <a id='toc2_6_1_'></a>[Basic Usage](#toc0_)\n",
    "\n",
    "- Each bin represents a range of values\n",
    "- Height of the bin corresponds to the number of data points in that range\n",
    "- Useful for understanding **data distribution, skewness, and outliers**\n"
   ]
  },
  {
   "cell_type": "code",
   "execution_count": null,
   "metadata": {},
   "outputs": [],
   "source": [
    "data = np.random.normal(loc=0, scale=1, size=100)"
   ]
  },
  {
   "cell_type": "code",
   "execution_count": null,
   "metadata": {},
   "outputs": [],
   "source": [
    "plt.hist(data, bins=30)\n",
    "plt.title(\"Histogram — normal data\")\n",
    "plt.xlabel(\"value\")\n",
    "plt.ylabel(\"count\")\n",
    "plt.grid(axis=\"y\", alpha=0.3)\n",
    "plt.show()"
   ]
  },
  {
   "cell_type": "markdown",
   "metadata": {},
   "source": [
    "### <a id='toc2_6_2_'></a>[Bins, Range and Density Options](#toc0_)\n",
    "\n",
    "- `bins`: number of intervals to divide data\n",
    "- `range`: specify the lower and upper limits\n",
    "- `density`: normalize histogram to form a probability density\n",
    "- Multiple datasets can be plotted together using **transparency (`alpha`)**\n"
   ]
  },
  {
   "cell_type": "code",
   "execution_count": null,
   "metadata": {},
   "outputs": [],
   "source": [
    "x = np.linspace(-3, 3, 200)\n",
    "pdf = 1 / np.sqrt(2 * np.pi) * np.exp(-(x**2) / 2)"
   ]
  },
  {
   "cell_type": "code",
   "execution_count": null,
   "metadata": {},
   "outputs": [],
   "source": [
    "plt.hist(data, bins=40, range=(-3, 3), density=True, alpha=0.7)\n",
    "plt.plot(x, pdf, linewidth=2, label=\"true PDF\")\n",
    "plt.title(\"Histogram (density=True)\")\n",
    "plt.xlabel(\"value\")\n",
    "plt.ylabel(\"density\")\n",
    "plt.legend()\n",
    "plt.show()"
   ]
  },
  {
   "cell_type": "markdown",
   "metadata": {},
   "source": [
    "## <a id='toc2_7_'></a>[Box & Violin Plots](#toc0_)\n",
    "\n",
    "- Box and violin plots are used to visualize the **distribution and spread of data**.\n",
    "- They summarize key statistics like **median, quartiles, and outliers**.\n",
    "\n",
    "📝 Docs:\n",
    "- `matplotlib.pyplot.boxplot`: [matplotlib.org/stable/api/_as_gen/matplotlib.pyplot.boxplot.html](https://matplotlib.org/stable/api/_as_gen/matplotlib.pyplot.boxplot.html)\n",
    "- `matplotlib.pyplot.violinplot`: [matplotlib.org/stable/api/_as_gen/matplotlib.pyplot.violinplot.html](https://matplotlib.org/stable/api/_as_gen/matplotlib.pyplot.violinplot.html)\n",
    "- Box plot vs. violin plot comparison: [matplotlib.org/stable/gallery/statistics/boxplot_vs_violin.html](https://matplotlib.org/stable/gallery/statistics/boxplot_vs_violin.html)\n"
   ]
  },
  {
   "cell_type": "code",
   "execution_count": null,
   "metadata": {},
   "outputs": [],
   "source": [
    "# create artificial data\n",
    "groups = [rng.normal(loc=mu, scale=1.0, size=200) for mu in (0, 0.5, 1.5)]"
   ]
  },
  {
   "cell_type": "markdown",
   "metadata": {},
   "source": [
    "### <a id='toc2_7_1_'></a>[Box Plot for Distribution Summary](#toc0_)\n",
    "\n",
    "- Displays **median, quartiles, and potential outliers**\n",
    "- Useful for comparing distributions across categories\n",
    "- Highlights **skewness and spread** of the data\n"
   ]
  },
  {
   "cell_type": "code",
   "execution_count": null,
   "metadata": {},
   "outputs": [],
   "source": [
    "plt.boxplot(groups, tick_labels=[\"G0\", \"G1\", \"G2\"], notch=True)\n",
    "plt.title(\"Box Plot — group distributions\")\n",
    "plt.grid(axis=\"y\", alpha=0.3)\n",
    "plt.show()"
   ]
  },
  {
   "cell_type": "markdown",
   "metadata": {},
   "source": [
    "### <a id='toc2_7_2_'></a>[Violin Plot for Shape Visualization](#toc0_)\n",
    "\n",
    "- Combines **box plot and kernel density estimate**\n",
    "- Shows the **full distribution shape** along with summary statistics\n",
    "- Helpful to see **multi-modal distributions** or data density\n"
   ]
  },
  {
   "cell_type": "code",
   "execution_count": null,
   "metadata": {},
   "outputs": [],
   "source": [
    "plt.violinplot(groups, showmeans=True, showmedians=True)\n",
    "plt.xticks([1, 2, 3], [\"G0\", \"G1\", \"G2\"])\n",
    "plt.title(\"Violin Plot — shows shape of distribution\")\n",
    "plt.grid(axis=\"y\", alpha=0.3)\n",
    "plt.show()"
   ]
  },
  {
   "cell_type": "markdown",
   "metadata": {},
   "source": [
    "## <a id='toc2_8_'></a>[Pie Charts](#toc0_)\n",
    "\n",
    "- Pie charts are used to visualize **proportions or percentages** of a whole.\n",
    "- Each slice represents a category, and its size corresponds to the value relative to the total.\n",
    "\n",
    "📝 Docs:\n",
    "- `matplotlib.pyplot.pie`: [matplotlib.org/stable/api/_as_gen/matplotlib.pyplot.pie.html](https://matplotlib.org/stable/api/_as_gen/matplotlib.pyplot.pie.html)\n",
    "- Pie Charts: [matplotlib.org/stable/gallery/pie_and_polar_charts/pie_features.html](https://matplotlib.org/stable/gallery/pie_and_polar_charts/pie_features.html)\n"
   ]
  },
  {
   "cell_type": "code",
   "execution_count": null,
   "metadata": {},
   "outputs": [],
   "source": [
    "# create artificial data\n",
    "sizes = [15, 30, 45, 10]\n",
    "labels = [\"Cats\", \"Dogs\", \"Birds\", \"Others\"]"
   ]
  },
  {
   "cell_type": "markdown",
   "metadata": {},
   "source": [
    "### <a id='toc2_8_1_'></a>[Basic pie and donut chart](#toc0_)\n",
    "\n",
    "- Standard pie chart shows the fraction of each category\n",
    "- Donut chart is a pie chart with a **hollow center**\n",
    "- Useful for **composition analysis**\n"
   ]
  },
  {
   "cell_type": "code",
   "execution_count": null,
   "metadata": {},
   "outputs": [],
   "source": [
    "plt.pie(sizes, labels=labels, autopct=\"%1.1f%%\", startangle=90)\n",
    "plt.title(\"Pie / Donut Chart\")\n",
    "plt.axis(\"equal\")\n",
    "plt.show()"
   ]
  },
  {
   "cell_type": "markdown",
   "metadata": {},
   "source": [
    "### <a id='toc2_8_2_'></a>[Labeling and percentage display](#toc0_)\n",
    "\n",
    "- Labels can identify each category\n",
    "- Percentages can be displayed on slices\n",
    "- Can highlight slices using **explode** or color variations\n"
   ]
  },
  {
   "cell_type": "code",
   "execution_count": null,
   "metadata": {},
   "outputs": [],
   "source": [
    "explode = (0, 0.1, 0, 0)\n",
    "plt.pie(sizes, labels=labels, autopct=\"%1.1f%%\", startangle=90, explode=explode, pctdistance=0.8)\n",
    "plt.title(\"Pie Chart with explosion & percents\")\n",
    "plt.axis(\"equal\")\n",
    "plt.show()"
   ]
  }
 ],
 "metadata": {
  "author_email": "AmirhosseinHeydari78@gmail.com",
  "author_github": "https://github.com/mr-pylin",
  "author_name": "Amirhossein Heydari",
  "kernelspec": {
   "display_name": "data-visualization-workshop (3.13.7)",
   "language": "python",
   "name": "python3"
  },
  "language_info": {
   "codemirror_mode": {
    "name": "ipython",
    "version": 3
   },
   "file_extension": ".py",
   "mimetype": "text/x-python",
   "name": "python",
   "nbconvert_exporter": "python",
   "pygments_lexer": "ipython3",
   "version": "3.13.7"
  },
  "origin_repo": "https://github.com/mr-pylin/matplotlib-workshop"
 },
 "nbformat": 4,
 "nbformat_minor": 2
}
