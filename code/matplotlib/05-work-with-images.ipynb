{
 "cells": [
  {
   "cell_type": "markdown",
   "metadata": {},
   "source": [
    "📝 **Author:** Amirhossein Heydari - 📧 **Email:** AmirhosseinHeydari78@gmail.com - 📍 **Linktree:** [linktr.ee/mr_pylin](https://linktr.ee/mr_pylin)\n",
    "\n",
    "---"
   ]
  },
  {
   "cell_type": "markdown",
   "metadata": {},
   "source": [
    "# Dependencies"
   ]
  },
  {
   "cell_type": "code",
   "execution_count": null,
   "metadata": {},
   "outputs": [],
   "source": [
    "from pathlib import Path\n",
    "\n",
    "import matplotlib.pyplot as plt"
   ]
  },
  {
   "cell_type": "markdown",
   "metadata": {},
   "source": [
    "## Working with Images\n",
    "   - You can use `imread()` to read images in Matplotlib.\n",
    "   - You can use `imshow()` to display images in Matplotlib.\n",
    "   - You can use `imsave()` to save images in Matplotlib.\n",
    "\n",
    "📝 Docs:\n",
    "   - `matplotlib.pyplot.imshow`: [matplotlib.org/stable/api/_as_gen/matplotlib.pyplot.imshow.html](https://matplotlib.org/stable/api/_as_gen/matplotlib.pyplot.imshow.html)\n",
    "   - `matplotlib.pyplot.imread`: [matplotlib.org/stable/api/_as_gen/matplotlib.pyplot.imread.html](https://matplotlib.org/stable/api/_as_gen/matplotlib.pyplot.imread.html)\n",
    "   - `matplotlib.pyplot.imsave`: [matplotlib.org/stable/api/_as_gen/matplotlib.pyplot.imsave.html](https://matplotlib.org/stable/api/_as_gen/matplotlib.pyplot.imsave.html)"
   ]
  },
  {
   "cell_type": "code",
   "execution_count": null,
   "metadata": {},
   "outputs": [],
   "source": [
    "# plt.imread Returns np.ndarray\n",
    "image_1 = plt.imread(fname=\"../../assets/images/dip_3rd/CH02_Fig0222(b)(cameraman).tif\")\n",
    "image_2 = plt.imread(fname=\"../../assets/images/dip_3rd/CH06_Fig0638(a)(lenna_RGB).tif\")\n",
    "image_3 = plt.imread(fname=\"../../assets/images/misc/lenna_rgba.png\")\n",
    "image_4 = plt.imread(fname=\"../../assets/images/original/test.tif\")\n",
    "\n",
    "\n",
    "# plot\n",
    "fig, axs = plt.subplots(nrows=1, ncols=4, figsize=(16, 5), layout=\"compressed\")\n",
    "fig.suptitle(\"Read/Load Images using matplotlib package\")\n",
    "axs[0].imshow(image_1, cmap=\"gray\")\n",
    "axs[0].set_title(\"cameraman.tif\")\n",
    "axs[1].imshow(image_2)\n",
    "axs[1].set_title(\"lenna.tif\")\n",
    "axs[2].imshow(image_3)\n",
    "axs[2].set_title(\"lenna_rgb_2.png\")\n",
    "axs[3].imshow(image_4, cmap=\"gray\")\n",
    "axs[3].set_title(\"test.tif.png\")\n",
    "plt.show()"
   ]
  },
  {
   "cell_type": "markdown",
   "metadata": {},
   "source": [
    "## Colormaps\n",
    "   - Colormaps are used to map the data values (typically 1D images) to colors. Matplotlib has a variety of built-in colormaps.\n",
    "   - list of colormaps: [matplotlib.org/stable/users/explain/colors/colormaps.html](https://matplotlib.org/stable/users/explain/colors/colormaps.html)"
   ]
  },
  {
   "cell_type": "code",
   "execution_count": null,
   "metadata": {},
   "outputs": [],
   "source": [
    "colormaps = [\"viridis\", \"plasma\", \"inferno\"]\n",
    "fig, axs = plt.subplots(1, 3, figsize=(15, 5))\n",
    "\n",
    "for ax, cmap in zip(axs, colormaps):\n",
    "    ax.imshow(image_1, cmap=cmap)\n",
    "    ax.set_title(cmap)\n",
    "    ax.axis(\"off\")\n",
    "\n",
    "plt.show()"
   ]
  },
  {
   "cell_type": "code",
   "execution_count": null,
   "metadata": {},
   "outputs": [],
   "source": [
    "colormaps = [\"Reds\", \"Greens\", \"Blues\"]\n",
    "fig, axs = plt.subplots(1, 3, figsize=(15, 5))\n",
    "\n",
    "for i, cmap in enumerate(colormaps):\n",
    "    axs[i].imshow(image_2[:, :, i], cmap=cmap)\n",
    "    axs[i].set_title(cmap)\n",
    "    axs[i].axis(\"off\")\n",
    "\n",
    "plt.show()"
   ]
  },
  {
   "cell_type": "markdown",
   "metadata": {},
   "source": [
    "## Colorbars\n",
    "   - Colorbars provide a scale to understand the mapping of data values to colors."
   ]
  },
  {
   "cell_type": "code",
   "execution_count": null,
   "metadata": {},
   "outputs": [],
   "source": [
    "plt.imshow(image_1, cmap=\"grey\")\n",
    "plt.title(\"Image with Colorbar\")\n",
    "plt.colorbar()\n",
    "plt.show()"
   ]
  },
  {
   "cell_type": "code",
   "execution_count": null,
   "metadata": {},
   "outputs": [],
   "source": [
    "colormaps = [\"Reds\", \"Greens\", \"Blues\"]\n",
    "fig, axs = plt.subplots(1, 3, figsize=(15, 5))\n",
    "\n",
    "for i, cmap in enumerate(colormaps):\n",
    "    im = axs[i].imshow(image_2[:, :, i], cmap=cmap)\n",
    "    axs[i].set_title(cmap)\n",
    "    axs[i].axis(\"off\")\n",
    "    fig.colorbar(im, ax=axs[i], orientation=\"horizontal\")\n",
    "\n",
    "plt.show()"
   ]
  },
  {
   "cell_type": "markdown",
   "metadata": {},
   "source": [
    "## save images"
   ]
  },
  {
   "cell_type": "code",
   "execution_count": null,
   "metadata": {},
   "outputs": [],
   "source": [
    "output_path = Path(\"../../output/images\")\n",
    "output_path.mkdir(parents=True, exist_ok=True)"
   ]
  },
  {
   "cell_type": "code",
   "execution_count": null,
   "metadata": {},
   "outputs": [],
   "source": [
    "colormaps = [\"Reds\", \"Greens\", \"Blues\"]\n",
    "for i, cmap in enumerate(colormaps):\n",
    "    plt.imsave(f\"../../output/images/{cmap}.png\", image_2[:, :, i], cmap=cmap)"
   ]
  }
 ],
 "metadata": {
  "author_email": "AmirhosseinHeydari78@gmail.com",
  "author_github": "https://github.com/mr-pylin",
  "author_name": "Amirhossein Heydari",
  "kernelspec": {
   "display_name": "data-visualization-workshop-EqKdV4_h-py3.13",
   "language": "python",
   "name": "python3"
  },
  "language_info": {
   "codemirror_mode": {
    "name": "ipython",
    "version": 3
   },
   "file_extension": ".py",
   "mimetype": "text/x-python",
   "name": "python",
   "nbconvert_exporter": "python",
   "pygments_lexer": "ipython3",
   "version": "3.13.1"
  },
  "origin_repo": "https://github.com/mr-pylin/matplotlib-workshop"
 },
 "nbformat": 4,
 "nbformat_minor": 2
}
