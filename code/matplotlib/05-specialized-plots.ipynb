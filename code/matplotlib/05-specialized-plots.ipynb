{
 "cells": [
  {
   "cell_type": "markdown",
   "metadata": {},
   "source": [
    "<div style=\"display: flex; justify-content: space-between; align-items: center;\">\n",
    "    <div style=\"text-align: left; flex: 4;\">\n",
    "        <strong>Author:</strong> Amirhossein Heydari — \n",
    "        📧 <a href=\"mailto:amirhosseinheydari78@gmail.com\">amirhosseinheydari78@gmail.com</a> — \n",
    "        🐙 <a href=\"https://github.com/mr-pylin/data-visualization-workshop\" target=\"_blank\" rel=\"noopener\">github.com/mr-pylin</a>\n",
    "    </div>\n",
    "    <div style=\"display: flex; justify-content: flex-end; flex: 1; gap: 8px; align-items: center; padding: 0;\">\n",
    "        <a href=\"https://matplotlib.org/\" target=\"_blank\" rel=\"noopener noreferrer\">\n",
    "            <img src=\"../../assets/images/libraries/matplotlib/logo/Matplotlib_icon.svg\"\n",
    "                 alt=\"Matplotlib Logo\"\n",
    "                 style=\"max-height: 48px; width: auto;\">\n",
    "        </a>\n",
    "        <a href=\"https://seaborn.pydata.org/\" target=\"_blank\" rel=\"noopener noreferrer\">\n",
    "            <img src=\"../../assets/images/libraries/seaborn/logo/logo-mark-lightbg.svg\"\n",
    "                 alt=\"Seaborn Logo\"\n",
    "                 style=\"max-height: 48px; width: auto;\">\n",
    "        </a>\n",
    "        <a href=\"https://plotly.com/python/\" target=\"_blank\" rel=\"noopener noreferrer\">\n",
    "            <img src=\"../../assets/images/libraries/plotly/logo/Plotly-Logo-White copy.svg\"\n",
    "                 alt=\"Plotly Logo\"\n",
    "                 style=\"max-height: 48px; width: auto; background-color: #1f1f1f; border-radius: 8px;\">\n",
    "        </a>\n",
    "    </div>\n",
    "</div>\n",
    "<hr>\n"
   ]
  },
  {
   "cell_type": "markdown",
   "metadata": {},
   "source": [
    "**Table of contents**<a id='toc0_'></a>    \n",
    "- [Dependencies](#toc1_)    \n",
    "- [Specialized Plots](#toc2_)    \n",
    "  - [Statistical and Density Visualizations](#toc2_1_)    \n",
    "    - [2D Histogram](#toc2_1_1_)    \n",
    "    - [Hexbin Plot](#toc2_1_2_)    \n",
    "  - [Time Series Visualization](#toc2_2_)    \n",
    "    - [Line Plot with Date Axes](#toc2_2_1_)    \n",
    "    - [Formatting Time Axes](#toc2_2_2_)    \n",
    "    - [Annotating Events](#toc2_2_3_)    \n",
    "  - [Polar and Radar Plots](#toc2_3_)    \n",
    "    - [Polar Coordinates](#toc2_3_1_)    \n",
    "    - [Radar/Spider Chart Construction](#toc2_3_2_)    \n",
    "  - [3D Visualizations](#toc2_4_)    \n",
    "    - [3D Line and Scatter Plots](#toc2_4_1_)    \n",
    "    - [3D Surface, Wireframe, and Contour Plots](#toc2_4_2_)    \n",
    "  - [Vector and Field Visualizations](#toc2_5_)    \n",
    "    - [Quiver Plots (Vector Fields)](#toc2_5_1_)    \n",
    "    - [Stream Plots (Flow Visualization)](#toc2_5_2_)    \n",
    "  - [Image and Matrix Representations](#toc2_6_)    \n",
    "    - [Image Display](#toc2_6_1_)    \n",
    "    - [Heatmaps](#toc2_6_2_)    \n",
    "  - [Specialized Scientific/Engineering Use Cases](#toc2_7_)    \n",
    "    - [Signal Processing Example (Spectrogram)](#toc2_7_1_)    \n",
    "    - [Physics/Fluid Dynamics Example (Streamlines)](#toc2_7_2_)    \n",
    "    - [Data Correlation Heatmap Example](#toc2_7_3_)    \n",
    "\n",
    "<!-- vscode-jupyter-toc-config\n",
    "\tnumbering=false\n",
    "\tanchor=true\n",
    "\tflat=false\n",
    "\tminLevel=1\n",
    "\tmaxLevel=6\n",
    "\t/vscode-jupyter-toc-config -->\n",
    "<!-- THIS CELL WILL BE REPLACED ON TOC UPDATE. DO NOT WRITE YOUR TEXT IN THIS CELL -->"
   ]
  },
  {
   "cell_type": "markdown",
   "metadata": {},
   "source": [
    "# <a id='toc1_'></a>[Dependencies](#toc0_)"
   ]
  },
  {
   "cell_type": "code",
   "execution_count": null,
   "metadata": {},
   "outputs": [],
   "source": [
    "import matplotlib.dates as mdates\n",
    "import matplotlib.pyplot as plt\n",
    "import numpy as np\n",
    "import pandas as pd"
   ]
  },
  {
   "cell_type": "code",
   "execution_count": null,
   "metadata": {},
   "outputs": [],
   "source": [
    "rng = np.random.default_rng(seed=42)"
   ]
  },
  {
   "cell_type": "markdown",
   "metadata": {},
   "source": [
    "# <a id='toc2_'></a>[Specialized Plots](#toc0_)\n"
   ]
  },
  {
   "cell_type": "markdown",
   "metadata": {},
   "source": [
    "## <a id='toc2_1_'></a>[Statistical and Density Visualizations](#toc0_)\n",
    "\n",
    "- These plots help reveal **point density, clustering, and distribution structure** in two dimensions.\n",
    "- They are useful when scatter plots become cluttered or when you want a smoothed estimate of density.\n",
    "\n",
    "📝 Docs:\n",
    "- `matplotlib.pyplot.hist2d`: [matplotlib.org/stable/api/_as_gen/matplotlib.pyplot.hist2d.html](https://matplotlib.org/stable/api/_as_gen/matplotlib.pyplot.hist2d.html)\n",
    "- `matplotlib.pyplot.hexbin`: [httpsmatplotlib.org/stable/api/_as_gen/matplotlib.pyplot.hexbin.html](https://matplotlib.org/stable/api/_as_gen/matplotlib.pyplot.hexbin.html)\n"
   ]
  },
  {
   "cell_type": "code",
   "execution_count": null,
   "metadata": {},
   "outputs": [],
   "source": [
    "x = rng.normal(loc=0.0, scale=1.0, size=10000)\n",
    "y = 0.5 * x + rng.normal(scale=0.8, size=10000)"
   ]
  },
  {
   "cell_type": "markdown",
   "metadata": {},
   "source": [
    "### <a id='toc2_1_1_'></a>[2D Histogram](#toc0_)\n",
    "\n",
    "- Aggregates points into a 2D grid of bins and displays counts as colored cells\n",
    "- Good for exploring **joint distributions** of two variables when there are many points\n",
    "- Control binning resolution and normalization to emphasize structure\n"
   ]
  },
  {
   "cell_type": "code",
   "execution_count": null,
   "metadata": {},
   "outputs": [],
   "source": [
    "plt.figure(figsize=(6, 4))\n",
    "plt.hist2d(x, y, bins=60)\n",
    "plt.title(\"2D Histogram (hist2d)\")\n",
    "plt.xlabel(\"x\")\n",
    "plt.ylabel(\"y\")\n",
    "plt.colorbar(label=\"counts\")\n",
    "plt.show()"
   ]
  },
  {
   "cell_type": "markdown",
   "metadata": {},
   "source": [
    "### <a id='toc2_1_2_'></a>[Hexbin Plot](#toc0_)\n",
    "\n",
    "- Similar to 2D histogram but uses **hexagonal bins**, which reduce visual bias from square bins\n",
    "- Often clearer for dense scatter data and better for interpolation or smoothing comparisons\n",
    "- Useful options: `gridsize`, `mincnt`, and `reduce_C_function` for aggregation\n"
   ]
  },
  {
   "cell_type": "code",
   "execution_count": null,
   "metadata": {},
   "outputs": [],
   "source": [
    "plt.figure(figsize=(6, 4))\n",
    "plt.hexbin(x, y, gridsize=50)\n",
    "plt.title(\"Hexbin plot\")\n",
    "plt.xlabel(\"x\")\n",
    "plt.ylabel(\"y\")\n",
    "plt.colorbar(label=\"counts\")\n",
    "plt.show()"
   ]
  },
  {
   "cell_type": "markdown",
   "metadata": {},
   "source": [
    "## <a id='toc2_2_'></a>[Time Series Visualization](#toc0_)\n",
    "\n",
    "- Time series plots are designed to **display data points ordered in time**, highlighting trends, seasonality, and events.\n",
    "- Matplotlib provides flexible support for date/time axes and formatting.\n",
    "\n",
    "📝 Docs:\n",
    "- `matplotlib.pyplot.plot_date`: [matplotlib.org/stable/api/_as_gen/matplotlib.pyplot.plot_date.html](https://matplotlib.org/stable/api/_as_gen/matplotlib.pyplot.plot_date.html)\n",
    "- `matplotlib.dates`: [matplotlib.org/stable/api/dates_api.html](https://matplotlib.org/stable/api/dates_api.html)\n",
    "- `matplotlib.pyplot.axvline`: [matplotlib.org/stable/api/_as_gen/matplotlib.pyplot.axvline.html](https://matplotlib.org/stable/api/_as_gen/matplotlib.pyplot.axvline.html)\n",
    "- `matplotlib.pyplot.axvspan`: [matplotlib.org/stable/api/_as_gen/matplotlib.pyplot.axvspan.html](https://matplotlib.org/stable/api/_as_gen/matplotlib.pyplot.axvspan.html)\n",
    "- `matplotlib.pyplot.annotate`: [matplotlib.org/stable/api/_as_gen/matplotlib.pyplot.annotate.html](https://matplotlib.org/stable/api/_as_gen/matplotlib.pyplot.annotate.html)\n"
   ]
  },
  {
   "cell_type": "code",
   "execution_count": null,
   "metadata": {},
   "outputs": [],
   "source": [
    "dates = pd.date_range(start=\"2024-01-01\", periods=200, freq=\"D\")\n",
    "ts = pd.Series(np.cumsum(np.random.randn(len(dates))), index=dates)"
   ]
  },
  {
   "cell_type": "markdown",
   "metadata": {},
   "source": [
    "### <a id='toc2_2_1_'></a>[Line Plot with Date Axes](#toc0_)\n",
    "\n",
    "- Dates can be plotted directly using `datetime` objects or `numpy.datetime64`\n",
    "- Ideal for stock prices, sensor readings, or any temporal data\n",
    "- Handles missing dates and unevenly spaced time points\n"
   ]
  },
  {
   "cell_type": "code",
   "execution_count": null,
   "metadata": {},
   "outputs": [],
   "source": [
    "plt.figure(figsize=(10, 3))\n",
    "plt.plot(ts.index, ts.values)\n",
    "plt.title(\"Time series: line plot with date axis\")\n",
    "plt.xlabel(\"Date\")\n",
    "plt.ylabel(\"Value\")\n",
    "plt.gcf().autofmt_xdate()\n",
    "plt.show()"
   ]
  },
  {
   "cell_type": "markdown",
   "metadata": {},
   "source": [
    "### <a id='toc2_2_2_'></a>[Formatting Time Axes](#toc0_)\n",
    "\n",
    "- `matplotlib.dates` module provides locators and formatters to customize tick positions and labels\n",
    "- Common locators: `DayLocator`, `MonthLocator`, `YearLocator`\n",
    "- Common formatters: `DateFormatter` for custom string representation\n",
    "- Combine with `autofmt_xdate()` to automatically rotate and format date labels\n"
   ]
  },
  {
   "cell_type": "code",
   "execution_count": null,
   "metadata": {},
   "outputs": [],
   "source": [
    "plt.figure(figsize=(10, 3))\n",
    "plt.plot(ts.index, ts.values)\n",
    "ax = plt.gca()\n",
    "ax.xaxis.set_major_locator(mdates.MonthLocator(interval=2))\n",
    "ax.xaxis.set_major_formatter(mdates.DateFormatter(\"%b %Y\"))\n",
    "plt.title(\"Time series with formatted date ticks (every 2 months)\")\n",
    "plt.gcf().autofmt_xdate()\n",
    "plt.show()"
   ]
  },
  {
   "cell_type": "markdown",
   "metadata": {},
   "source": [
    "### <a id='toc2_2_3_'></a>[Annotating Events](#toc0_)\n",
    "\n",
    "- Highlight important dates or periods using `axvline()`, `axvspan()`, or `annotate()`\n",
    "- Useful for **economic events, experimental milestones, or threshold crossings**\n",
    "- Annotations improve interpretability without cluttering the main data series\n"
   ]
  },
  {
   "cell_type": "code",
   "execution_count": null,
   "metadata": {},
   "outputs": [],
   "source": [
    "events = [(\"Start campaign\", dates[30]), (\"Release v1.0\", dates[115]), (\"Anomaly\", dates[150])]\n",
    "plt.figure(figsize=(10, 3))\n",
    "plt.plot(ts.index, ts.values)\n",
    "for label, dt in events:\n",
    "    plt.axvline(dt, linestyle=\"--\", linewidth=1)\n",
    "    plt.annotate(\n",
    "        label, xy=(dt, ts.loc[dt]), xytext=(dt, ts.loc[dt] + 4), arrowprops=dict(arrowstyle=\"->\", linewidth=0.8)\n",
    "    )\n",
    "plt.title(\"Time series with annotated events\")\n",
    "plt.gcf().autofmt_xdate()\n",
    "plt.show()"
   ]
  },
  {
   "cell_type": "markdown",
   "metadata": {},
   "source": [
    "## <a id='toc2_3_'></a>[Polar and Radar Plots](#toc0_)\n",
    "\n",
    "- Polar and radar plots are used to **visualize data in circular coordinates**, ideal for directional, cyclical, or multivariate data.\n",
    "\n",
    "📝 Docs:\n",
    "- Polar Plot: [matplotlib.org/stable/gallery/pie_and_polar_charts/polar_demo.html](https://matplotlib.org/stable/gallery/pie_and_polar_charts/polar_demo.html)\n",
    "- `Axes.polar`: [matplotlib.org/stable/api/axes_api.html#matplotlib.axes.Axes.polar](https://matplotlib.org/stable/api/axes_api.html#matplotlib.axes.Axes.polar)\n",
    "- Radar Chart: [matplotlib.org/stable/gallery/specialty_plots/radar_chart.html](https://matplotlib.org/stable/gallery/specialty_plots/radar_chart.html)\n"
   ]
  },
  {
   "cell_type": "markdown",
   "metadata": {},
   "source": [
    "### <a id='toc2_3_1_'></a>[Polar Coordinates](#toc0_)\n",
    "\n",
    "- Use `subplot(projection='polar')` to create a polar plot\n",
    "- Angles (`theta`) are in radians, radius (`r`) represents magnitude\n",
    "- Supports line plots, scatter plots, and bar-like representations in polar coordinates\n",
    "- Common for **wind directions, phase plots, and circular statistics**\n"
   ]
  },
  {
   "cell_type": "code",
   "execution_count": null,
   "metadata": {},
   "outputs": [],
   "source": [
    "theta = np.linspace(0, 2 * np.pi, 200)\n",
    "r = 1 + 0.5 * np.sin(6 * theta)\n",
    "plt.figure(figsize=(5, 5))\n",
    "ax = plt.subplot(projection=\"polar\")\n",
    "ax.plot(theta, r)\n",
    "ax.set_title(\"Polar plot example\")\n",
    "plt.show()"
   ]
  },
  {
   "cell_type": "markdown",
   "metadata": {},
   "source": [
    "### <a id='toc2_3_2_'></a>[Radar/Spider Chart Construction](#toc0_)\n",
    "\n",
    "- Useful for comparing **multivariate data across multiple categories**\n",
    "- Constructed by plotting points on axes radiating from a central point and connecting them\n",
    "- Can customize **gridlines, labels, and filled areas**\n",
    "- Common in **performance metrics, skill assessment, or survey results**\n"
   ]
  },
  {
   "cell_type": "code",
   "execution_count": null,
   "metadata": {},
   "outputs": [],
   "source": [
    "labels = [\"Speed\", \"Accuracy\", \"Robustness\", \"Latency\", \"Memory\"]\n",
    "N = len(labels)\n",
    "values = [0.8, 0.6, 0.9, 0.5, 0.7]\n",
    "angles = np.linspace(0, 2 * np.pi, N, endpoint=False).tolist()\n",
    "# close the loop\n",
    "values_loop = values + [values[0]]\n",
    "angles_loop = np.concatenate([angles, [angles[0]]])"
   ]
  },
  {
   "cell_type": "code",
   "execution_count": null,
   "metadata": {},
   "outputs": [],
   "source": [
    "plt.figure(figsize=(5, 5))\n",
    "ax = plt.subplot(projection=\"polar\")\n",
    "ax.plot(angles_loop, values_loop, linewidth=1)\n",
    "ax.fill(angles_loop, values_loop, alpha=0.25)\n",
    "ax.set_xticks(angles)\n",
    "ax.set_xticklabels(labels)\n",
    "ax.set_title(\"Radar / Spider chart\")\n",
    "ax.set_ylim(0, 1)\n",
    "plt.show()"
   ]
  },
  {
   "cell_type": "markdown",
   "metadata": {},
   "source": [
    "## <a id='toc2_4_'></a>[3D Visualizations](#toc0_)\n",
    "\n",
    "- Matplotlib supports **3D plotting** via `mpl_toolkits.mplot3d`, allowing exploration of surfaces, lines, and scatter data in three dimensions.\n",
    "\n",
    "📝 Docs:\n",
    "\n",
    "- 3D plotting: [matplotlib.org/stable/gallery/mplot3d/index.html](https://matplotlib.org/stable/gallery/mplot3d/index.html)\n",
    "- `Axes3D.plot_surface`: [matplotlib.org/stable/api/_as_gen/mpl_toolkits.mplot3d.axes3d.Axes3D.plot_surface.html](https://matplotlib.org/stable/api/_as_gen/mpl_toolkits.mplot3d.axes3d.Axes3D.plot_surface.html)\n",
    "- `Axes3D.plot_wireframe`: [matplotlib.org/stable/api/_as_gen/mpl_toolkits.mplot3d.axes3d.Axes3D.plot_wireframe.html](https://matplotlib.org/stable/api/_as_gen/mpl_toolkits.mplot3d.axes3d.Axes3D.plot_wireframe.html)\n",
    "- Plot contour (level) curves in 3D: [matplotlib.org/stable/gallery/mplot3d/contour3d.html](https://matplotlib.org/stable/gallery/mplot3d/contour3d.html)\n",
    "- `Axes3D.view_init`: [matplotlib.org/stable/api/_as_gen/mpl_toolkits.mplot3d.axes3d.Axes3D.view_init.html](https://matplotlib.org/stable/api/_as_gen/mpl_toolkits.mplot3d.axes3d.Axes3D.view_init.html)\n",
    "- Choosing Colormaps: [matplotlib.org/stable/tutorials/colors/colormaps.html](https://matplotlib.org/stable/tutorials/colors/colormaps.html)\n"
   ]
  },
  {
   "cell_type": "markdown",
   "metadata": {},
   "source": [
    "### <a id='toc2_4_1_'></a>[3D Line and Scatter Plots](#toc0_)\n",
    "\n",
    "- Use `Axes3D` projection (`projection='3d'`) for 3D axes\n",
    "- `plot3D()` and `scatter3D()` create lines and scatter points in 3D space\n",
    "- Useful for **trajectories, spatial data, and multidimensional trends**\n"
   ]
  },
  {
   "cell_type": "code",
   "execution_count": null,
   "metadata": {},
   "outputs": [],
   "source": [
    "t = np.linspace(0, 10, 400)\n",
    "x3 = np.sin(t)\n",
    "y3 = np.cos(t)\n",
    "z3 = t\n",
    "fig = plt.figure(figsize=(6, 4))\n",
    "ax3 = fig.add_subplot(111, projection=\"3d\")\n",
    "ax3.plot(x3, y3, z3, linewidth=1)\n",
    "ax3.scatter(x3[::20], y3[::20], z3[::20], s=20)\n",
    "ax3.set_title(\"3D line and scatter\")\n",
    "ax3.set_xlabel(\"X\")\n",
    "ax3.set_ylabel(\"Y\")\n",
    "ax3.set_zlabel(\"Z (t)\")\n",
    "plt.show()"
   ]
  },
  {
   "cell_type": "markdown",
   "metadata": {},
   "source": [
    "### <a id='toc2_4_2_'></a>[3D Surface, Wireframe, and Contour Plots](#toc0_)\n",
    "\n",
    "- `plot_surface()` for colored 3D surfaces\n",
    "- `plot_wireframe()` for skeletal wireframe representation\n",
    "- `contour3D()` for 3D contour visualization\n",
    "- Color maps and shading enhance **depth perception and pattern recognition**\n"
   ]
  },
  {
   "cell_type": "code",
   "execution_count": null,
   "metadata": {},
   "outputs": [],
   "source": [
    "X = np.linspace(-3, 3, 80)\n",
    "Y = np.linspace(-3, 3, 80)\n",
    "Xg, Yg = np.meshgrid(X, Y)\n",
    "Z = np.exp(-0.5 * (Xg**2 + Yg**2)) * np.cos(2 * Xg) * np.sin(2 * Yg)"
   ]
  },
  {
   "cell_type": "code",
   "execution_count": null,
   "metadata": {},
   "outputs": [],
   "source": [
    "fig = plt.figure(figsize=(8, 4))\n",
    "ax_surf = fig.add_subplot(121, projection=\"3d\")\n",
    "ax_surf.plot_surface(Xg, Yg, Z, rstride=2, cstride=2, linewidth=0, antialiased=True)\n",
    "ax_surf.set_title(\"3D surface\")\n",
    "ax_surf.set_zlim(-1, 1)\n",
    "\n",
    "ax_wire = fig.add_subplot(122, projection=\"3d\")\n",
    "ax_wire.plot_wireframe(Xg, Yg, Z, rstride=6, cstride=6)\n",
    "ax_wire.set_title(\"3D wireframe\")\n",
    "plt.tight_layout()\n",
    "plt.show()"
   ]
  },
  {
   "cell_type": "code",
   "execution_count": null,
   "metadata": {},
   "outputs": [],
   "source": [
    "plt.figure(figsize=(6, 4))\n",
    "cs = plt.contour(Xg, Yg, Z, levels=12)\n",
    "plt.clabel(cs, inline=True, fontsize=8)\n",
    "plt.title(\"Contour plot\")\n",
    "plt.show()"
   ]
  },
  {
   "cell_type": "code",
   "execution_count": null,
   "metadata": {},
   "outputs": [],
   "source": [
    "plt.figure(figsize=(6, 4))\n",
    "plt.contourf(Xg, Yg, Z, levels=20)\n",
    "plt.title(\"Filled contour (contourf)\")\n",
    "plt.colorbar(label=\"Z\")\n",
    "plt.show()"
   ]
  },
  {
   "cell_type": "markdown",
   "metadata": {},
   "source": [
    "## <a id='toc2_5_'></a>[Vector and Field Visualizations](#toc0_)\n",
    "\n",
    "- Vector and field plots are used to **represent magnitude and direction**, commonly in physics, engineering, and fluid dynamics.\n",
    "\n",
    "📝 Docs:\n",
    "- `matplotlib.pyplot.quiver`: [matplotlib.org/stable/api/_as_gen/matplotlib.pyplot.quiver.html](https://matplotlib.org/stable/api/_as_gen/matplotlib.pyplot.quiver.html)\n",
    "- `matplotlib.pyplot.streamplot`: [matplotlib.org/stable/api/_as_gen/matplotlib.pyplot.streamplot.html](https://matplotlib.org/stable/api/_as_gen/matplotlib.pyplot.streamplot.html)\n"
   ]
  },
  {
   "cell_type": "code",
   "execution_count": null,
   "metadata": {},
   "outputs": [],
   "source": [
    "xq = np.linspace(-2, 2, 20)\n",
    "yq = np.linspace(-2, 2, 20)\n",
    "Xq, Yq = np.meshgrid(xq, yq)\n",
    "U = -Yq\n",
    "V = Xq"
   ]
  },
  {
   "cell_type": "markdown",
   "metadata": {},
   "source": [
    "### <a id='toc2_5_1_'></a>[Quiver Plots (Vector Fields)](#toc0_)\n",
    "\n",
    "- `quiver()` displays vectors as arrows at specified points (x, y)\n",
    "- Useful for **velocity fields, force directions, and gradient visualizations**\n",
    "- Arrow length and color can encode magnitude or additional variables\n"
   ]
  },
  {
   "cell_type": "code",
   "execution_count": null,
   "metadata": {},
   "outputs": [],
   "source": [
    "plt.figure(figsize=(5, 5))\n",
    "plt.quiver(Xq, Yq, U, V, color=\"w\")\n",
    "plt.title(\"Quiver plot: simple rotational field\")\n",
    "plt.xlabel(\"x\")\n",
    "plt.ylabel(\"y\")\n",
    "plt.axis(\"equal\")\n",
    "plt.show()"
   ]
  },
  {
   "cell_type": "markdown",
   "metadata": {},
   "source": [
    "### <a id='toc2_5_2_'></a>[Stream Plots (Flow Visualization)](#toc0_)\n",
    "\n",
    "- `streamplot()` visualizes vector fields as **continuous streamlines**\n",
    "- Shows flow direction and relative speed through density and line thickness\n",
    "- Ideal for **fluid flow, wind patterns, and electromagnetic fields**\n"
   ]
  },
  {
   "cell_type": "code",
   "execution_count": null,
   "metadata": {},
   "outputs": [],
   "source": [
    "plt.figure(figsize=(5, 5))\n",
    "plt.streamplot(Xq, Yq, U, V, density=1.2)\n",
    "plt.title(\"Streamplot: streamlines of the same rotational field\")\n",
    "plt.xlabel(\"x\")\n",
    "plt.ylabel(\"y\")\n",
    "plt.axis(\"equal\")\n",
    "plt.show()"
   ]
  },
  {
   "cell_type": "markdown",
   "metadata": {},
   "source": [
    "## <a id='toc2_6_'></a>[Image and Matrix Representations](#toc0_)\n",
    "\n",
    "- Matplotlib can display **2D arrays, matrices, and images**, making it suitable for scientific, engineering, and data analysis applications.\n",
    "- For detailed info about image representation, check [**Media Processing Workshop**](https://github.com/mr-pylin/media-processing-workshop) repository.\n",
    "\n",
    "📝 Docs:\n",
    "- `matplotlib.pyplot.imshow`: [matplotlib.org/stable/api/_as_gen/matplotlib.pyplot.imshow.html](https://matplotlib.org/stable/api/_as_gen/matplotlib.pyplot.imshow.html)\n",
    "- `matplotlib.pyplot.matshow`: [matplotlib.org/stable/api/_as_gen/matplotlib.pyplot.matshow.html](https://matplotlib.org/stable/api/_as_gen/matplotlib.pyplot.matshow.html)\n",
    "- `matplotlib.pyplot.pcolormesh`: [matplotlib.org/stable/api/_as_gen/matplotlib.pyplot.pcolormesh.html](https://matplotlib.org/stable/api/_as_gen/matplotlib.pyplot.pcolormesh.html)\n",
    "- `matplotlib.pyplot.contour`: [matplotlib.org/stable/api/_as_gen/matplotlib.pyplot.contour.html](https://matplotlib.org/stable/api/_as_gen/matplotlib.pyplot.contour.html)\n",
    "- `matplotlib.pyplot.contourf`: [matplotlib.org/stable/api/_as_gen/matplotlib.pyplot.contourf.html](https://matplotlib.org/stable/api/_as_gen/matplotlib.pyplot.contourf.html)\n"
   ]
  },
  {
   "cell_type": "markdown",
   "metadata": {},
   "source": [
    "### <a id='toc2_6_1_'></a>[Image Display](#toc0_)\n",
    "\n",
    "- Displays a 2D array as an image with color mapping\n",
    "- Supports grayscale, RGB, or RGBA arrays\n",
    "- Useful for **images, heatmaps, or numerical data visualization**\n",
    "- Can customize colormaps, interpolation, and aspect ratio\n"
   ]
  },
  {
   "cell_type": "code",
   "execution_count": null,
   "metadata": {},
   "outputs": [],
   "source": [
    "img = plt.imread(\"../../../assets/images/libraries/matplotlib/gallery/anatomy.png\")"
   ]
  },
  {
   "cell_type": "code",
   "execution_count": null,
   "metadata": {},
   "outputs": [],
   "source": [
    "plt.figure(figsize=(9, 8))\n",
    "plt.imshow(img)\n",
    "plt.title(\"Image display (imshow)\")\n",
    "plt.xlabel(\"x\")\n",
    "plt.ylabel(\"y\")\n",
    "plt.axis(\"off\")\n",
    "plt.show()"
   ]
  },
  {
   "cell_type": "markdown",
   "metadata": {},
   "source": [
    "### <a id='toc2_6_2_'></a>[Heatmaps](#toc0_)\n",
    "\n",
    "- `matshow()` visualizes matrices with a grid-like display\n",
    "- `pcolormesh()` provides flexible grid plotting, allowing **non-uniform grids**\n",
    "- Both methods support **colorbar integration** for quantitative reference\n"
   ]
  },
  {
   "cell_type": "code",
   "execution_count": null,
   "metadata": {},
   "outputs": [],
   "source": [
    "mat = np.corrcoef(np.vstack([np.sin(np.linspace(0, 10, 50)), np.random.randn(50), np.linspace(0, 1, 50)]))"
   ]
  },
  {
   "cell_type": "code",
   "execution_count": null,
   "metadata": {},
   "outputs": [],
   "source": [
    "plt.figure(figsize=(4, 4))\n",
    "plt.imshow(mat, interpolation=\"nearest\")\n",
    "plt.title(\"Heatmap (correlation matrix)\")\n",
    "plt.colorbar(label=\"corr\")\n",
    "plt.show()"
   ]
  },
  {
   "cell_type": "markdown",
   "metadata": {},
   "source": [
    "## <a id='toc2_7_'></a>[Specialized Scientific/Engineering Use Cases](#toc0_)\n",
    "\n",
    "- These examples demonstrate how specialized plots can be applied in **real-world scientific and engineering contexts**.\n",
    "\n",
    "📝 Docs:\n",
    "- `matplotlib.pyplot.specgram`: [matplotlib.org/stable/api/_as_gen/matplotlib.pyplot.specgram.html](https://matplotlib.org/stable/api/_as_gen/matplotlib.pyplot.specgram.html)\n",
    "- `matplotlib.pyplot.streamplot`: [matplotlib.org/stable/api/_as_gen/matplotlib.pyplot.streamplot.html](https://matplotlib.org/stable/api/_as_gen/matplotlib.pyplot.streamplot.html)\n",
    "- Annotated heatmap: [matplotlib.org/stable/gallery/images_contours_and_fields/image_annotated_heatmap.html](https://matplotlib.org/stable/gallery/images_contours_and_fields/image_annotated_heatmap.html)\n"
   ]
  },
  {
   "cell_type": "markdown",
   "metadata": {},
   "source": [
    "### <a id='toc2_7_1_'></a>[Signal Processing Example (Spectrogram)](#toc0_)\n",
    "\n",
    "- Spectrograms visualize **frequency content over time** for a signal\n",
    "- Use `specgram()` or `imshow()` to display the spectrogram\n",
    "- Common in audio analysis, vibration monitoring, and EEG/EMG data\n"
   ]
  },
  {
   "cell_type": "code",
   "execution_count": null,
   "metadata": {},
   "outputs": [],
   "source": [
    "fs = 200.0\n",
    "t_sig = np.linspace(0, 5.0, int(5.0 * fs))\n",
    "sig = np.sin(2 * np.pi * 5 * t_sig * (1 + 0.5 * t_sig)) * (1 + 0.5 * np.sin(2 * np.pi * 1 * t_sig))"
   ]
  },
  {
   "cell_type": "code",
   "execution_count": null,
   "metadata": {},
   "outputs": [],
   "source": [
    "plt.figure(figsize=(8, 3))\n",
    "plt.specgram(sig, NFFT=256, Fs=fs, noverlap=128)\n",
    "plt.title(\"Spectrogram (matplotlib.specgram)\")\n",
    "plt.xlabel(\"Time [s]\")\n",
    "plt.ylabel(\"Frequency [Hz]\")\n",
    "plt.colorbar(label=\"power\")\n",
    "plt.show()"
   ]
  },
  {
   "cell_type": "markdown",
   "metadata": {},
   "source": [
    "### <a id='toc2_7_2_'></a>[Physics/Fluid Dynamics Example (Streamlines)](#toc0_)\n",
    "\n",
    "- Stream plots visualize **flow fields**, showing velocity vectors as continuous lines\n",
    "- Helps interpret fluid motion, electromagnetic fields, or airflow patterns\n",
    "- Combine with color mapping to encode magnitude\n"
   ]
  },
  {
   "cell_type": "code",
   "execution_count": null,
   "metadata": {},
   "outputs": [],
   "source": [
    "Yf, Xf = np.mgrid[-2:2:100j, -2:2:100j]\n",
    "Ufield = 1 - Xf**2 + Yf\n",
    "Vfield = -Yf + Xf**2 / 2"
   ]
  },
  {
   "cell_type": "code",
   "execution_count": null,
   "metadata": {},
   "outputs": [],
   "source": [
    "plt.figure(figsize=(5, 5))\n",
    "plt.streamplot(Xf, Yf, Ufield, Vfield, density=1.0)\n",
    "plt.title(\"Streamlines (fluid dynamics example)\")\n",
    "plt.xlabel(\"x\")\n",
    "plt.ylabel(\"y\")\n",
    "plt.show()"
   ]
  },
  {
   "cell_type": "markdown",
   "metadata": {},
   "source": [
    "### <a id='toc2_7_3_'></a>[Data Correlation Heatmap Example](#toc0_)\n",
    "\n",
    "- Visualize **pairwise correlations or similarity matrices**\n",
    "- `imshow()` or `matshow()` with colorbars conveys intensity and relationships\n",
    "- Useful in statistics, finance, and genomics\n"
   ]
  },
  {
   "cell_type": "code",
   "execution_count": null,
   "metadata": {},
   "outputs": [],
   "source": [
    "df_example = pd.DataFrame(\n",
    "    {\n",
    "        \"feature_a\": np.random.randn(200),\n",
    "        \"feature_b\": np.random.randn(200) * 0.5 + 0.3 * np.random.randn(200),\n",
    "        \"feature_c\": np.linspace(0, 1, 200) + 0.2 * np.random.randn(200),\n",
    "        \"feature_d\": np.random.randn(200) * 0.2,\n",
    "    }\n",
    ")\n",
    "corr = df_example.corr()"
   ]
  },
  {
   "cell_type": "code",
   "execution_count": null,
   "metadata": {},
   "outputs": [],
   "source": [
    "plt.figure(figsize=(5, 4))\n",
    "plt.imshow(corr, vmin=-1, vmax=1)\n",
    "plt.title(\"Correlation heatmap (matrix)\")\n",
    "plt.xticks(range(len(corr.columns)), corr.columns, rotation=45)\n",
    "plt.yticks(range(len(corr.index)), corr.index)\n",
    "plt.colorbar(label=\"correlation\")\n",
    "plt.tight_layout()\n",
    "plt.show()"
   ]
  }
 ],
 "metadata": {
  "author_email": "AmirhosseinHeydari78@gmail.com",
  "author_github": "https://github.com/mr-pylin",
  "author_name": "Amirhossein Heydari",
  "kernelspec": {
   "display_name": "data-visualization-workshop (3.14.0)",
   "language": "python",
   "name": "python3"
  },
  "language_info": {
   "codemirror_mode": {
    "name": "ipython",
    "version": 3
   },
   "file_extension": ".py",
   "mimetype": "text/x-python",
   "name": "python",
   "nbconvert_exporter": "python",
   "pygments_lexer": "ipython3",
   "version": "3.14.0"
  },
  "origin_repo": "https://github.com/mr-pylin/matplotlib-workshop"
 },
 "nbformat": 4,
 "nbformat_minor": 2
}
