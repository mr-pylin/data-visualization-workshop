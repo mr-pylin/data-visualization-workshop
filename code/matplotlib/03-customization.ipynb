{
 "cells": [
  {
   "cell_type": "markdown",
   "metadata": {},
   "source": [
    "<div style=\"display: flex; justify-content: space-between; align-items: center;\">\n",
    "    <div style=\"text-align: left; flex: 4;\">\n",
    "        <strong>Author:</strong> Amirhossein Heydari — \n",
    "        📧 <a href=\"mailto:amirhosseinheydari78@gmail.com\">amirhosseinheydari78@gmail.com</a> — \n",
    "        🐙 <a href=\"https://github.com/mr-pylin/data-visualization-workshop\" target=\"_blank\" rel=\"noopener\">github.com/mr-pylin</a>\n",
    "    </div>\n",
    "    <div style=\"display: flex; justify-content: flex-end; flex: 1; gap: 8px; align-items: center; padding: 0;\">\n",
    "        <a href=\"https://matplotlib.org/\" target=\"_blank\" rel=\"noopener noreferrer\">\n",
    "            <img src=\"../../assets/images/libraries/matplotlib/logo/Matplotlib_icon.svg\"\n",
    "                 alt=\"Matplotlib Logo\"\n",
    "                 style=\"max-height: 48px; width: auto;\">\n",
    "        </a>\n",
    "        <a href=\"https://seaborn.pydata.org/\" target=\"_blank\" rel=\"noopener noreferrer\">\n",
    "            <img src=\"../../assets/images/libraries/seaborn/logo/logo-mark-lightbg.svg\"\n",
    "                 alt=\"Seaborn Logo\"\n",
    "                 style=\"max-height: 48px; width: auto;\">\n",
    "        </a>\n",
    "        <a href=\"https://plotly.com/python/\" target=\"_blank\" rel=\"noopener noreferrer\">\n",
    "            <img src=\"../../assets/images/libraries/plotly/logo/Plotly-Logo-White copy.svg\"\n",
    "                 alt=\"Plotly Logo\"\n",
    "                 style=\"max-height: 48px; width: auto; background-color: #1f1f1f; border-radius: 8px;\">\n",
    "        </a>\n",
    "    </div>\n",
    "</div>\n",
    "<hr>\n"
   ]
  },
  {
   "cell_type": "markdown",
   "metadata": {},
   "source": [
    "**Table of contents**<a id='toc0_'></a>    \n",
    "- [Dependencies](#toc1_)    \n",
    "- [Customization](#toc2_)    \n",
    "  - [Colors](#toc2_1_)    \n",
    "    - [Using Named Colors and hex Codes](#toc2_1_1_)    \n",
    "    - [Colormaps for Continuous and Categorical Data](#toc2_1_2_)    \n",
    "  - [Markers](#toc2_2_)    \n",
    "    - [Marker Types](#toc2_2_1_)    \n",
    "    - [Marker size and Edge Options](#toc2_2_2_)    \n",
    "  - [Line Styles](#toc2_3_)    \n",
    "    - [Common Line Styles](#toc2_3_1_)    \n",
    "    - [Line Width and Transparency](#toc2_3_2_)    \n",
    "  - [Labels and Titles](#toc2_4_)    \n",
    "    - [Axis Labels](#toc2_4_1_)    \n",
    "    - [Figure Title](#toc2_4_2_)    \n",
    "    - [Multiline or Formatted Labels](#toc2_4_3_)    \n",
    "  - [Legends](#toc2_5_)    \n",
    "    - [Adding a Legend](#toc2_5_1_)    \n",
    "    - [Positioning and Formatting](#toc2_5_2_)    \n",
    "    - [Handling Multiple Datasets](#toc2_5_3_)    \n",
    "  - [Ticks](#toc2_6_)    \n",
    "    - [Customizing Tick Positions](#toc2_6_1_)    \n",
    "    - [Tick Labels and Rotation](#toc2_6_2_)    \n",
    "    - [Minor Ticks](#toc2_6_3_)    \n",
    "  - [Grid and Background](#toc2_7_)    \n",
    "    - [Grid Lines](#toc2_7_1_)    \n",
    "    - [Figure and Axes Background](#toc2_7_2_)    \n",
    "  - [Annotations & Reference Lines](#toc2_8_)    \n",
    "    - [Adding Text Annotations](#toc2_8_1_)    \n",
    "    - [Vertical and Horizontal Lines](#toc2_8_2_)    \n",
    "    - [Highlighting Ranges](#toc2_8_3_)    \n",
    "\n",
    "<!-- vscode-jupyter-toc-config\n",
    "\tnumbering=false\n",
    "\tanchor=true\n",
    "\tflat=false\n",
    "\tminLevel=1\n",
    "\tmaxLevel=6\n",
    "\t/vscode-jupyter-toc-config -->\n",
    "<!-- THIS CELL WILL BE REPLACED ON TOC UPDATE. DO NOT WRITE YOUR TEXT IN THIS CELL -->"
   ]
  },
  {
   "cell_type": "markdown",
   "metadata": {},
   "source": [
    "# <a id='toc1_'></a>[Dependencies](#toc0_)"
   ]
  },
  {
   "cell_type": "code",
   "execution_count": null,
   "metadata": {},
   "outputs": [],
   "source": [
    "import matplotlib.pyplot as plt\n",
    "import numpy as np"
   ]
  },
  {
   "cell_type": "code",
   "execution_count": null,
   "metadata": {},
   "outputs": [],
   "source": [
    "np.set_printoptions(linewidth=120)"
   ]
  },
  {
   "cell_type": "markdown",
   "metadata": {},
   "source": [
    "# <a id='toc2_'></a>[Customization](#toc0_)\n"
   ]
  },
  {
   "cell_type": "markdown",
   "metadata": {},
   "source": [
    "## <a id='toc2_1_'></a>[Colors](#toc0_)\n",
    "\n",
    "- Colors are essential for **differentiating data series** and making plots visually appealing.\n",
    "- Matplotlib offers multiple ways to define colors, including **named colors, hex codes, RGB tuples, and colormaps**.\n",
    "\n",
    "📝 Docs:\n",
    "- `matplotlib.colors`: [matplotlib.org/stable/tutorials/colors/colors.html](https://matplotlib.org/stable/tutorials/colors/colors.html)\n",
    "- Choosing Colormaps: [matplotlib.org/stable/tutorials/colors/colormaps.html](https://matplotlib.org/stable/tutorials/colors/colormaps.html)\n"
   ]
  },
  {
   "cell_type": "code",
   "execution_count": null,
   "metadata": {},
   "outputs": [],
   "source": [
    "x = np.linspace(0, 10, 100)\n",
    "y1 = np.sin(x)\n",
    "y2 = np.cos(x)"
   ]
  },
  {
   "cell_type": "markdown",
   "metadata": {},
   "source": [
    "### <a id='toc2_1_1_'></a>[Using Named Colors and hex Codes](#toc0_)\n",
    "\n",
    "- Common colors like `'blue'`, `'green'`, `'red'` can be used directly\n",
    "- Hex codes (`'#FF5733'`) allow precise color selection\n",
    "- Can be applied to **lines, markers, bars, and patches**\n"
   ]
  },
  {
   "cell_type": "code",
   "execution_count": null,
   "metadata": {},
   "outputs": [],
   "source": [
    "plt.plot(x, y1, color=\"red\", label=\"Sine\")          # named color\n",
    "plt.plot(x, y2, color=\"#1f77b4\", label=\"Cosine\")  # hex code\n",
    "plt.legend()\n",
    "plt.show()"
   ]
  },
  {
   "cell_type": "markdown",
   "metadata": {},
   "source": [
    "### <a id='toc2_1_2_'></a>[Colormaps for Continuous and Categorical Data](#toc0_)\n",
    "\n",
    "- Useful for **continuous or categorical data**\n",
    "- Sequential colormaps show increasing intensity (`viridis`, `plasma`)\n",
    "- Diverging colormaps highlight deviation from a midpoint (`coolwarm`, `bwr`)\n",
    "- Qualitative colormaps differentiate **categories** (`tab10`, `Set3`)\n"
   ]
  },
  {
   "cell_type": "code",
   "execution_count": null,
   "metadata": {},
   "outputs": [],
   "source": [
    "plt.scatter(x, y1, c=x, cmap=\"viridis\", s=50)\n",
    "plt.colorbar(label=\"X value\")  # shows the colormap scale\n",
    "plt.show()"
   ]
  },
  {
   "cell_type": "markdown",
   "metadata": {},
   "source": [
    "## <a id='toc2_2_'></a>[Markers](#toc0_)\n",
    "\n",
    "- Markers are symbols used to **highlight individual data points** on plots.\n",
    "- They help distinguish series or emphasize key values in scatter or line plots.\n",
    "\n",
    "📝 Docs:\n",
    "- `matplotlib.pyplot.plot` markers: [matplotlib.org/stable/api/markers_api.html](https://matplotlib.org/stable/api/markers_api.html)\n",
    "- `matplotlib.pyplot.scatter` markers: [matplotlib.org/stable/api/_as_gen/matplotlib.pyplot.scatter.html](https://matplotlib.org/stable/api/_as_gen/matplotlib.pyplot.scatter.html)\n"
   ]
  },
  {
   "cell_type": "code",
   "execution_count": null,
   "metadata": {},
   "outputs": [],
   "source": [
    "x = np.linspace(0, 10, 10)\n",
    "y = np.sin(x)"
   ]
  },
  {
   "cell_type": "markdown",
   "metadata": {},
   "source": [
    "### <a id='toc2_2_1_'></a>[Marker Types](#toc0_)\n",
    "\n",
    "- Common markers: `'o'` (circle), `'s'` (square), `'^'` (triangle), `'*'` (star)\n",
    "- Can be combined with lines or used standalone in scatter plots\n",
    "- Marker choice improves **readability and aesthetics**\n",
    "\n",
    "<table style=\"width: 32%; float: left; margin-right: 2%; margin-left: 17%; text-align: center; border-collapse: collapse;\">\n",
    "   <thead>\n",
    "      <tr>\n",
    "         <th style=\"text-align: center;\">Markers</th>\n",
    "         <th style=\"text-align: center;\">Description</th>\n",
    "      </tr>\n",
    "   </thead>\n",
    "   <tbody>\n",
    "      <tr><td>\".\"</td><td>point</td></tr>\n",
    "      <tr><td>\",\"</td><td>pixel</td></tr>\n",
    "      <tr><td>\"o\"</td><td>circle</td></tr>\n",
    "      <tr><td>\"v\"</td><td>triangle_down</td></tr>\n",
    "      <tr><td>\"^\"</td><td>triangle_up</td></tr>\n",
    "      <tr><td>\"<\"</td><td>triangle_left</td></tr>\n",
    "      <tr><td>\">\"</td><td>triangle_right</td></tr>\n",
    "      <tr><td>\"s\"</td><td>square</td></tr>\n",
    "      <tr><td>\"p\"</td><td>pentagon</td></tr>\n",
    "      <tr><td>\"P\"</td><td>plus (filled)</td></tr>\n",
    "   </tbody>\n",
    "</table>\n",
    "\n",
    "<table style=\"width: 32%; float: left; text-align: center; border-collapse: collapse;\">\n",
    "   <thead>\n",
    "      <tr style=\"text-align: center;\">\n",
    "         <th style=\"text-align: center;\">Markers</th>\n",
    "         <th style=\"text-align: center;\">Description</th>\n",
    "      </tr>\n",
    "   </thead>\n",
    "   <tbody>\n",
    "      <tr><td>\"*\"</td><td>star</td></tr>\n",
    "      <tr><td>\"h\"</td><td>hexagon1</td></tr>\n",
    "      <tr><td>\"H\"</td><td>hexagon2</td></tr>\n",
    "      <tr><td>\"+\"</td><td>plus</td></tr>\n",
    "      <tr><td>\"x\"</td><td>x</td></tr>\n",
    "      <tr><td>\"X\"</td><td>x (filled)</td></tr>\n",
    "      <tr><td>\"D\"</td><td>diamond</td></tr>\n",
    "      <tr><td>\"d\"</td><td>thin_diamond</td></tr>\n",
    "      <tr><td>\"|\"</td><td>vline</td></tr>\n",
    "      <tr><td>\"_\"</td><td>hline</td></tr>\n",
    "   </tbody>\n",
    "</table>\n"
   ]
  },
  {
   "cell_type": "code",
   "execution_count": null,
   "metadata": {},
   "outputs": [],
   "source": [
    "plt.plot(x, y, marker=\"o\", label=\"Circle\")\n",
    "plt.plot(x, y + 0.5, marker=\"s\", label=\"Square\")\n",
    "plt.plot(x, y + 1, marker=\"^\", label=\"Triangle\")\n",
    "plt.legend()\n",
    "plt.show()"
   ]
  },
  {
   "cell_type": "markdown",
   "metadata": {},
   "source": [
    "### <a id='toc2_2_2_'></a>[Marker size and Edge Options](#toc0_)\n",
    "\n",
    "- `markersize` controls the size of the marker\n",
    "- `markeredgecolor` and `markerfacecolor` customize the border and fill\n",
    "- Useful for **visual hierarchy** or highlighting specific points\n"
   ]
  },
  {
   "cell_type": "code",
   "execution_count": null,
   "metadata": {},
   "outputs": [],
   "source": [
    "plt.plot(x, y, marker=\"o\", markersize=10, markeredgecolor=\"black\", markeredgewidth=2, label=\"Circle\")\n",
    "plt.plot(x, y + 0.5, marker=\"s\", markersize=8, markerfacecolor=\"yellow\", markeredgecolor=\"blue\", label=\"Square\")\n",
    "plt.legend()\n",
    "plt.show()"
   ]
  },
  {
   "cell_type": "markdown",
   "metadata": {},
   "source": [
    "## <a id='toc2_3_'></a>[Line Styles](#toc0_)\n",
    "\n",
    "- Line styles allow you to **differentiate data series** and indicate trends or categories in line plots.\n",
    "- They can improve clarity and visual appeal without changing the underlying data.\n",
    "\n",
    "📝 Docs:\n",
    "- `matplotlib.pyplot.plot` line styles: [matplotlib.org/stable/api/_as_gen/matplotlib.pyplot.plot.html#matplotlib.pyplot.plot](https://matplotlib.org/stable/api/_as_gen/matplotlib.pyplot.plot.html#matplotlib.pyplot.plot)\n",
    "- Linestyles: [matplotlib.org/stable/gallery/lines_bars_and_markers/linestyles.html](https://matplotlib.org/stable/gallery/lines_bars_and_markers/linestyles.html)\n"
   ]
  },
  {
   "cell_type": "code",
   "execution_count": null,
   "metadata": {},
   "outputs": [],
   "source": [
    "x = np.linspace(0, 10, 10)\n",
    "y = np.cos(x)"
   ]
  },
  {
   "cell_type": "markdown",
   "metadata": {},
   "source": [
    "### <a id='toc2_3_1_'></a>[Common Line Styles](#toc0_)\n",
    "\n",
    "- Line style can be combined with markers for emphasis\n",
    "\n",
    "<table style=\"margin: auto\">\n",
    "   <thead>\n",
    "      <tr>\n",
    "         <th style=\"text-align: center;\">Line Style</th>\n",
    "         <th style=\"text-align: center;\">Description</th>\n",
    "      </tr>\n",
    "   </thead>\n",
    "   <tbody>\n",
    "      <tr>\n",
    "         <td style=\"font-family: 'Courier New', Courier, monospace; text-align: center;\">'-'</td>\n",
    "         <td>Solid line</td>\n",
    "      </tr>\n",
    "      <tr>\n",
    "         <td style=\"font-family: 'Courier New', Courier, monospace; text-align: center;\">'--'</td>\n",
    "         <td>Dashed linev</td>\n",
    "      </tr>\n",
    "      <tr>\n",
    "         <td style=\"font-family: 'Courier New', Courier, monospace; text-align: center;\">'-.'</td>\n",
    "         <td>Dash-dot line</td>\n",
    "      </tr>\n",
    "      <tr>\n",
    "         <td style=\"font-family: 'Courier New', Courier, monospace; text-align: center;\">':'</td>\n",
    "         <td>Dotted line</td>\n",
    "      </tr>\n",
    "      <tr>\n",
    "         <td style=\"font-family: 'Courier New', Courier, monospace; text-align: center;\">'' or ' '</td>\n",
    "         <td>No line</td>\n",
    "      </tr>\n",
    "   </tbody>\n",
    "</table>\n"
   ]
  },
  {
   "cell_type": "code",
   "execution_count": null,
   "metadata": {},
   "outputs": [],
   "source": [
    "plt.plot(x, y, linestyle=\"-\", label=\"Solid\")\n",
    "plt.plot(x, y + 1, linestyle=\"--\", label=\"Dashed\")\n",
    "plt.plot(x, y + 2, linestyle=\"-.\", label=\"Dash-dot\")\n",
    "plt.plot(x, y + 3, linestyle=\":\", label=\"Dotted\")\n",
    "plt.legend()\n",
    "plt.show()"
   ]
  },
  {
   "cell_type": "markdown",
   "metadata": {},
   "source": [
    "### <a id='toc2_3_2_'></a>[Line Width and Transparency](#toc0_)\n",
    "\n",
    "- `linewidth` controls the thickness of the line\n",
    "- `alpha` adjusts transparency for overlapping lines or clarity\n",
    "- Useful when plotting **multiple lines** in one figure\n"
   ]
  },
  {
   "cell_type": "code",
   "execution_count": null,
   "metadata": {},
   "outputs": [],
   "source": [
    "plt.plot(x, y, linewidth=2, alpha=1.0, label=\"Opaque\")\n",
    "plt.plot(x, y + 1, linewidth=4, alpha=0.5, label=\"Transparent\")\n",
    "plt.legend()\n",
    "plt.show()"
   ]
  },
  {
   "cell_type": "markdown",
   "metadata": {},
   "source": [
    "## <a id='toc2_4_'></a>[Labels and Titles](#toc0_)\n",
    "\n",
    "- Labels and titles help make plots **understandable and informative**.\n",
    "- They provide context for axes, data series, and the figure as a whole.\n",
    "\n",
    "📝 Docs:\n",
    "- `matplotlib.pyplot.xlabel`: [matplotlib.org/stable/api/_as_gen/matplotlib.pyplot.xlabel.html](https://matplotlib.org/stable/api/_as_gen/matplotlib.pyplot.xlabel.html)  \n",
    "- `matplotlib.pyplot.ylabel`: [matplotlib.org/stable/api/_as_gen/matplotlib.pyplot.ylabel.html](https://matplotlib.org/stable/api/_as_gen/matplotlib.pyplot.ylabel.html)  \n",
    "- `matplotlib.pyplot.title`: [matplotlib.org/stable/api/_as_gen/matplotlib.pyplot.title.html](https://matplotlib.org/stable/api/_as_gen/matplotlib.pyplot.title.html)\n"
   ]
  },
  {
   "cell_type": "code",
   "execution_count": null,
   "metadata": {},
   "outputs": [],
   "source": [
    "x = np.linspace(0, 10, 10)\n",
    "y = np.cos(x)"
   ]
  },
  {
   "cell_type": "markdown",
   "metadata": {},
   "source": [
    "### <a id='toc2_4_1_'></a>[Axis Labels](#toc0_)\n",
    "\n",
    "- `xlabel` and `ylabel` assign descriptive names to axes\n",
    "- Important for **clarity and interpretation**\n",
    "- Can include units, symbols, or formatted text\n"
   ]
  },
  {
   "cell_type": "code",
   "execution_count": null,
   "metadata": {},
   "outputs": [],
   "source": [
    "plt.plot(x, y)\n",
    "plt.xlabel(\"X axis label\")\n",
    "plt.ylabel(\"Y axis label\")\n",
    "plt.show()"
   ]
  },
  {
   "cell_type": "markdown",
   "metadata": {},
   "source": [
    "### <a id='toc2_4_2_'></a>[Figure Title](#toc0_)\n",
    "\n",
    "- `title` sets the main heading of the plot\n",
    "- Can include **line breaks** or **styled text** using formatting options\n",
    "- Helps quickly convey the **purpose of the plot**\n"
   ]
  },
  {
   "cell_type": "code",
   "execution_count": null,
   "metadata": {},
   "outputs": [],
   "source": [
    "plt.plot(x, y)\n",
    "plt.title(\"My Figure Title\")\n",
    "plt.show()"
   ]
  },
  {
   "cell_type": "markdown",
   "metadata": {},
   "source": [
    "### <a id='toc2_4_3_'></a>[Multiline or Formatted Labels](#toc0_)\n",
    "\n",
    "- Use `\\n` for **line breaks** in labels or titles\n",
    "- LaTeX formatting is supported for **mathematical symbols** (`$...$`)\n",
    "- Enhances readability for complex or technical plots\n"
   ]
  },
  {
   "cell_type": "code",
   "execution_count": null,
   "metadata": {},
   "outputs": [],
   "source": [
    "plt.plot(x, y)\n",
    "plt.xlabel(\"X axis\\n(Time in seconds)\")\n",
    "plt.ylabel(\"Y axis\\n(Amplitude)\")\n",
    "plt.title(\"Multiline Title\\nExample\")\n",
    "plt.show()"
   ]
  },
  {
   "cell_type": "markdown",
   "metadata": {},
   "source": [
    "## <a id='toc2_5_'></a>[Legends](#toc0_)\n",
    "\n",
    "- Legends provide a **key to interpret multiple data series** in a plot.\n",
    "- They improve readability and help distinguish between lines, markers, or other plot elements.\n",
    "\n",
    "📝 Docs:\n",
    "- `matplotlib.pyplot.legend`: [matplotlib.org/stable/api/_as_gen/matplotlib.pyplot.legend.html](https://matplotlib.org/stable/api/_as_gen/matplotlib.pyplot.legend.html)\n",
    "- Legend Guide: [matplotlib.org/stable/tutorials/intermediate/legend_guide.html](https://matplotlib.org/stable/tutorials/intermediate/legend_guide.html)\n"
   ]
  },
  {
   "cell_type": "code",
   "execution_count": null,
   "metadata": {},
   "outputs": [],
   "source": [
    "x = np.linspace(0, 10, 10)\n",
    "y = np.tan(x)"
   ]
  },
  {
   "cell_type": "markdown",
   "metadata": {},
   "source": [
    "### <a id='toc2_5_1_'></a>[Adding a Legend](#toc0_)\n",
    "\n",
    "- Use `legend()` to add a legend automatically or manually\n",
    "- Labels are defined in the plot command using `label` parameter\n",
    "- Essential when **plotting multiple series**\n"
   ]
  },
  {
   "cell_type": "code",
   "execution_count": null,
   "metadata": {},
   "outputs": [],
   "source": [
    "plt.plot(x, y, label=\"Sine\")\n",
    "plt.plot(x, y + 5, label=\"Sine + 0.5\")\n",
    "plt.legend()\n",
    "plt.show()"
   ]
  },
  {
   "cell_type": "markdown",
   "metadata": {},
   "source": [
    "### <a id='toc2_5_2_'></a>[Positioning and Formatting](#toc0_)\n",
    "\n",
    "- Location can be set with `loc` (e.g., `'upper right'`, `'lower left'`)\n",
    "- Can customize font size, frame, and transparency\n",
    "- Helps **avoid overlapping with data**\n"
   ]
  },
  {
   "cell_type": "code",
   "execution_count": null,
   "metadata": {},
   "outputs": [],
   "source": [
    "plt.plot(x, y, label=\"Sine\")\n",
    "plt.legend(loc=\"upper right\", fontsize=12, shadow=True)\n",
    "plt.show()"
   ]
  },
  {
   "cell_type": "markdown",
   "metadata": {},
   "source": [
    "### <a id='toc2_5_3_'></a>[Handling Multiple Datasets](#toc0_)\n",
    "\n",
    "- Legends can manage multiple plot elements efficiently\n",
    "- Can combine lines, markers, and patches in one legend\n",
    "- Useful for **composite plots** with several data series\n"
   ]
  },
  {
   "cell_type": "code",
   "execution_count": null,
   "metadata": {},
   "outputs": [],
   "source": [
    "for i, offset in enumerate(range(0, 15, 5)):\n",
    "    plt.plot(x, y + offset, label=f\"Sine + {offset}\")\n",
    "plt.legend()\n",
    "plt.show()"
   ]
  },
  {
   "cell_type": "markdown",
   "metadata": {},
   "source": [
    "## <a id='toc2_6_'></a>[Ticks](#toc0_)\n",
    "\n",
    "- Ticks define the **scale and labeling** of the axes.\n",
    "- Customizing ticks helps make plots **readable and precise**, especially for non-uniform or categorical data.\n",
    "\n",
    "📝 Docs:\n",
    "- `matplotlib.pyplot.xticks`: [matplotlib.org/stable/api/_as_gen/matplotlib.pyplot.xticks.html](https://matplotlib.org/stable/api/_as_gen/matplotlib.pyplot.xticks.html)\n",
    "- `matplotlib.pyplot.yticks`: [matplotlib.org/stable/api/_as_gen/matplotlib.pyplot.yticks.html](https://matplotlib.org/stable/api/_as_gen/matplotlib.pyplot.yticks.html)\n",
    "- Axis Ticks: [matplotlib.org/stable/users/explain/axes/axes_ticks.html](https://matplotlib.org/stable/users/explain/axes/axes_ticks.html)\n"
   ]
  },
  {
   "cell_type": "code",
   "execution_count": null,
   "metadata": {},
   "outputs": [],
   "source": [
    "x = np.linspace(0, 10, 10)\n",
    "y = np.sin(x) + np.cos(x)"
   ]
  },
  {
   "cell_type": "markdown",
   "metadata": {},
   "source": [
    "### <a id='toc2_6_1_'></a>[Customizing Tick Positions](#toc0_)\n",
    "\n",
    "- `xticks` and `yticks` set **specific positions** on axes\n",
    "- Can be used to **highlight important values** or intervals\n",
    "- Minor ticks can be added for **fine-grained reference**\n"
   ]
  },
  {
   "cell_type": "code",
   "execution_count": null,
   "metadata": {},
   "outputs": [],
   "source": [
    "plt.plot(x, y)\n",
    "plt.xticks([0, 2, 4, 6, 8, 10])\n",
    "plt.yticks([-1, 0, 1])\n",
    "plt.show()"
   ]
  },
  {
   "cell_type": "markdown",
   "metadata": {},
   "source": [
    "### <a id='toc2_6_2_'></a>[Tick Labels and Rotation](#toc0_)\n",
    "\n",
    "- Labels can be customized with strings or formatted text\n",
    "- Rotation (`rotation`) improves readability for long or dense labels\n",
    "- Supports LaTeX formatting for **technical labels**\n"
   ]
  },
  {
   "cell_type": "code",
   "execution_count": null,
   "metadata": {},
   "outputs": [],
   "source": [
    "plt.plot(x, y)\n",
    "plt.xticks(ticks=[0, 2, 4, 6, 8, 10], labels=[\"zero\", \"two\", \"four\", \"six\", \"eight\", \"ten\"], rotation=45)\n",
    "plt.show()"
   ]
  },
  {
   "cell_type": "markdown",
   "metadata": {},
   "source": [
    "### <a id='toc2_6_3_'></a>[Minor Ticks](#toc0_)\n",
    "\n",
    "- `Minortick` adds finer divisions between major ticks\n",
    "- Enhances **granularity** in detailed plots\n",
    "- Often combined with grid lines for **better visual reference**\n"
   ]
  },
  {
   "cell_type": "code",
   "execution_count": null,
   "metadata": {},
   "outputs": [],
   "source": [
    "plt.plot(x, y)\n",
    "plt.minorticks_on()\n",
    "plt.grid(which=\"minor\", linestyle=\":\", alpha=0.3)\n",
    "plt.grid(which=\"major\", linestyle=\"-\", alpha=0.6)\n",
    "plt.show()"
   ]
  },
  {
   "cell_type": "markdown",
   "metadata": {},
   "source": [
    "## <a id='toc2_7_'></a>[Grid and Background](#toc0_)\n",
    "\n",
    "- Grid lines and background colors help improve **plot readability** and emphasize data patterns.\n",
    "- They provide visual reference points and can enhance the overall aesthetics.\n",
    "\n",
    "📝 Docs:\n",
    "- `matplotlib.pyplot.grid`: [matplotlib.org/stable/api/_as_gen/matplotlib.pyplot.grid.html](https://matplotlib.org/stable/api/_as_gen/matplotlib.pyplot.grid.html)\n",
    "- `matplotlib.figure`: [matplotlib.org/stable/api/figure_api.html#matplotlib.figure.Figure](https://matplotlib.org/stable/api/figure_api.html#matplotlib.figure.Figure)\n",
    "- `matplotlib.axes`: [matplotlib.org/stable/api/axes_api.html#matplotlib.axes.Axes.set_facecolor](https://matplotlib.org/stable/api/axes_api.html#matplotlib.axes.Axes.set_facecolor)\n"
   ]
  },
  {
   "cell_type": "code",
   "execution_count": null,
   "metadata": {},
   "outputs": [],
   "source": [
    "x = np.linspace(0, 10, 10)\n",
    "y = np.sinh(x)"
   ]
  },
  {
   "cell_type": "markdown",
   "metadata": {},
   "source": [
    "### <a id='toc2_7_1_'></a>[Grid Lines](#toc0_)\n",
    "\n",
    "- `grid()` enables horizontal and vertical grid lines\n",
    "- Can customize **line style, color, and transparency**\n",
    "- Major and minor grids can be displayed separately\n",
    "- Useful for **aligning data points visually**\n"
   ]
  },
  {
   "cell_type": "code",
   "execution_count": null,
   "metadata": {},
   "outputs": [],
   "source": [
    "plt.plot(x, y)\n",
    "plt.grid(True, color=\"gray\", linestyle=\"--\", linewidth=0.5)\n",
    "plt.show()"
   ]
  },
  {
   "cell_type": "markdown",
   "metadata": {},
   "source": [
    "### <a id='toc2_7_2_'></a>[Figure and Axes Background](#toc0_)\n",
    "\n",
    "- `facecolor` sets the background color of the **figure** or **axes**\n",
    "- Helps differentiate multiple subplots or highlight areas\n",
    "- Can combine with grid and spines for a clean look\n"
   ]
  },
  {
   "cell_type": "code",
   "execution_count": null,
   "metadata": {},
   "outputs": [],
   "source": [
    "fig, ax = plt.subplots()\n",
    "ax.plot(x, y)\n",
    "fig.patch.set_facecolor(\"lightgray\")  # figure background\n",
    "ax.set_facecolor(\"whitesmoke\")        # axes background\n",
    "plt.show()"
   ]
  },
  {
   "cell_type": "markdown",
   "metadata": {},
   "source": [
    "## <a id='toc2_8_'></a>[Annotations & Reference Lines](#toc0_)\n",
    "\n",
    "- Annotations and reference lines help **highlight important data points or regions** in a plot.\n",
    "- They provide context and make complex plots easier to interpret.\n",
    "\n",
    "📝 Docs:\n",
    "- `matplotlib.pyplot.text`: [matplotlib.org/stable/api/_as_gen/matplotlib.pyplot.text.html](https://matplotlib.org/stable/api/_as_gen/matplotlib.pyplot.text.html)\n",
    "- `matplotlib.pyplot.annotate`: [matplotlib.org/stable/api/_as_gen/matplotlib.pyplot.annotate.html](https://matplotlib.org/stable/api/_as_gen/matplotlib.pyplot.annotate.html)\n",
    "- `matplotlib.pyplot.axvline` / `axhline`: [matplotlib.org/stable/api/_as_gen/matplotlib.pyplot.axvline.html](https://matplotlib.org/stable/api/_as_gen/matplotlib.pyplot.axvline.html)\n",
    "- `matplotlib.pyplot.axvspan` / `axhspan`: [matplotlib.org/stable/api/_as_gen/matplotlib.pyplot.axvspan.html](https://matplotlib.org/stable/api/_as_gen/matplotlib.pyplot.axvspan.html)\n"
   ]
  },
  {
   "cell_type": "code",
   "execution_count": null,
   "metadata": {},
   "outputs": [],
   "source": [
    "x = np.linspace(0, 10, 10)\n",
    "y = np.cosh(x)"
   ]
  },
  {
   "cell_type": "markdown",
   "metadata": {},
   "source": [
    "### <a id='toc2_8_1_'></a>[Adding Text Annotations](#toc0_)\n",
    "\n",
    "- `text()` places text at a specified (x, y) coordinate\n",
    "- `annotate()` allows arrows pointing to a data point\n",
    "- Useful for **emphasizing outliers, peaks, or trends**\n"
   ]
  },
  {
   "cell_type": "code",
   "execution_count": null,
   "metadata": {},
   "outputs": [],
   "source": [
    "plt.plot(x, y)\n",
    "plt.text(5, 1000, \"Text\", fontsize=12, color=\"red\")\n",
    "plt.show()"
   ]
  },
  {
   "cell_type": "markdown",
   "metadata": {},
   "source": [
    "### <a id='toc2_8_2_'></a>[Vertical and Horizontal Lines](#toc0_)\n",
    "\n",
    "- `axvline()` draws a vertical line at a specific x-coordinate\n",
    "- `axhline()` draws a horizontal line at a specific y-coordinate\n",
    "- Often used for **thresholds, averages, or reference levels**\n"
   ]
  },
  {
   "cell_type": "code",
   "execution_count": null,
   "metadata": {},
   "outputs": [],
   "source": [
    "plt.plot(x, y)\n",
    "plt.axhline(0, color=\"gray\", linestyle=\"--\")\n",
    "plt.axvline(5, color=\"blue\", linestyle=\"-.\")\n",
    "plt.show()"
   ]
  },
  {
   "cell_type": "markdown",
   "metadata": {},
   "source": [
    "### <a id='toc2_8_3_'></a>[Highlighting Ranges](#toc0_)\n",
    "\n",
    "- `axvspan()` highlights a vertical region between two x-values\n",
    "- `axhspan()` highlights a horizontal region between two y-values\n",
    "- Helps **emphasize intervals or zones of interest**\n"
   ]
  },
  {
   "cell_type": "code",
   "execution_count": null,
   "metadata": {},
   "outputs": [],
   "source": [
    "plt.plot(x, y)\n",
    "plt.axvspan(2, 4, color=\"yellow\", alpha=0.3)\n",
    "plt.show()"
   ]
  }
 ],
 "metadata": {
  "author_email": "AmirhosseinHeydari78@gmail.com",
  "author_github": "https://github.com/mr-pylin",
  "author_name": "Amirhossein Heydari",
  "kernelspec": {
   "display_name": "data-visualization-workshop (3.14.0)",
   "language": "python",
   "name": "python3"
  },
  "language_info": {
   "codemirror_mode": {
    "name": "ipython",
    "version": 3
   },
   "file_extension": ".py",
   "mimetype": "text/x-python",
   "name": "python",
   "nbconvert_exporter": "python",
   "pygments_lexer": "ipython3",
   "version": "3.14.0"
  },
  "origin_repo": "https://github.com/mr-pylin/matplotlib-workshop"
 },
 "nbformat": 4,
 "nbformat_minor": 2
}
