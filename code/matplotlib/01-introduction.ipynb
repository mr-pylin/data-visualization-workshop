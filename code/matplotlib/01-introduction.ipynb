{
 "cells": [
  {
   "cell_type": "markdown",
   "metadata": {},
   "source": [
    "<div style=\"display: flex; justify-content: space-between; align-items: center;\">\n",
    "    <div style=\"text-align: left; flex: 4;\">\n",
    "        <strong>Author:</strong> Amirhossein Heydari — \n",
    "        📧 <a href=\"mailto:amirhosseinheydari78@gmail.com\">amirhosseinheydari78@gmail.com</a> — \n",
    "        🐙 <a href=\"https://github.com/mr-pylin/data-visualization-workshop\" target=\"_blank\" rel=\"noopener\">github.com/mr-pylin</a>\n",
    "    </div>\n",
    "    <div style=\"display: flex; justify-content: flex-end; flex: 1; gap: 8px; align-items: center; padding: 0;\">\n",
    "        <a href=\"https://matplotlib.org/\" target=\"_blank\" rel=\"noopener noreferrer\">\n",
    "            <img src=\"../../assets/images/libraries/matplotlib/logo/Matplotlib_icon.svg\"\n",
    "                 alt=\"Matplotlib Logo\"\n",
    "                 style=\"max-height: 48px; width: auto;\">\n",
    "        </a>\n",
    "        <a href=\"https://seaborn.pydata.org/\" target=\"_blank\" rel=\"noopener noreferrer\">\n",
    "            <img src=\"../../assets/images/libraries/seaborn/logo/logo-mark-lightbg.svg\"\n",
    "                 alt=\"Seaborn Logo\"\n",
    "                 style=\"max-height: 48px; width: auto;\">\n",
    "        </a>\n",
    "        <a href=\"https://plotly.com/python/\" target=\"_blank\" rel=\"noopener noreferrer\">\n",
    "            <img src=\"../../assets/images/libraries/plotly/logo/Plotly-Logo-White copy.svg\"\n",
    "                 alt=\"Plotly Logo\"\n",
    "                 style=\"max-height: 48px; width: auto; background-color: #1f1f1f; border-radius: 8px;\">\n",
    "        </a>\n",
    "    </div>\n",
    "</div>\n",
    "<hr>\n"
   ]
  },
  {
   "cell_type": "markdown",
   "metadata": {},
   "source": [
    "**Table of contents**<a id='toc0_'></a>    \n",
    "- [Dependencies](#toc1_)    \n",
    "- [Introduction to Matplotlib](#toc2_)    \n",
    "  - [Matplotlib Architecture](#toc2_1_)    \n",
    "    - [Figure](#toc2_1_1_)    \n",
    "      - [Figure Size and DPI](#toc2_1_1_1_)    \n",
    "    - [Axes](#toc2_1_2_)    \n",
    "    - [Artist](#toc2_1_3_)    \n",
    "  - [Matplotlib Notebook Backends](#toc2_2_)    \n",
    "    - [%matplotlib inline](#toc2_2_1_)    \n",
    "    - [%matplotlib notebook](#toc2_2_2_)    \n",
    "    - [%matplotlib widget](#toc2_2_3_)    \n",
    "  - [Pyplot vs Object-Oriented](#toc2_3_)    \n",
    "    - [Pyplot](#toc2_3_1_)    \n",
    "    - [Object-Oriented](#toc2_3_2_)    \n",
    "\n",
    "<!-- vscode-jupyter-toc-config\n",
    "\tnumbering=false\n",
    "\tanchor=true\n",
    "\tflat=false\n",
    "\tminLevel=1\n",
    "\tmaxLevel=6\n",
    "\t/vscode-jupyter-toc-config -->\n",
    "<!-- THIS CELL WILL BE REPLACED ON TOC UPDATE. DO NOT WRITE YOUR TEXT IN THIS CELL -->"
   ]
  },
  {
   "cell_type": "markdown",
   "metadata": {},
   "source": [
    "# <a id='toc1_'></a>[Dependencies](#toc0_)"
   ]
  },
  {
   "cell_type": "code",
   "execution_count": null,
   "metadata": {},
   "outputs": [],
   "source": [
    "import matplotlib.pyplot as plt\n",
    "import numpy as np"
   ]
  },
  {
   "cell_type": "code",
   "execution_count": null,
   "metadata": {},
   "outputs": [],
   "source": [
    "x = np.linspace(0, 2 * np.pi, 100)\n",
    "y = np.sin(x)"
   ]
  },
  {
   "cell_type": "markdown",
   "metadata": {},
   "source": [
    "# <a id='toc2_'></a>[Introduction to Matplotlib](#toc0_)\n",
    "   - Matplotlib is a comprehensive library for creating **static**, **animated**, and **interactive** visualizations in Python.\n",
    "   - Although Matplotlib is written primarily in **pure Python**, it makes heavy use of [**NumPy**](https://numpy.org/) and other extension code to provide **good performance** even for large arrays.\n",
    "   - It is widely used in **data science**, **machine learning**, and **scientific computing** to create a variety of plots and charts.\n",
    "\n",
    "🕰️ **History of Matplotlib**\n",
    "   - Matplotlib was created by [*John D. Hunter*](https://en.wikipedia.org/wiki/John_D._Hunter) in 2003.\n",
    "   - It was originally developed to provide a **MATLAB-like** interface for Python.\n",
    "   - Over the years, it has grown into a powerful and flexible plotting library.\n",
    "\n",
    "🛠️ **Use Cases**\n",
    "   - **Data Science**: Visualizing data distributions, trends, and patterns.\n",
    "   - **Finance**: Plotting stock prices, financial indicators, and economic data.\n",
    "   - **Engineering**: Visualizing simulation results, experimental data, and more.\n",
    "\n",
    "🎨 **Matplotlib's Logo**\n",
    "\n",
    "<div style=\"text-align: center; padding-top: 10px;\">\n",
    "    <img src=\"../../assets/images/libraries/matplotlib/project/history-1.png\" alt=\"history-1.png\" style=\"min-width: 256px; max-height: auto; width: 80%\">\n",
    "    <p><em>Figure 1: 2003 - 2008</em> (<a href=\"https://matplotlib.org/stable/project/history.html\" target=\"_blank\">source</a>)</p>\n",
    "</div>\n",
    "\n",
    "<div style=\"text-align: center; padding-top: 10px;\">\n",
    "    <img src=\"../../assets/images/libraries/matplotlib/project/history-2.png\" alt=\"history-2.png\" style=\"min-width: 256px; max-height: auto; width: 80%\">\n",
    "    <p><em>Figure 2: 2008 - 2015</em> (<a href=\"https://matplotlib.org/stable/project/history.html\" target=\"_blank\">source</a>)</p>\n",
    "</div>\n",
    "\n",
    "🔀 **Alternatives**\n",
    "\n",
    "While Matplotlib is very powerful, there are other visualization libraries:  \n",
    "\n",
    "| Library   | Strengths                                | Notes                                   |\n",
    "|-----------|------------------------------------------|-----------------------------------------|\n",
    "| **Seaborn** | High-level API for statistical plots, great defaults | Built on Matplotlib, best for quick EDA |\n",
    "| **Plotly**  | Interactive, web-friendly, supports dashboards | Requires installation; heavier than Matplotlib |\n"
   ]
  },
  {
   "cell_type": "markdown",
   "metadata": {},
   "source": [
    "## <a id='toc2_1_'></a>[Matplotlib Architecture](#toc0_)\n",
    "\n",
    "- Matplotlib is built around a **hierarchy of objects**.  \n",
    "- Understanding this architecture helps you move from simple `pyplot` usage to the more flexible **Object-Oriented API**.\n",
    "\n",
    "<div style=\"text-align: center; padding-top: 10px;\">\n",
    "    <img src=\"../../assets/images/libraries/matplotlib/gallery/anatomy.png\" alt=\"Anatomy of a figure\" style=\"min-width: 256px; max-height: auto; width: 50%\">\n",
    "    <p><em>Figure 3: The Components of a Matplotlib Figure</em> (<a href=\"https://matplotlib.org/stable/gallery/showcase/anatomy.html\" target=\"_blank\">source</a>)</p>\n",
    "</div>\n",
    "\n",
    "📝 Docs:\n",
    "   - `matplotlib.pyplot.figure`: [matplotlib.org/stable/api/_as_gen/matplotlib.pyplot.figure.html](https://matplotlib.org/stable/api/_as_gen/matplotlib.pyplot.figure.html)\n",
    "   - `matplotlib.pyplot.subplots`: [matplotlib.org/stable/api/_as_gen/matplotlib.pyplot.subplots.html](https://matplotlib.org/stable/api/_as_gen/matplotlib.pyplot.subplots.html)\n",
    "   - `matplotlib.pyplot.subplot_mosaic`: [matplotlib.org/stable/api/_as_gen/matplotlib.pyplot.subplot_mosaic.html](https://matplotlib.org/stable/api/_as_gen/matplotlib.pyplot.subplot_mosaic.html)\n"
   ]
  },
  {
   "cell_type": "markdown",
   "metadata": {},
   "source": [
    "### <a id='toc2_1_1_'></a>[Figure](#toc0_)\n",
    "\n",
    "- The **entire window or page** that holds everything.  \n",
    "- Think of it as the \"canvas\".  \n",
    "- A single figure can contain multiple subplots (axes).  \n"
   ]
  },
  {
   "cell_type": "code",
   "execution_count": null,
   "metadata": {},
   "outputs": [],
   "source": [
    "# an empty figure with no Axes\n",
    "fig = plt.figure(figsize=(6, 4))  # width=6, height=4 inches\n",
    "plt.show()  # show the figure"
   ]
  },
  {
   "cell_type": "markdown",
   "metadata": {},
   "source": [
    "#### <a id='toc2_1_1_1_'></a>[Figure Size and DPI](#toc0_)\n",
    "\n",
    "- Every figure in Matplotlib has two fundamental properties that control its **physical dimensions** and **resolution**.\n",
    "\n",
    "**Figure Size**\n",
    "\n",
    "- The **figure size** determines the physical dimensions of a figure, measured in **inches**.\n",
    "\n",
    "**DPI (Dots Per Inch)**\n",
    "\n",
    "- **DPI**, or **dots per inch**, controls the figure's **resolution**. It defines how many pixels are used to represent each inch of the figure.\n",
    "  - A higher DPI means more pixels per inch, resulting in a sharper, more detailed image.  \n",
    "  - A lower DPI reduces the pixel count, which may make the figure look blurrier but also reduces file size.\n",
    "\n",
    "**Conversion Between Inches and Pixels**\n",
    "\n",
    "- The total pixel dimensions of a figure are determined by both **figsize** and **DPI**:\n",
    "\n",
    "$$\n",
    "\\text{pixels\\_width} = \\text{figure\\_width\\_in\\_inches} \\times \\text{dpi}\n",
    "$$\n",
    "$$\n",
    "\\text{pixels\\_height} = \\text{figure\\_height\\_in\\_inches} \\times \\text{dpi}\n",
    "$$\n"
   ]
  },
  {
   "cell_type": "code",
   "execution_count": null,
   "metadata": {},
   "outputs": [],
   "source": [
    "# an empty figure with no Axes\n",
    "fig = plt.figure(figsize=(6, 4), dpi=72)\n",
    "plt.show()  # show the figure"
   ]
  },
  {
   "cell_type": "code",
   "execution_count": null,
   "metadata": {},
   "outputs": [],
   "source": [
    "# an empty figure with no Axes\n",
    "fig = plt.figure(figsize=(6, 4), dpi=150)\n",
    "plt.show()  # show the figure"
   ]
  },
  {
   "cell_type": "markdown",
   "metadata": {},
   "source": [
    "### <a id='toc2_1_2_'></a>[Axes](#toc0_)\n",
    "\n",
    "- The **actual plotting area** inside the figure.  \n",
    "- Each axes has **x-axis, y-axis, labels, ticks, grid, and data**.  \n",
    "- A figure can have one or many axes.  \n"
   ]
  },
  {
   "cell_type": "code",
   "execution_count": null,
   "metadata": {},
   "outputs": [],
   "source": [
    "# a figure with a single Axes\n",
    "fig, ax = plt.subplots()\n",
    "plt.show()"
   ]
  },
  {
   "cell_type": "code",
   "execution_count": null,
   "metadata": {},
   "outputs": [],
   "source": [
    "# add a single Axes (sub-plot area) to a Figure\n",
    "fig = plt.figure(figsize=(6, 4))\n",
    "ax = fig.add_subplot(111)  # 1 row, 1 col, 1st Axes\n",
    "plt.show()"
   ]
  },
  {
   "cell_type": "code",
   "execution_count": null,
   "metadata": {},
   "outputs": [],
   "source": [
    "# a figure with a 2x2 grid of Axes\n",
    "fig, axs = plt.subplots(2, 2)"
   ]
  },
  {
   "cell_type": "code",
   "execution_count": null,
   "metadata": {},
   "outputs": [],
   "source": [
    "# a figure with one Axes on the left, and two on the right\n",
    "fig, axs = plt.subplot_mosaic([[\"left\", \"right_top\"], [\"left\", \"right_bottom\"]])"
   ]
  },
  {
   "cell_type": "markdown",
   "metadata": {},
   "source": [
    "### <a id='toc2_1_3_'></a>[Artist](#toc0_)\n",
    "\n",
    "- Everything you see in a plot (lines, text, labels, ticks, legends, etc.) is an **Artist**.  \n",
    "- Two main categories:\n",
    "  - **Primitives** (Line2D, Rectangle, Text, etc.)  \n",
    "  - **Containers** (Axis, Axes, Figure)  \n"
   ]
  },
  {
   "cell_type": "code",
   "execution_count": null,
   "metadata": {},
   "outputs": [],
   "source": [
    "# create a figure with a single Axes\n",
    "fig = plt.figure(figsize=(6, 4))\n",
    "ax = fig.add_subplot(111)\n",
    "\n",
    "# artists are everything visible: lines, text, labels, etc.\n",
    "(line,) = ax.plot([0, 1, 2], [0, 1, 4], label=\"Line Artist\")\n",
    "ax.set_title(\"Title Artist\")\n",
    "ax.set_xlabel(\"X-axis Artist\")\n",
    "ax.set_ylabel(\"Y-axis Artist\")\n",
    "ax.legend()\n",
    "plt.show()"
   ]
  },
  {
   "cell_type": "markdown",
   "metadata": {},
   "source": [
    "## <a id='toc2_2_'></a>[Matplotlib Notebook Backends](#toc0_)\n",
    "\n",
    "- A **backend** is what Matplotlib uses to render the figure.  \n",
    "- Types of backends:\n",
    "  - **Interactive (GUI)**: TkAgg, Qt5Agg, nbAgg, widget (for Jupyter/VS Code).  \n",
    "  - **Non-interactive**: Agg (for saving files only).  \n"
   ]
  },
  {
   "cell_type": "markdown",
   "metadata": {},
   "source": [
    "### <a id='toc2_2_1_'></a>[%matplotlib inline](#toc0_)\n",
    "\n",
    "- Renders plots as **static images (PNG)** directly below the cell.  \n",
    "- Fast and simple, but not interactive.  \n",
    "- Best for reports, quick previews, or when interactivity is not needed.  \n",
    "- ✅ Always available (default in VS Code notebooks).  \n",
    "- ❌ Cannot zoom, pan, or update plots dynamically. \n"
   ]
  },
  {
   "cell_type": "code",
   "execution_count": null,
   "metadata": {},
   "outputs": [],
   "source": [
    "%matplotlib inline"
   ]
  },
  {
   "cell_type": "code",
   "execution_count": null,
   "metadata": {},
   "outputs": [],
   "source": [
    "plt.plot(x, y)\n",
    "plt.show()"
   ]
  },
  {
   "cell_type": "markdown",
   "metadata": {},
   "source": [
    "### <a id='toc2_2_2_'></a>[%matplotlib notebook](#toc0_)\n",
    "\n",
    "- Renders plots using an **interactive JavaScript backend**.  \n",
    "- You can **zoom, pan, and resize** directly in the notebook.  \n",
    "- Requires `nbagg` backend (sometimes buggy or slow with many points).  \n",
    "- ✅ Useful for exploring data interactively.  \n",
    "- ❌ Less stable than `%matplotlib widget` in modern setups. \n"
   ]
  },
  {
   "cell_type": "code",
   "execution_count": null,
   "metadata": {},
   "outputs": [],
   "source": []
  },
  {
   "cell_type": "markdown",
   "metadata": {},
   "source": [
    "### <a id='toc2_2_3_'></a>[%matplotlib widget](#toc0_)\n",
    "\n",
    "- Uses the **`ipympl` backend** (Matplotlib + ipywidgets).  \n",
    "- Provides fully interactive plots **embedded in the notebook UI**.  \n",
    "- Supports real-time updates, resizing, toolbars, and better interactivity.  \n",
    "- ✅ Works smoothly in VS Code notebooks (with `ipywidgets` + `ipympl` installed).  \n",
    "- ✅ Preferred modern replacement for `%matplotlib notebook`.  \n",
    "- ❌ Slightly more overhead than `%matplotlib inline`.  \n"
   ]
  },
  {
   "cell_type": "code",
   "execution_count": null,
   "metadata": {},
   "outputs": [],
   "source": [
    "%matplotlib widget"
   ]
  },
  {
   "cell_type": "code",
   "execution_count": null,
   "metadata": {},
   "outputs": [],
   "source": [
    "plt.plot(x, y)\n",
    "plt.show()"
   ]
  },
  {
   "cell_type": "code",
   "execution_count": null,
   "metadata": {},
   "outputs": [],
   "source": [
    "# reset to static mode\n",
    "%matplotlib inline"
   ]
  },
  {
   "cell_type": "markdown",
   "metadata": {},
   "source": [
    "## <a id='toc2_3_'></a>[Pyplot vs Object-Oriented](#toc0_)\n",
    "\n",
    "Matplotlib provides **two main interfaces**:\n",
    "\n",
    "1. **Pyplot API (`plt`)** – Simple, MATLAB-like interface, great for quick plotting.  \n",
    "1. **Object-Oriented API** – More control, recommended for complex plots and production code.\n",
    "\n",
    "> In this tutorial, we’ll start with the Pyplot API for simplicity, and gradually move to the Object-Oriented approach.\n",
    "\n",
    "📝 Docs:\n",
    "   - `matplotlib.pyplot`: [matplotlib.org/stable/api/pyplot_summary.html](https://matplotlib.org/stable/api/pyplot_summary.html)\n",
    "   - `matplotlib.axes`: [matplotlib.org/stable/api/axes_api.html](https://matplotlib.org/stable/api/axes_api.html)\n"
   ]
  },
  {
   "cell_type": "markdown",
   "metadata": {},
   "source": [
    "### <a id='toc2_3_1_'></a>[Pyplot](#toc0_)\n"
   ]
  },
  {
   "cell_type": "code",
   "execution_count": null,
   "metadata": {},
   "outputs": [],
   "source": [
    "# pyplot API\n",
    "plt.plot(x, y)\n",
    "plt.title(\"Sine Wave\")\n",
    "plt.xlabel(\"x\")\n",
    "plt.ylabel(\"sin(x)\")\n",
    "plt.show()"
   ]
  },
  {
   "cell_type": "markdown",
   "metadata": {},
   "source": [
    "### <a id='toc2_3_2_'></a>[Object-Oriented](#toc0_)\n"
   ]
  },
  {
   "cell_type": "code",
   "execution_count": null,
   "metadata": {},
   "outputs": [],
   "source": [
    "# object-oriented API\n",
    "fig, ax = plt.subplots()\n",
    "ax.plot(x, y)\n",
    "ax.set_title(\"Sine Wave\")\n",
    "ax.set_xlabel(\"x\")\n",
    "ax.set_ylabel(\"sin(x)\")\n",
    "plt.show()"
   ]
  }
 ],
 "metadata": {
  "author_email": "AmirhosseinHeydari78@gmail.com",
  "author_github": "https://github.com/mr-pylin",
  "author_name": "Amirhossein Heydari",
  "kernelspec": {
   "display_name": "data-visualization-workshop (3.13.7)",
   "language": "python",
   "name": "python3"
  },
  "language_info": {
   "codemirror_mode": {
    "name": "ipython",
    "version": 3
   },
   "file_extension": ".py",
   "mimetype": "text/x-python",
   "name": "python",
   "nbconvert_exporter": "python",
   "pygments_lexer": "ipython3",
   "version": "3.13.7"
  },
  "origin_repo": "https://github.com/mr-pylin/matplotlib-workshop"
 },
 "nbformat": 4,
 "nbformat_minor": 2
}
