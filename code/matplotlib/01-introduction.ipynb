{
 "cells": [
  {
   "cell_type": "markdown",
   "metadata": {},
   "source": [
    "📝 **Author:** Amirhossein Heydari - 📧 **Email:** AmirhosseinHeydari78@gmail.com - 📍 **Linktree:** [linktr.ee/mr_pylin](https://linktr.ee/mr_pylin)\n",
    "\n",
    "---"
   ]
  },
  {
   "cell_type": "markdown",
   "metadata": {},
   "source": [
    "# Dependencies"
   ]
  },
  {
   "cell_type": "code",
   "execution_count": null,
   "metadata": {},
   "outputs": [],
   "source": [
    "import matplotlib.pyplot as plt\n",
    "import numpy as np"
   ]
  },
  {
   "cell_type": "markdown",
   "metadata": {},
   "source": [
    "# Introduction to Matplotlib\n",
    "   - Matplotlib is a comprehensive library for creating **static**, **animated**, and **interactive** visualizations in Python.\n",
    "   - Although Matplotlib is written primarily in **pure Python**, it makes heavy use of [**NumPy**](https://numpy.org/) and other extension code to provide **good performance** even for large arrays.\n",
    "   - It is widely used in **data science**, **machine learning**, and **scientific computing** to create a variety of plots and charts.\n",
    "\n",
    "🕰️ **History of Matplotlib**:\n",
    "   - Matplotlib was created by [*John D. Hunter*](https://en.wikipedia.org/wiki/John_D._Hunter) in 2003.\n",
    "   - It was originally developed to provide a **MATLAB-like** interface for Python.\n",
    "   - Over the years, it has grown into a powerful and flexible plotting library.\n",
    "\n",
    "🛠️ **Use Cases**\n",
    "   - **Data Science**: Visualizing data distributions, trends, and patterns.\n",
    "   - **Finance**: Plotting stock prices, financial indicators, and economic data.\n",
    "   - **Engineering**: Visualizing simulation results, experimental data, and more.\n",
    "\n",
    "🎨 **Matplotlib's Logo**\n",
    "   <figure style=\"text-align:center; margin:0;\">\n",
    "      <img src=\"../../assets/images/third_party/matplotlib/history-1.png\" alt=\"history-1.png\" style=\"width:80%; height:auto;\">\n",
    "      <figcaption style=\"text-align:center;\">©️ Image <a href= \"https://matplotlib.org/stable/project/history.html\">(2003 - 2008)</a></figcaption>\n",
    "   </figure>\n",
    "   <br>\n",
    "   <figure style=\"text-align:center; margin:0;\">\n",
    "      <img src=\"../../assets/images/third_party/matplotlib/history-2.png\" alt=\"history-2.svg\" style=\"width:80%; height:auto;\">\n",
    "      <figcaption style=\"text-align:center;\">©️ Image <a href= \"https://matplotlib.org/stable/project/history.html\">(2008 - 2015)</a></figcaption>\n",
    "   </figure>"
   ]
  },
  {
   "cell_type": "markdown",
   "metadata": {},
   "source": [
    "## Figure\n",
    "   - The [**Figure**](https://matplotlib.org/stable/api/_as_gen/matplotlib.figure.Figure.html#matplotlib.figure.Figure) keeps track of all the child [**Axes**](https://matplotlib.org/stable/api/_as_gen/matplotlib.axes.Axes.html#matplotlib.axes.Axes), a group of **special** Artists (titles, figure legends, colorbars, etc.), and even nested subfigures.\n",
    "   - **Axes** are the part of the figure where the data is plotted.\n",
    "   \n",
    "   <figure style=\"text-align:center; margin:0;\">\n",
    "      <img src=\"../../assets/images/third_party/matplotlib/anatomy.png\" alt=\"anatomy.png\" style=\"width:50%; height:auto;\">\n",
    "      <figcaption style=\"text-align:center;\">©️ Image: <a href= \"https://matplotlib.org/stable/users/explain/quick_start.html#parts-of-a-figure\">the components of a Matplotlib Figure</a></figcaption>\n",
    "   </figure>\n",
    "\n",
    "📝 Docs:\n",
    "   - `matplotlib.pyplot.figure`: [matplotlib.org/stable/api/_as_gen/matplotlib.pyplot.figure.html](https://matplotlib.org/stable/api/_as_gen/matplotlib.pyplot.figure.html)\n",
    "   - `matplotlib.pyplot.subplots`: [matplotlib.org/stable/api/_as_gen/matplotlib.pyplot.subplots.html](https://matplotlib.org/stable/api/_as_gen/matplotlib.pyplot.subplots.html)\n",
    "   - `matplotlib.pyplot.subplot_mosaic`: [matplotlib.org/stable/api/_as_gen/matplotlib.pyplot.subplot_mosaic.html](https://matplotlib.org/stable/api/_as_gen/matplotlib.pyplot.subplot_mosaic.html)"
   ]
  },
  {
   "cell_type": "code",
   "execution_count": null,
   "metadata": {},
   "outputs": [],
   "source": [
    "# an empty figure with no Axes\n",
    "fig = plt.figure()"
   ]
  },
  {
   "cell_type": "code",
   "execution_count": null,
   "metadata": {},
   "outputs": [],
   "source": [
    "# a figure with a single Axes\n",
    "fig, ax = plt.subplots()"
   ]
  },
  {
   "cell_type": "code",
   "execution_count": null,
   "metadata": {},
   "outputs": [],
   "source": [
    "# a figure with a 2x2 grid of Axes\n",
    "fig, axs = plt.subplots(2, 2)"
   ]
  },
  {
   "cell_type": "code",
   "execution_count": null,
   "metadata": {},
   "outputs": [],
   "source": [
    "# a figure with one Axes on the left, and two on the right\n",
    "fig, axs = plt.subplot_mosaic([[\"left\", \"right_top\"], [\"left\", \"right_bottom\"]])"
   ]
  },
  {
   "cell_type": "markdown",
   "metadata": {},
   "source": [
    "## Coding styles\n",
    "   - Explicitly create Figures and Axes, and call methods on them (the \"object-oriented (OO) style\").\n",
    "   - Rely on pyplot to implicitly create and manage the Figures and Axes, and use pyplot functions for plotting.\n",
    "\n",
    "📝 Docs:\n",
    "   - `matplotlib.pyplot`: [matplotlib.org/stable/api/pyplot_summary.html](https://matplotlib.org/stable/api/pyplot_summary.html)\n",
    "   - `matplotlib.axes`: [matplotlib.org/stable/api/axes_api.html](https://matplotlib.org/stable/api/axes_api.html)"
   ]
  },
  {
   "cell_type": "markdown",
   "metadata": {},
   "source": [
    "### object-oriented style [preferred]"
   ]
  },
  {
   "cell_type": "code",
   "execution_count": null,
   "metadata": {},
   "outputs": [],
   "source": [
    "# sample data\n",
    "x = np.linspace(0, 2, 100)\n",
    "\n",
    "# plot\n",
    "fig, ax = plt.subplots(figsize=(5, 2.7), layout=\"constrained\")  # we use `.pyplot.figure` to create the Figure.\n",
    "ax.plot(x, x, label=\"linear\")\n",
    "ax.plot(x, x**2, label=\"quadratic\")\n",
    "ax.plot(x, x**3, label=\"cubic\")\n",
    "ax.set_xlabel(\"x label\")\n",
    "ax.set_ylabel(\"y label\")\n",
    "ax.set_title(\"Simple Plot\")\n",
    "ax.legend()"
   ]
  },
  {
   "cell_type": "markdown",
   "metadata": {},
   "source": [
    "### pyplot-style"
   ]
  },
  {
   "cell_type": "code",
   "execution_count": null,
   "metadata": {},
   "outputs": [],
   "source": [
    "# sample data\n",
    "x = np.linspace(0, 2, 100)\n",
    "\n",
    "plt.figure(figsize=(5, 2.7), layout=\"constrained\")\n",
    "plt.plot(x, x, label=\"linear\")\n",
    "plt.plot(x, x**2, label=\"quadratic\")\n",
    "plt.plot(x, x**3, label=\"cubic\")\n",
    "plt.xlabel(\"x label\")\n",
    "plt.ylabel(\"y label\")\n",
    "plt.title(\"Simple Plot\")\n",
    "plt.legend()"
   ]
  }
 ],
 "metadata": {
  "author_email": "AmirhosseinHeydari78@gmail.com",
  "author_github": "https://github.com/mr-pylin",
  "author_name": "Amirhossein Heydari",
  "kernelspec": {
   "display_name": "Python 3",
   "language": "python",
   "name": "python3"
  },
  "language_info": {
   "codemirror_mode": {
    "name": "ipython",
    "version": 3
   },
   "file_extension": ".py",
   "mimetype": "text/x-python",
   "name": "python",
   "nbconvert_exporter": "python",
   "pygments_lexer": "ipython3",
   "version": "3.12.3"
  },
  "origin_repo": "https://github.com/mr-pylin/matplotlib-workshop"
 },
 "nbformat": 4,
 "nbformat_minor": 2
}
