{
 "cells": [
  {
   "cell_type": "markdown",
   "metadata": {},
   "source": [
    "📝 **Author:** Amirhossein Heydari - 📧 **Email:** AmirhosseinHeydari78@gmail.com - 📍 **Linktree:** [linktr.ee/mr_pylin](https://linktr.ee/mr_pylin)\n",
    "\n",
    "---"
   ]
  },
  {
   "cell_type": "markdown",
   "metadata": {},
   "source": [
    "# Dependencies"
   ]
  },
  {
   "cell_type": "code",
   "execution_count": 1,
   "metadata": {},
   "outputs": [],
   "source": [
    "import matplotlib.pyplot as plt\n",
    "import numpy as np"
   ]
  },
  {
   "cell_type": "markdown",
   "metadata": {},
   "source": [
    "# Customization and Styling Plots"
   ]
  },
  {
   "cell_type": "markdown",
   "metadata": {},
   "source": [
    "## Titles and Labels\n",
    "   - Adding titles and labels to your plots helps to describe the data being presented."
   ]
  },
  {
   "cell_type": "code",
   "execution_count": null,
   "metadata": {},
   "outputs": [],
   "source": [
    "# create sample data\n",
    "x = np.linspace(0, 10, 100)\n",
    "y = np.sin(x)\n",
    "\n",
    "# plot data\n",
    "plt.plot(x, y)\n",
    "plt.title(\"Customized Line Plot\")\n",
    "plt.xlabel(\"Time\")\n",
    "plt.ylabel(\"Amplitude\")\n",
    "plt.show()"
   ]
  },
  {
   "cell_type": "markdown",
   "metadata": {},
   "source": [
    "## Legends\n",
    "   - Legends help to identify different data series in a plot."
   ]
  },
  {
   "cell_type": "code",
   "execution_count": null,
   "metadata": {},
   "outputs": [],
   "source": [
    "y1 = np.sin(x)\n",
    "y2 = np.cos(x)\n",
    "\n",
    "# plot data\n",
    "plt.plot(x, y1, label=\"Sine\")\n",
    "plt.plot(x, y2, label=\"Cosine\")\n",
    "plt.title(\"Plot with Legend\")\n",
    "plt.xlabel(\"X-axis\")\n",
    "plt.ylabel(\"Y-axis\")\n",
    "plt.legend(loc=\"upper right\", fontsize=\"medium\", shadow=True, fancybox=True, framealpha=0.7)\n",
    "plt.show()"
   ]
  },
  {
   "cell_type": "markdown",
   "metadata": {},
   "source": [
    "## Line Styles and Colors\n",
    "   You can customize the appearance of your plots by changing colors and line styles."
   ]
  },
  {
   "cell_type": "markdown",
   "metadata": {},
   "source": [
    "<table style=\"width: 32%; float: left; margin-right: 1%;\">\n",
    "   <thead>\n",
    "      <tr>\n",
    "         <th style=\"text-align: center;\">Line Style</th>\n",
    "         <th style=\"text-align: center;\">Description</th>\n",
    "      </tr>\n",
    "   </thead>\n",
    "   <tbody>\n",
    "      <tr>\n",
    "         <td style=\"font-family: 'Courier New', Courier, monospace; text-align: center;\">'-'</td>\n",
    "         <td>Solid line</td>\n",
    "      </tr>\n",
    "      <tr>\n",
    "         <td style=\"font-family: 'Courier New', Courier, monospace; text-align: center;\">'--'</td>\n",
    "         <td>Dashed linev</td>\n",
    "      </tr>\n",
    "      <tr>\n",
    "         <td style=\"font-family: 'Courier New', Courier, monospace; text-align: center;\">'-.'</td>\n",
    "         <td>Dash-dot line</td>\n",
    "      </tr>\n",
    "      <tr>\n",
    "         <td style=\"font-family: 'Courier New', Courier, monospace; text-align: center;\">':'</td>\n",
    "         <td>Dotted line</td>\n",
    "      </tr>\n",
    "      <tr>\n",
    "         <td style=\"font-family: 'Courier New', Courier, monospace; text-align: center;\">'' or ' '</td>\n",
    "         <td>No line</td>\n",
    "      </tr>\n",
    "   </tbody>\n",
    "</table>\n",
    "\n",
    "<table style=\"width: 32%; float: left; margin-right: 1%;\">\n",
    "   <thead>\n",
    "      <tr>\n",
    "         <th style=\"text-align: center;\">Markers</th>\n",
    "         <th style=\"text-align: center;\">Description</th>\n",
    "      </tr>\n",
    "   </thead>\n",
    "   <tbody>\n",
    "      <tr>\n",
    "         <td style=\"font-family: 'Courier New', Courier, monospace; text-align: center;\">\".\"</td>\n",
    "         <td>point</td>\n",
    "      </tr>\n",
    "      <tr>\n",
    "         <td style=\"font-family: 'Courier New', Courier, monospace; text-align: center;\">\",\"</td>\n",
    "         <td>pixel</td>\n",
    "      </tr>\n",
    "      <tr>\n",
    "         <td style=\"font-family: 'Courier New', Courier, monospace; text-align: center;\">\"o\"</td>\n",
    "         <td>circle</td>\n",
    "      </tr>\n",
    "      <tr>\n",
    "         <td style=\"font-family: 'Courier New', Courier, monospace; text-align: center;\">\"v\"</td>\n",
    "         <td>triangle_down</td>\n",
    "      </tr>\n",
    "      <tr>\n",
    "         <td style=\"font-family: 'Courier New', Courier, monospace; text-align: center;\">\"^\"</td>\n",
    "         <td>triangle_up</td>\n",
    "      </tr>\n",
    "      <tr>\n",
    "         <td style=\"font-family: 'Courier New', Courier, monospace; text-align: center;\">\"<\"</td>\n",
    "         <td>triangle_left</td>\n",
    "      </tr>\n",
    "      <tr>\n",
    "         <td style=\"font-family: 'Courier New', Courier, monospace; text-align: center;\">\">\"</td>\n",
    "         <td>triangle_right</td>\n",
    "      </tr>\n",
    "      <tr>\n",
    "         <td style=\"font-family: 'Courier New', Courier, monospace; text-align: center;\">\"s\"</td>\n",
    "         <td>square</td>\n",
    "      </tr>\n",
    "      <tr>\n",
    "         <td style=\"font-family: 'Courier New', Courier, monospace; text-align: center;\">\"p\"</td>\n",
    "         <td>pentagon</td>\n",
    "      </tr>\n",
    "      <tr>\n",
    "         <td style=\"font-family: 'Courier New', Courier, monospace; text-align: center;\">\"P\"</td>\n",
    "         <td>plus (filled)</td>\n",
    "      </tr>\n",
    "   </tbody>\n",
    "</table>\n",
    "\n",
    "<table style=\"width: 32%; float: left;\">\n",
    "   <thead>\n",
    "      <tr>\n",
    "         <th style=\"text-align: center;\">Markers</th>\n",
    "         <th style=\"text-align: center;\">Description</th>\n",
    "      </tr>\n",
    "   </thead>\n",
    "   <tbody>\n",
    "      <tr>\n",
    "         <td style=\"font-family: 'Courier New', Courier, monospace; text-align: center;\">\"*\"</td>\n",
    "         <td>star</td>\n",
    "      </tr>\n",
    "      <tr>\n",
    "         <td style=\"font-family: 'Courier New', Courier, monospace; text-align: center;\">\"h\"</td>\n",
    "         <td>hexagon1</td>\n",
    "      </tr>\n",
    "      <tr>\n",
    "         <td style=\"font-family: 'Courier New', Courier, monospace; text-align: center;\">\"H\"</td>\n",
    "         <td>hexagon2</td>\n",
    "      </tr>\n",
    "      <tr>\n",
    "         <td style=\"font-family: 'Courier New', Courier, monospace; text-align: center;\">\"+\"</td>\n",
    "         <td>plus</td>\n",
    "      </tr>\n",
    "      <tr>\n",
    "         <td style=\"font-family: 'Courier New', Courier, monospace; text-align: center;\">\"x\"</td>\n",
    "         <td>x</td>\n",
    "      </tr>\n",
    "      <tr>\n",
    "         <td style=\"font-family: 'Courier New', Courier, monospace; text-align: center;\">\"X\"</td>\n",
    "         <td>x (filled)</td>\n",
    "      </tr>\n",
    "      <tr>\n",
    "         <td style=\"font-family: 'Courier New', Courier, monospace; text-align: center;\">\"D\"</td>\n",
    "         <td>diamond</td>\n",
    "      </tr>\n",
    "      <tr>\n",
    "         <td style=\"font-family: 'Courier New', Courier, monospace; text-align: center;\">\"d\"</td>\n",
    "         <td>thin_diamond</td>\n",
    "      </tr>\n",
    "      <tr>\n",
    "         <td style=\"font-family: 'Courier New', Courier, monospace; text-align: center;\">\"|\"</td>\n",
    "         <td>vline</td>\n",
    "      </tr>\n",
    "      <tr>\n",
    "         <td style=\"font-family: 'Courier New', Courier, monospace; text-align: center;\">\"_\"</td>\n",
    "         <td>hline</td>\n",
    "      </tr>\n",
    "   </tbody>\n",
    "</table>\n",
    "\n",
    "📝 Docs:\n",
    "   - Linestyles: [matplotlib.org/stable/gallery/lines_bars_and_markers/linestyles.html](https://matplotlib.org/stable/gallery/lines_bars_and_markers/linestyles.html)\n",
    "   - `matplotlib.markers`: [matplotlib.org/stable/api/markers_api.html](https://matplotlib.org/stable/api/markers_api.html)"
   ]
  },
  {
   "cell_type": "code",
   "execution_count": null,
   "metadata": {},
   "outputs": [],
   "source": [
    "plt.plot(x, y, color=\"red\", linestyle=\"--\", marker=\"o\")\n",
    "plt.title(\"Styled Line Plot\")\n",
    "plt.xlabel(\"X-axis\")\n",
    "plt.ylabel(\"Y-axis\")\n",
    "plt.show()"
   ]
  },
  {
   "cell_type": "markdown",
   "metadata": {},
   "source": [
    "## Marker Styles\n",
    "   - Markers can be customized to enhance the visibility of data points."
   ]
  },
  {
   "cell_type": "code",
   "execution_count": null,
   "metadata": {},
   "outputs": [],
   "source": [
    "plt.plot(x, y, marker=\"o\", markersize=10, markerfacecolor=\"blue\", markeredgewidth=2, markeredgecolor=\"black\")\n",
    "plt.title(\"Plot with Custom Markers\")\n",
    "plt.xlabel(\"X-axis\")\n",
    "plt.ylabel(\"Y-axis\")\n",
    "plt.show()"
   ]
  },
  {
   "cell_type": "markdown",
   "metadata": {},
   "source": [
    "## Customizing Axes\n",
    "   - You can customize the appearance of the axes to improve readability."
   ]
  },
  {
   "cell_type": "code",
   "execution_count": null,
   "metadata": {},
   "outputs": [],
   "source": [
    "plt.plot(x, y)\n",
    "plt.xlim(0, 10)\n",
    "plt.ylim(-1.5, 1.5)\n",
    "plt.xlabel(\"X-axis\")\n",
    "plt.ylabel(\"Y-axis\")\n",
    "plt.show()"
   ]
  },
  {
   "cell_type": "markdown",
   "metadata": {},
   "source": [
    "## Customizing Ticks\n",
    "   - Ticks can be customized to enhance the readability of the plot."
   ]
  },
  {
   "cell_type": "code",
   "execution_count": null,
   "metadata": {},
   "outputs": [],
   "source": [
    "plt.plot(x, y)\n",
    "plt.xticks(np.arange(0, 11, 1))\n",
    "plt.yticks(np.arange(-1, 1.5, 0.5))\n",
    "plt.title(\"Plot with Custom Ticks\")\n",
    "plt.xlabel(\"X-axis\")\n",
    "plt.ylabel(\"Y-axis\")\n",
    "plt.show()"
   ]
  },
  {
   "cell_type": "markdown",
   "metadata": {},
   "source": [
    "## Adding Grid Lines\n",
    "   - Grid lines can help to improve the readability of the plot."
   ]
  },
  {
   "cell_type": "code",
   "execution_count": null,
   "metadata": {},
   "outputs": [],
   "source": [
    "plt.plot(x, y)\n",
    "plt.grid(True)\n",
    "plt.title(\"Plot with Grid Lines\")\n",
    "plt.xlabel(\"X-axis\")\n",
    "plt.ylabel(\"Y-axis\")\n",
    "plt.show()"
   ]
  },
  {
   "cell_type": "markdown",
   "metadata": {},
   "source": [
    "## Customizing Background\n",
    "   - You can customize the background color of the plot."
   ]
  },
  {
   "cell_type": "code",
   "execution_count": null,
   "metadata": {},
   "outputs": [],
   "source": [
    "plt.plot(x, y)\n",
    "plt.gca().set_facecolor(\"lightgray\")\n",
    "plt.title(\"Plot with Custom Background\")\n",
    "plt.xlabel(\"X-axis\")\n",
    "plt.ylabel(\"Y-axis\")\n",
    "plt.show()"
   ]
  },
  {
   "cell_type": "markdown",
   "metadata": {},
   "source": [
    "## Annotations\n",
    "   - Annotations can be used to highlight specific points or areas in the plot."
   ]
  },
  {
   "cell_type": "code",
   "execution_count": null,
   "metadata": {},
   "outputs": [],
   "source": [
    "plt.plot(x, y)\n",
    "plt.annotate(\"Max Value\", xy=(np.pi / 2, 1), xytext=(np.pi / 2, 1.5), arrowprops=dict(facecolor=\"black\", shrink=0.05))\n",
    "plt.title(\"Plot with Annotation\")\n",
    "plt.xlabel(\"X-axis\")\n",
    "plt.ylabel(\"Y-axis\")\n",
    "plt.show()"
   ]
  }
 ],
 "metadata": {
  "author_email": "AmirhosseinHeydari78@gmail.com",
  "author_github": "https://github.com/mr-pylin",
  "author_name": "Amirhossein Heydari",
  "kernelspec": {
   "display_name": "Python 3",
   "language": "python",
   "name": "python3"
  },
  "language_info": {
   "codemirror_mode": {
    "name": "ipython",
    "version": 3
   },
   "file_extension": ".py",
   "mimetype": "text/x-python",
   "name": "python",
   "nbconvert_exporter": "python",
   "pygments_lexer": "ipython3",
   "version": "3.12.3"
  },
  "origin_repo": "https://github.com/mr-pylin/matplotlib-workshop"
 },
 "nbformat": 4,
 "nbformat_minor": 2
}
