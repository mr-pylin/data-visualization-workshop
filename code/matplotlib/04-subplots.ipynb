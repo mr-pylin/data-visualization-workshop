{
 "cells": [
  {
   "cell_type": "markdown",
   "metadata": {},
   "source": [
    "📝 **Author:** Amirhossein Heydari - 📧 **Email:** AmirhosseinHeydari78@gmail.com - 📍 **Linktree:** [linktr.ee/mr_pylin](https://linktr.ee/mr_pylin)\n",
    "\n",
    "---"
   ]
  },
  {
   "cell_type": "markdown",
   "metadata": {},
   "source": [
    "# Dependencies"
   ]
  },
  {
   "cell_type": "code",
   "execution_count": 15,
   "metadata": {},
   "outputs": [],
   "source": [
    "import matplotlib.gridspec as gridspec\n",
    "import matplotlib.pyplot as plt\n",
    "import numpy as np"
   ]
  },
  {
   "cell_type": "markdown",
   "metadata": {},
   "source": [
    "# Subplots\n",
    "   - Subplots are smaller plots within a single figure, useful for comparing different views of data side by side."
   ]
  },
  {
   "cell_type": "markdown",
   "metadata": {},
   "source": [
    "## Using `plt.subplots()`\n",
    "   - This is the most common and recommended method.\n",
    "   - It creates a figure and a grid of subplots with a single call.\n",
    "\n",
    "📝 Docs:\n",
    "   - `matplotlib.pyplot.subplots`: [matplotlib.org/stable/api/_as_gen/matplotlib.pyplot.subplots.html](https://matplotlib.org/stable/api/_as_gen/matplotlib.pyplot.subplots.html)\n",
    "   - `matplotlib.figure.Figure.add_subplot`: [matplotlib.org/stable/api/_as_gen/matplotlib.figure.Figure.add_subplot.html](https://matplotlib.org/stable/api/_as_gen/matplotlib.figure.Figure.add_subplot.html)\n",
    "   - `matplotlib.gridspec.GridSpec`: [matplotlib.org/stable/api/_as_gen/matplotlib.gridspec.GridSpec.html#matplotlib.gridspec.GridSpec](https://matplotlib.org/stable/api/_as_gen/matplotlib.gridspec.GridSpec.html#matplotlib.gridspec.GridSpec)\n",
    "   - `matplotlib.pyplot.figure`: [https://matplotlib.org/stable/api/_as_gen/matplotlib.pyplot.figure.html](https://matplotlib.org/stable/api/_as_gen/matplotlib.pyplot.figure.html)"
   ]
  },
  {
   "cell_type": "code",
   "execution_count": null,
   "metadata": {},
   "outputs": [],
   "source": [
    "# create sample data\n",
    "x = np.linspace(0, 10, 100)\n",
    "y = np.sin(x)\n",
    "\n",
    "# subplots\n",
    "fig, axs = plt.subplots(nrows=2, ncols=2, figsize=(10, 8), layout=\"compressed\")\n",
    "\n",
    "axs[0, 0].plot(x, y)\n",
    "axs[0, 0].set_title(\"Sine Wave\")\n",
    "\n",
    "axs[0, 1].plot(x, y**2)\n",
    "axs[0, 1].set_title(\"Sine Squared\")\n",
    "\n",
    "axs[1, 0].plot(x, -y)\n",
    "axs[1, 0].set_title(\"Negative Sine\")\n",
    "\n",
    "axs[1, 1].plot(x, -(y**2))\n",
    "axs[1, 1].set_title(\"Negative Sine Squared\")\n",
    "\n",
    "plt.show()"
   ]
  },
  {
   "cell_type": "markdown",
   "metadata": {},
   "source": [
    "## Using `plt.subplot()`\n",
    "   - This method allows for more manual control over subplot creation.\n",
    "\n",
    "📝 Docs:\n",
    "   - `matplotlib.pyplot.subplot`: [matplotlib.org/stable/api/_as_gen/matplotlib.pyplot.subplot.html](https://matplotlib.org/stable/api/_as_gen/matplotlib.pyplot.subplot.html)"
   ]
  },
  {
   "cell_type": "code",
   "execution_count": null,
   "metadata": {},
   "outputs": [],
   "source": [
    "# create sample data\n",
    "x = np.linspace(0, 10, 100)\n",
    "y = np.sin(x)\n",
    "\n",
    "# subplot\n",
    "plt.figure(figsize=(10, 8))\n",
    "\n",
    "plt.subplot(2, 2, 1)  # 2x2 grid, first subplot\n",
    "plt.plot(x, y)\n",
    "plt.title(\"Sine Wave\")\n",
    "\n",
    "plt.subplot(2, 2, 2)  # 2x2 grid, second subplot\n",
    "plt.plot(x, y**2)\n",
    "plt.title(\"Sine Squared\")\n",
    "\n",
    "plt.subplot(2, 2, 3)  # 2x2 grid, third subplot\n",
    "plt.plot(x, -y)\n",
    "plt.title(\"Negative Sine\")\n",
    "\n",
    "plt.subplot(2, 2, 4)  # 2x2 grid, fourth subplot\n",
    "plt.plot(x, -(y**2))\n",
    "plt.title(\"Negative Sine Squared\")\n",
    "\n",
    "plt.tight_layout()  # automatically adjusts the spacing between subplots to minimize overlap and make the layout more visually appealing.\n",
    "plt.show()"
   ]
  },
  {
   "cell_type": "markdown",
   "metadata": {},
   "source": [
    "## Using `figure.add_subplot()`\n",
    "   - This method is useful for adding subplots to an existing figure.\n",
    "\n",
    "📝 Docs:\n",
    "   - `matplotlib.figure.Figure.add_subplot`: [matplotlib.org/stable/api/_as_gen/matplotlib.figure.Figure.add_subplot.html](https://matplotlib.org/stable/api/_as_gen/matplotlib.figure.Figure.add_subplot.html)"
   ]
  },
  {
   "cell_type": "code",
   "execution_count": null,
   "metadata": {},
   "outputs": [],
   "source": [
    "# create sample data\n",
    "x = np.linspace(0, 10, 100)\n",
    "y = np.sin(x)\n",
    "\n",
    "# add_subplot\n",
    "fig = plt.figure(figsize=(10, 8))\n",
    "\n",
    "ax1 = fig.add_subplot(2, 2, 1)\n",
    "ax1.plot(x, y)\n",
    "ax1.set_title(\"Sine Wave\")\n",
    "\n",
    "ax2 = fig.add_subplot(2, 2, 2)\n",
    "ax2.plot(x, y**2)\n",
    "ax2.set_title(\"Sine Squared\")\n",
    "\n",
    "ax3 = fig.add_subplot(2, 2, 3)\n",
    "ax3.plot(x, -y)\n",
    "ax3.set_title(\"Negative Sine\")\n",
    "\n",
    "ax4 = fig.add_subplot(2, 2, 4)\n",
    "ax4.plot(x, -(y**2))\n",
    "ax4.set_title(\"Negative Sine Squared\")\n",
    "\n",
    "plt.tight_layout()\n",
    "plt.show()"
   ]
  },
  {
   "cell_type": "markdown",
   "metadata": {},
   "source": [
    "## Using `GridSpec`\n",
    "   - For more complex layouts, GridSpec provides flexibility.\n",
    "\n",
    "📝 Docs:\n",
    "   - `matplotlib.gridspec.GridSpec`: [matplotlib.org/stable/api/_as_gen/matplotlib.gridspec.GridSpec.html](https://matplotlib.org/stable/api/_as_gen/matplotlib.gridspec.GridSpec.html)"
   ]
  },
  {
   "cell_type": "code",
   "execution_count": null,
   "metadata": {},
   "outputs": [],
   "source": [
    "# create sample data\n",
    "x = np.linspace(0, 10, 100)\n",
    "y = np.sin(x)\n",
    "\n",
    "# gridspec\n",
    "fig = plt.figure(figsize=(10, 8))\n",
    "gs = gridspec.GridSpec(3, 3)\n",
    "\n",
    "ax1 = fig.add_subplot(gs[0, :])\n",
    "ax1.plot(x, y)\n",
    "ax1.set_title(\"Sine Wave\")\n",
    "\n",
    "ax2 = fig.add_subplot(gs[1, :-1])\n",
    "ax2.plot(x, y**2)\n",
    "ax2.set_title(\"Sine Squared\")\n",
    "\n",
    "ax3 = fig.add_subplot(gs[1:, -1])\n",
    "ax3.plot(x, -y)\n",
    "ax3.set_title(\"Negative Sine\")\n",
    "\n",
    "ax4 = fig.add_subplot(gs[-1, 0])\n",
    "ax4.plot(x, -(y**2))\n",
    "ax4.set_title(\"Negative Sine Squared\")\n",
    "\n",
    "ax5 = fig.add_subplot(gs[-1, -2])\n",
    "ax5.plot(x, y**3)\n",
    "ax5.set_title(\"Sine Cubed\")\n",
    "\n",
    "plt.tight_layout()\n",
    "plt.show()"
   ]
  }
 ],
 "metadata": {
  "author_email": "AmirhosseinHeydari78@gmail.com",
  "author_github": "https://github.com/mr-pylin",
  "author_name": "Amirhossein Heydari",
  "kernelspec": {
   "display_name": "Python 3",
   "language": "python",
   "name": "python3"
  },
  "language_info": {
   "codemirror_mode": {
    "name": "ipython",
    "version": 3
   },
   "file_extension": ".py",
   "mimetype": "text/x-python",
   "name": "python",
   "nbconvert_exporter": "python",
   "pygments_lexer": "ipython3",
   "version": "3.12.3"
  },
  "origin_repo": "https://github.com/mr-pylin/matplotlib-workshop"
 },
 "nbformat": 4,
 "nbformat_minor": 2
}
