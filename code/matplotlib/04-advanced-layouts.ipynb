{
 "cells": [
  {
   "cell_type": "markdown",
   "metadata": {},
   "source": [
    "<div style=\"display: flex; justify-content: space-between; align-items: center;\">\n",
    "    <div style=\"text-align: left; flex: 4;\">\n",
    "        <strong>Author:</strong> Amirhossein Heydari — \n",
    "        📧 <a href=\"mailto:amirhosseinheydari78@gmail.com\">amirhosseinheydari78@gmail.com</a> — \n",
    "        🐙 <a href=\"https://github.com/mr-pylin/data-visualization-workshop\" target=\"_blank\" rel=\"noopener\">github.com/mr-pylin</a>\n",
    "    </div>\n",
    "    <div style=\"display: flex; justify-content: flex-end; flex: 1; gap: 8px; align-items: center; padding: 0;\">\n",
    "        <a href=\"https://matplotlib.org/\" target=\"_blank\" rel=\"noopener noreferrer\">\n",
    "            <img src=\"../../assets/images/libraries/matplotlib/logo/Matplotlib_icon.svg\"\n",
    "                 alt=\"Matplotlib Logo\"\n",
    "                 style=\"max-height: 48px; width: auto;\">\n",
    "        </a>\n",
    "        <a href=\"https://seaborn.pydata.org/\" target=\"_blank\" rel=\"noopener noreferrer\">\n",
    "            <img src=\"../../assets/images/libraries/seaborn/logo/logo-mark-lightbg.svg\"\n",
    "                 alt=\"Seaborn Logo\"\n",
    "                 style=\"max-height: 48px; width: auto;\">\n",
    "        </a>\n",
    "        <a href=\"https://seaborn.pydata.org/\" target=\"_blank\" rel=\"noopener noreferrer\">\n",
    "            <img src=\"../../assets/images/libraries/plotly/logo/Plotly-Logo-White copy.svg\"\n",
    "                 alt=\"Seaborn Logo\"\n",
    "                 style=\"max-height: 48px; width: auto; background-color: #1f1f1f; border-radius: 8px;\">\n",
    "        </a>\n",
    "    </div>\n",
    "</div>\n",
    "<hr>\n"
   ]
  },
  {
   "cell_type": "markdown",
   "metadata": {},
   "source": [
    "**Table of contents**<a id='toc0_'></a>    \n",
    "- [Dependencies](#toc1_)    \n",
    "- [Advanced Layouts](#toc2_)    \n",
    "  - [Subplots](#toc2_1_)    \n",
    "    - [Creating Multiple Axes](#toc2_1_1_)    \n",
    "    - [Sharing Axes](#toc2_1_2_)    \n",
    "    - [Adjusting Spacing](#toc2_1_3_)    \n",
    "  - [GridSpec](#toc2_2_)    \n",
    "    - [Fine Control Over Layouts](#toc2_2_1_)    \n",
    "    - [Combining Different Sizes](#toc2_2_2_)    \n",
    "  - [Twin Axes](#toc2_3_)    \n",
    "    - [Creating a Twin X or Y Axis](#toc2_3_1_)    \n",
    "    - [Practical Use Cases](#toc2_3_2_)    \n",
    "  - [Inset Axes](#toc2_4_)    \n",
    "    - [Zoomed-In Views](#toc2_4_1_)    \n",
    "    - [Adding Mini-Plots Inside a Plot](#toc2_4_2_)    \n",
    "\n",
    "<!-- vscode-jupyter-toc-config\n",
    "\tnumbering=false\n",
    "\tanchor=true\n",
    "\tflat=false\n",
    "\tminLevel=1\n",
    "\tmaxLevel=6\n",
    "\t/vscode-jupyter-toc-config -->\n",
    "<!-- THIS CELL WILL BE REPLACED ON TOC UPDATE. DO NOT WRITE YOUR TEXT IN THIS CELL -->"
   ]
  },
  {
   "cell_type": "markdown",
   "metadata": {},
   "source": [
    "# <a id='toc1_'></a>[Dependencies](#toc0_)"
   ]
  },
  {
   "cell_type": "code",
   "execution_count": null,
   "metadata": {},
   "outputs": [],
   "source": [
    "import matplotlib.pyplot as plt\n",
    "import numpy as np\n",
    "from matplotlib.gridspec import GridSpec\n",
    "from mpl_toolkits.axes_grid1.inset_locator import inset_axes, mark_inset"
   ]
  },
  {
   "cell_type": "code",
   "execution_count": null,
   "metadata": {},
   "outputs": [],
   "source": [
    "np.set_printoptions(linewidth=120)"
   ]
  },
  {
   "cell_type": "code",
   "execution_count": null,
   "metadata": {},
   "outputs": [],
   "source": [
    "# create time-series-like x\n",
    "x = np.linspace(0, 10, 500)\n",
    "y1 = np.sin(2 * np.pi * 0.5 * x)        # slow sine\n",
    "y2 = np.cos(2 * np.pi * 1.5 * x) * 0.6  # faster smaller-amplitude cosine\n",
    "y3 = np.sin(x) * np.exp(-x / 6)         # decaying oscillation"
   ]
  },
  {
   "cell_type": "markdown",
   "metadata": {},
   "source": [
    "# <a id='toc2_'></a>[Advanced Layouts](#toc0_)\n"
   ]
  },
  {
   "cell_type": "markdown",
   "metadata": {},
   "source": [
    "## <a id='toc2_1_'></a>[Subplots](#toc0_)\n",
    "\n",
    "- Subplots let you place **multiple axes inside a single figure**, enabling side-by-side comparisons and compact dashboards.\n",
    "- They are the first, fundamental tool for building multi-plot layouts.\n",
    "\n",
    "📝 Docs:\n",
    "- `matplotlib.pyplot.subplots`: [https://matplotlib.org/stable/api/_as_gen/matplotlib.pyplot.subplots.html](https://matplotlib.org/stable/api/_as_gen/matplotlib.pyplot.subplots.html)\n",
    "- `matplotlib.pyplot.subplot`: [https://matplotlib.org/stable/api/_as_gen/matplotlib.pyplot.subplot.html](https://matplotlib.org/stable/api/_as_gen/matplotlib.pyplot.subplot.html)\n",
    "- Create multiple subplots: [https://matplotlib.org/stable/gallery/subplots_axes_and_figures/subplots_demo.html](https://matplotlib.org/stable/gallery/subplots_axes_and_figures/subplots_demo.html)\n",
    "- `matplotlib.axes.Axes.twinx`: [https://matplotlib.org/stable/api/_as_gen/matplotlib.axes.Axes.twinx.html](https://matplotlib.org/stable/api/_as_gen/matplotlib.axes.Axes.twinx.html)\n",
    "- `plt.tight_layout`: [https://matplotlib.org/stable/api/_as_gen/matplotlib.pyplot.tight_layout.html](https://matplotlib.org/stable/api/_as_gen/matplotlib.pyplot.tight_layout.html)\n",
    "- Constrained Layout Guide: [https://matplotlib.org/stable/tutorials/intermediate/constrainedlayout_guide.html](https://matplotlib.org/stable/tutorials/intermediate/constrainedlayout_guide.html)\n",
    "- `plt.subplots_adjust`: [https://matplotlib.org/stable/api/_as_gen/matplotlib.pyplot.subplots_adjust.html](https://matplotlib.org/stable/api/_as_gen/matplotlib.pyplot.subplots_adjust.html)\n"
   ]
  },
  {
   "cell_type": "markdown",
   "metadata": {},
   "source": [
    "### <a id='toc2_1_1_'></a>[Creating Multiple Axes](#toc0_)\n",
    "\n",
    "- `plt.subplots()` is the recommended, simple way to create a grid of axes in one call\n",
    "- You can create rectangular grids (nrows × ncols) and get a `Figure` plus an array of `Axes` objects\n",
    "- Works well for small to moderate numbers of similar plots\n"
   ]
  },
  {
   "cell_type": "code",
   "execution_count": null,
   "metadata": {},
   "outputs": [],
   "source": [
    "# create a 2x2 grid of subplots and plot different series\n",
    "fig, axes = plt.subplots(nrows=2, ncols=2, figsize=(10, 6))\n",
    "axes = axes.ravel()  # flat iterator\n",
    "\n",
    "axes[0].plot(x, y1)\n",
    "axes[0].set_title(\"Slow sine\")\n",
    "\n",
    "axes[1].plot(x, y2)\n",
    "axes[1].set_title(\"Faster cosine\")\n",
    "\n",
    "axes[2].plot(x, y3)\n",
    "axes[2].set_title(\"Decaying sine\")\n",
    "\n",
    "axes[3].plot(x, y1, label=\"sin(0.5f)\")\n",
    "axes[3].plot(x, y2, label=\"0.6*cos(1.5f)\")\n",
    "axes[3].legend(loc=\"upper right\")\n",
    "axes[3].set_title(\"Combined\")\n",
    "\n",
    "plt.show()"
   ]
  },
  {
   "cell_type": "code",
   "execution_count": null,
   "metadata": {},
   "outputs": [],
   "source": [
    "fig = plt.figure(figsize=(10, 6), layout=\"constrained\")\n",
    "\n",
    "# create subplots manually\n",
    "axes = []\n",
    "for i in range(1, 5):  # 2x2 grid -> 4 subplots\n",
    "    ax = fig.add_subplot(2, 2, i)\n",
    "    axes.append(ax)\n",
    "\n",
    "axes[0].plot(x, y1)\n",
    "axes[0].set_title(\"Slow sine\")\n",
    "\n",
    "axes[1].plot(x, y2)\n",
    "axes[1].set_title(\"Faster cosine\")\n",
    "\n",
    "axes[2].plot(x, y3)\n",
    "axes[2].set_title(\"Decaying sine\")\n",
    "\n",
    "axes[3].plot(x, y1, label=\"sin(0.5f)\")\n",
    "axes[3].plot(x, y2, label=\"0.6*cos(1.5f)\")\n",
    "axes[3].legend(loc=\"upper right\")\n",
    "axes[3].set_title(\"Combined\")\n",
    "\n",
    "plt.show()"
   ]
  },
  {
   "cell_type": "markdown",
   "metadata": {},
   "source": [
    "### <a id='toc2_1_2_'></a>[Sharing Axes](#toc0_)\n",
    "\n",
    "- Share x or y axes across subplots to align scales and improve comparison (`sharex`, `sharey`)\n",
    "- Useful when comparing series with the same units or timescale\n",
    "- Shared axes reduce repeated tick labels and clarify relationships between subplots\n"
   ]
  },
  {
   "cell_type": "code",
   "execution_count": null,
   "metadata": {},
   "outputs": [],
   "source": [
    "# share x (columns)\n",
    "fig, (ax_top, ax_bottom) = plt.subplots(2, 1, sharex=True, figsize=(9, 6))\n",
    "\n",
    "ax_top.plot(x, y1)\n",
    "ax_top.set_ylabel(\"Amplitude\")\n",
    "ax_top.set_title(\"Top: shared x with bottom\")\n",
    "\n",
    "ax_bottom.plot(x, y2)\n",
    "ax_bottom.set_ylabel(\"Amplitude\")\n",
    "ax_bottom.set_xlabel(\"Time (s)\")\n",
    "\n",
    "plt.show()"
   ]
  },
  {
   "cell_type": "code",
   "execution_count": null,
   "metadata": {},
   "outputs": [],
   "source": [
    "# share y (rows)\n",
    "fig, (ax_left, ax_right) = plt.subplots(1, 2, sharey=True, figsize=(9, 3))\n",
    "\n",
    "ax_left.plot(x, y1)\n",
    "ax_left.set_title(\"Left\")\n",
    "ax_left.set_ylabel(\"Shared Y\")\n",
    "\n",
    "ax_right.plot(x, y2)\n",
    "ax_right.set_title(\"Right\")\n",
    "\n",
    "plt.show()"
   ]
  },
  {
   "cell_type": "markdown",
   "metadata": {},
   "source": [
    "### <a id='toc2_1_3_'></a>[Adjusting Spacing](#toc0_)\n",
    "\n",
    "- `plt.tight_layout()` automatically adjusts subplot params to give specified padding\n",
    "- `constrained_layout` is an alternative that handles more complex layouts (text, colorbars, etc.)\n",
    "- For fine control, `plt.subplots_adjust()` lets you set left, right, top, bottom, wspace, and hspace manually\n"
   ]
  },
  {
   "cell_type": "code",
   "execution_count": null,
   "metadata": {},
   "outputs": [],
   "source": [
    "# Adjust spacing with subplots_adjust and constrained_layout\n",
    "fig, axes = plt.subplots(3, 1, figsize=(8, 7), constrained_layout=False)\n",
    "\n",
    "axes[0].plot(x, y1)\n",
    "axes[0].set_title(\"Plot A\")\n",
    "axes[1].plot(x, y2)\n",
    "axes[1].set_title(\"Plot B\")\n",
    "axes[2].plot(x, y3)\n",
    "axes[2].set_title(\"Plot C\")\n",
    "\n",
    "# manual spacing control\n",
    "fig.subplots_adjust(hspace=0.6, top=0.95, bottom=0.06, left=0.08, right=0.98)\n",
    "plt.show()"
   ]
  },
  {
   "cell_type": "code",
   "execution_count": null,
   "metadata": {},
   "outputs": [],
   "source": [
    "# constrained_layout (automatically avoids overlaps)\n",
    "fig, axes = plt.subplots(3, 1, figsize=(8, 7), layout='constrained')\n",
    "\n",
    "axes[0].plot(x, y1)\n",
    "axes[0].set_title(\"Constrained A\")\n",
    "axes[1].plot(x, y2)\n",
    "axes[1].set_title(\"Constrained B\")\n",
    "axes[2].plot(x, y3)\n",
    "axes[2].set_title(\"Constrained C\")\n",
    "\n",
    "plt.show()"
   ]
  },
  {
   "cell_type": "code",
   "execution_count": null,
   "metadata": {},
   "outputs": [],
   "source": [
    "# tight_layout (automatically avoids overlaps)\n",
    "fig, axes = plt.subplots(3, 1, figsize=(8, 7))\n",
    "\n",
    "axes[0].plot(x, y1)\n",
    "axes[0].set_title(\"Constrained A\")\n",
    "axes[1].plot(x, y2)\n",
    "axes[1].set_title(\"Constrained B\")\n",
    "axes[2].plot(x, y3)\n",
    "axes[2].set_title(\"Constrained C\")\n",
    "\n",
    "fig.tight_layout()\n",
    "plt.show()"
   ]
  },
  {
   "cell_type": "markdown",
   "metadata": {},
   "source": [
    "## <a id='toc2_2_'></a>[GridSpec](#toc0_)\n",
    "\n",
    "- `GridSpec` provides **fine-grained control** over subplot placement and sizing beyond what `plt.subplots()` offers.\n",
    "- It is ideal when you need **non-uniform grids**, **complex layouts**, or when combining plots of different sizes.\n",
    "\n",
    "📝 Docs:\n",
    "- `matplotlib.gridspec.GridSpec`: [https://matplotlib.org/stable/api/_as_gen/matplotlib.gridspec.GridSpec.html](https://matplotlib.org/stable/api/_as_gen/matplotlib.gridspec.GridSpec.html)\n",
    "- `Figure.add_subplot`: [https://matplotlib.org/stable/api/figure_api.html#matplotlib.figure.Figure.add_subplot](https://matplotlib.org/stable/api/figure_api.html#matplotlib.figure.Figure.add_subplot)\n",
    "- Gridspec for multi-column/row subplot layouts: [https://matplotlib.org/stable/gallery/subplots_axes_and_figures/gridspec_multicolumn.html](https://matplotlib.org/stable/gallery/subplots_axes_and_figures/gridspec_multicolumn.html)\n",
    "- Nested Gridspecs: [https://matplotlib.org/stable/gallery/subplots_axes_and_figures/gridspec_nested.html](https://matplotlib.org/stable/gallery/subplots_axes_and_figures/gridspec_nested.html)\n"
   ]
  },
  {
   "cell_type": "markdown",
   "metadata": {},
   "source": [
    "### <a id='toc2_2_1_'></a>[Fine Control Over Layouts](#toc0_)\n",
    "\n",
    "- `GridSpec` divides the figure into a grid that you can address flexibly\n",
    "- Each cell (or group of cells) can host an individual subplot (`add_subplot`)\n",
    "- Supports **unequal row/column spans**, allowing more expressive layouts\n",
    "- Especially useful for figures that mix large and small subplots\n"
   ]
  },
  {
   "cell_type": "code",
   "execution_count": null,
   "metadata": {},
   "outputs": [],
   "source": [
    "fig = plt.figure(figsize=(9, 6))\n",
    "gs = GridSpec(nrows=3, ncols=3, figure=fig)\n",
    "\n",
    "ax_main = fig.add_subplot(gs[:, :2])  # tall main plot spanning rows, cols 0-1\n",
    "ax_right = fig.add_subplot(gs[0, 2])  # small top-right\n",
    "ax_mid = fig.add_subplot(gs[1, 2])    # middle-right\n",
    "ax_bot = fig.add_subplot(gs[2, 2])    # bottom-right\n",
    "\n",
    "ax_main.plot(x, y1, label=\"y1\")\n",
    "ax_main.plot(x, y2, label=\"y2\")\n",
    "ax_main.set_title(\"Main (spans rows 0..2, cols 0..1)\")\n",
    "ax_main.legend()\n",
    "\n",
    "ax_right.plot(x, y3)\n",
    "ax_right.set_title(\"Top-right\")\n",
    "\n",
    "ax_mid.plot(x, y2)\n",
    "ax_mid.set_title(\"Mid-right\")\n",
    "\n",
    "ax_bot.plot(x, y1)\n",
    "ax_bot.set_title(\"Bot-right\")\n",
    "\n",
    "fig.tight_layout()\n",
    "plt.show()"
   ]
  },
  {
   "cell_type": "markdown",
   "metadata": {},
   "source": [
    "### <a id='toc2_2_2_'></a>[Combining Different Sizes](#toc0_)\n",
    "\n",
    "- You can make one subplot span multiple rows or columns using slicing\n",
    "- Helps highlight a **main plot** while keeping smaller **contextual plots** nearby\n",
    "- Works seamlessly with shared axes and colorbars\n",
    "- Useful in multi-panel scientific figures and dashboard-style layouts\n"
   ]
  },
  {
   "cell_type": "code",
   "execution_count": null,
   "metadata": {},
   "outputs": [],
   "source": [
    "fig = plt.figure(figsize=(10, 5))\n",
    "gs = GridSpec(2, 4, height_ratios=[2, 1], width_ratios=[1, 1, 1, 1], figure=fig)\n",
    "\n",
    "ax_top = fig.add_subplot(gs[0, :])      # top full-width\n",
    "ax_left = fig.add_subplot(gs[1, 0:2])   # bottom-left (spans two cols)\n",
    "ax_right = fig.add_subplot(gs[1, 2:4])  # bottom-right (spans two cols)\n",
    "\n",
    "ax_top.plot(x, y1)\n",
    "ax_top.set_title(\"Top: big overview\")\n",
    "\n",
    "ax_left.plot(x, y2)\n",
    "ax_left.set_title(\"Bottom-left: detail A\")\n",
    "\n",
    "ax_right.plot(x, y3)\n",
    "ax_right.set_title(\"Bottom-right: detail B\")\n",
    "\n",
    "fig.tight_layout()\n",
    "plt.show()"
   ]
  },
  {
   "cell_type": "markdown",
   "metadata": {},
   "source": [
    "## <a id='toc2_3_'></a>[Twin Axes](#toc0_)\n",
    "\n",
    "- Twin axes allow you to plot **two datasets with different scales** on the same figure.\n",
    "- They share one axis (x or y) but have separate scales for the other, making comparisons between related variables easier.\n",
    "\n",
    "📝 Docs:\n",
    "- `matplotlib.axes.Axes.twinx`: [https://matplotlib.org/stable/api/_as_gen/matplotlib.axes.Axes.twinx.html](https://matplotlib.org/stable/api/_as_gen/matplotlib.axes.Axes.twinx.html)\n",
    "- `matplotlib.axes.Axes.twiny`: [https://matplotlib.org/stable/api/_as_gen/matplotlib.axes.Axes.twiny.html](https://matplotlib.org/stable/api/_as_gen/matplotlib.axes.Axes.twiny.html)\n",
    "- Plots with different scales: [https://matplotlib.org/stable/gallery/subplots_axes_and_figures/two_scales.html](https://matplotlib.org/stable/gallery/subplots_axes_and_figures/two_scales.html)\n"
   ]
  },
  {
   "cell_type": "markdown",
   "metadata": {},
   "source": [
    "### <a id='toc2_3_1_'></a>[Creating a Twin X or Y Axis](#toc0_)\n",
    "\n",
    "- `twinx()` creates a second y-axis sharing the same x-axis\n",
    "- `twiny()` creates a second x-axis sharing the same y-axis\n",
    "- Both return a new `Axes` object overlaid on the existing one\n",
    "- Useful for showing **different units or scales** on the same plot (e.g., Celsius vs Fahrenheit)\n"
   ]
  },
  {
   "cell_type": "code",
   "execution_count": null,
   "metadata": {},
   "outputs": [],
   "source": [
    "# twin Y axis example: plot two variables with different units/scales\n",
    "fig, ax1 = plt.subplots(figsize=(8, 4))\n",
    "\n",
    "ax1.plot(x, y1, label=\"Signal A\")\n",
    "ax1.set_xlabel(\"Time (s)\")\n",
    "ax1.set_ylabel(\"Signal A\", fontsize=10)\n",
    "\n",
    "ax2 = ax1.twinx()\n",
    "ax2.plot(x, y2, linestyle=\"--\", label=\"Signal B\")\n",
    "ax2.set_ylabel(\"Signal B\", fontsize=10)\n",
    "\n",
    "# combine legends from both axes\n",
    "lines_1, labels_1 = ax1.get_legend_handles_labels()\n",
    "lines_2, labels_2 = ax2.get_legend_handles_labels()\n",
    "ax1.legend(lines_1 + lines_2, labels_1 + labels_2, loc=\"upper right\")\n",
    "\n",
    "ax1.set_title(\"Twin Y axes example\")\n",
    "plt.show()"
   ]
  },
  {
   "cell_type": "markdown",
   "metadata": {},
   "source": [
    "### <a id='toc2_3_2_'></a>[Practical Use Cases](#toc0_)\n",
    "\n",
    "- Comparing **temperature vs humidity**, **price vs volume**, or other related metrics\n",
    "- Combining **different data scales** while maintaining shared alignment\n",
    "- You can customize colors and spines for clarity and distinction\n",
    "- Best used sparingly — too many axes can reduce readability\n"
   ]
  },
  {
   "cell_type": "code",
   "execution_count": null,
   "metadata": {},
   "outputs": [],
   "source": [
    "# temperature (left) and precipitation (right) over 'days' (fake example)\n",
    "days = np.arange(1, 11)\n",
    "temp = 10 + 8 * np.sin(np.linspace(0, 2 * np.pi, len(days)))  # °C\n",
    "rain = np.array([3, 0, 6, 8, 0, 0, 5, 2, 0, 1])  # mm\n",
    "\n",
    "fig, ax_temp = plt.subplots(figsize=(8, 4))\n",
    "ax_temp.plot(days, temp, marker=\"o\", label=\"Temperature (°C)\")\n",
    "ax_temp.set_xlabel(\"Day\")\n",
    "ax_temp.set_ylabel(\"Temperature (°C)\")\n",
    "\n",
    "ax_rain = ax_temp.twinx()\n",
    "ax_rain.bar(days - 0.15, rain, width=0.3, alpha=0.6, label=\"Rain (mm)\")\n",
    "ax_rain.set_ylabel(\"Precipitation (mm)\")\n",
    "\n",
    "# twin legend\n",
    "h1, l1 = ax_temp.get_legend_handles_labels()\n",
    "h2, l2 = ax_rain.get_legend_handles_labels()\n",
    "ax_temp.legend(h1 + h2, l1 + l2, loc=\"upper right\")\n",
    "\n",
    "ax_temp.set_title(\"Temp vs Precipitation — practical twin-axis use\")\n",
    "plt.show()"
   ]
  },
  {
   "cell_type": "markdown",
   "metadata": {},
   "source": [
    "## <a id='toc2_4_'></a>[Inset Axes](#toc0_)\n",
    "\n",
    "- Inset axes let you place a **smaller plot inside a larger one**, ideal for zoomed-in views or displaying related details.\n",
    "- They improve data storytelling by focusing on **specific regions** or **secondary visualizations** without creating separate figures.\n",
    "\n",
    "📝 Docs:\n",
    "- `mpl_toolkits.axes_grid1.inset_locator.inset_axes`: [https://matplotlib.org/stable/api/_as_gen/mpl_toolkits.axes_grid1.inset_locator.inset_axes.html](https://matplotlib.org/stable/api/_as_gen/mpl_toolkits.axes_grid1.inset_locator.inset_axes.html)\n",
    "- `mpl_toolkits.axes_grid1.inset_locator.zoomed_inset_axes`: [https://matplotlib.org/stable/api/_as_gen/mpl_toolkits.axes_grid1.inset_locator.zoomed_inset_axes.html](https://matplotlib.org/stable/api/_as_gen/mpl_toolkits.axes_grid1.inset_locator.zoomed_inset_axes.html)\n",
    "- Inset locator utilities: [https://matplotlib.org/stable/gallery/axes_grid1/inset_locator_demo.html](https://matplotlib.org/stable/gallery/axes_grid1/inset_locator_demo.html)\n"
   ]
  },
  {
   "cell_type": "markdown",
   "metadata": {},
   "source": [
    "### <a id='toc2_4_1_'></a>[Zoomed-In Views](#toc0_)\n",
    "\n",
    "- `inset_axes()` or `zoomed_inset_axes()` can create small axes within the main plot\n",
    "- Highlight local details or anomalies while preserving global context\n",
    "- Can display magnified data regions for better visual focus\n",
    "- Useful in scientific plots, e.g., zooming into peaks or transition regions\n"
   ]
  },
  {
   "cell_type": "code",
   "execution_count": null,
   "metadata": {},
   "outputs": [],
   "source": [
    "# create an inset zoom showing a small region in the main plot\n",
    "fig, ax = plt.subplots(figsize=(8, 4))\n",
    "ax.plot(x, y1, label=\"Signal\")\n",
    "\n",
    "# create inset axes at [x0, y0, width, height] in axes fraction coordinates\n",
    "axins = inset_axes(ax, width=\"35%\", height=\"35%\", loc=\"right\", borderpad=1)\n",
    "\n",
    "# zoom region: choose x-range indices\n",
    "x1, x2 = 1.5, 3.0\n",
    "mask = (x >= x1) & (x <= x2)\n",
    "axins.plot(x[mask], y1[mask])\n",
    "axins.set_xlim(x1, x2)\n",
    "axins.set_title(\"Zoom\", fontsize=9)\n",
    "axins.tick_params(axis=\"both\", which=\"major\", labelsize=8)\n",
    "\n",
    "# optionally draw connecting lines\n",
    "mark_inset(ax, axins, loc1=2, loc2=4, fc=\"none\", ec=\"0.5\")\n",
    "\n",
    "ax.set_title(\"Main plot with inset zoom\")\n",
    "plt.show()"
   ]
  },
  {
   "cell_type": "markdown",
   "metadata": {},
   "source": [
    "### <a id='toc2_4_2_'></a>[Adding Mini-Plots Inside a Plot](#toc0_)\n",
    "\n",
    "- Inset axes can show **related or complementary data** (e.g., residuals, distributions)\n",
    "- Positioned manually using normalized coordinates or helper functions\n",
    "- Style independently from the main plot (titles, ticks, colors)\n",
    "- Maintain visual hierarchy — avoid cluttering the main figure\n"
   ]
  },
  {
   "cell_type": "code",
   "execution_count": null,
   "metadata": {},
   "outputs": [],
   "source": [
    "# Add a small histogram and a small line mini-plot inside the main axes\n",
    "fig, ax = plt.subplots(figsize=(8, 4))\n",
    "ax.plot(x, y3, label=\"Decaying oscillation\")\n",
    "ax.set_title(\"Main plot with two mini-plots inside\")\n",
    "\n",
    "# inset for histogram (lower-left)\n",
    "hist_inset = inset_axes(\n",
    "    ax, width=\"20%\", height=\"30%\", loc=\"lower left\", bbox_to_anchor=(0.02, 0.02, 0.5, 0.3), bbox_transform=ax.transAxes\n",
    ")\n",
    "hist_inset.hist(y3, bins=18)\n",
    "hist_inset.set_xticks([])\n",
    "hist_inset.set_yticks([])\n",
    "hist_inset.set_title(\"Histogram\", fontsize=8)\n",
    "\n",
    "# inset for mini line (upper left)\n",
    "mini_inset = inset_axes(\n",
    "    ax, width=\"20%\", height=\"20%\", loc=\"upper right\", bbox_to_anchor=(0.6, 0.6, 0.4, 0.3), bbox_transform=ax.transAxes\n",
    ")\n",
    "mini_inset.plot(x[:100], y3[:100])\n",
    "mini_inset.set_xticks([])\n",
    "mini_inset.set_yticks([])\n",
    "mini_inset.set_title(\"Mini line\", fontsize=8)\n",
    "\n",
    "plt.show()"
   ]
  }
 ],
 "metadata": {
  "author_email": "AmirhosseinHeydari78@gmail.com",
  "author_github": "https://github.com/mr-pylin",
  "author_name": "Amirhossein Heydari",
  "kernelspec": {
   "display_name": "data-visualization-workshop (3.13.7)",
   "language": "python",
   "name": "python3"
  },
  "language_info": {
   "codemirror_mode": {
    "name": "ipython",
    "version": 3
   },
   "file_extension": ".py",
   "mimetype": "text/x-python",
   "name": "python",
   "nbconvert_exporter": "python",
   "pygments_lexer": "ipython3",
   "version": "3.13.7"
  },
  "origin_repo": "https://github.com/mr-pylin/matplotlib-workshop"
 },
 "nbformat": 4,
 "nbformat_minor": 2
}
