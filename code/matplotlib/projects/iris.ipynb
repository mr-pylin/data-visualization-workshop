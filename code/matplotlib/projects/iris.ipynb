{
 "cells": [
  {
   "cell_type": "markdown",
   "metadata": {},
   "source": [
    "📝 **Author:** Amirhossein Heydari - 📧 **Email:** AmirhosseinHeydari78@gmail.com - 📍 **Linktree:** [linktr.ee/mr_pylin](https://linktr.ee/mr_pylin)\n",
    "\n",
    "---"
   ]
  },
  {
   "cell_type": "markdown",
   "metadata": {},
   "source": [
    "# Dependencies"
   ]
  },
  {
   "cell_type": "code",
   "execution_count": 1,
   "metadata": {},
   "outputs": [],
   "source": [
    "import matplotlib.pyplot as plt\n",
    "import pandas as pd\n",
    "import seaborn as sns"
   ]
  },
  {
   "cell_type": "markdown",
   "metadata": {},
   "source": [
    "# Load Iris Dataset\n",
    "\n",
    "<figure style=\"text-align: center;\">\n",
    "    <img src=\"../../assets/images/third_party/misc/01_08.png\" alt=\"01_08.png\" style=\"width: 50%;\">\n",
    "    <figcaption style=\"text-align: center;\">©️ Image: <a href= \"https://github.com/rasbt/machine-learning-book/blob/main/ch01/figures/01_08.png\">Machine Learning with PyTorch and Scikit-Learn</a></figcaption>\n",
    "</figure>"
   ]
  },
  {
   "cell_type": "code",
   "execution_count": 2,
   "metadata": {},
   "outputs": [
    {
     "data": {
      "text/html": [
       "<div>\n",
       "<style scoped>\n",
       "    .dataframe tbody tr th:only-of-type {\n",
       "        vertical-align: middle;\n",
       "    }\n",
       "\n",
       "    .dataframe tbody tr th {\n",
       "        vertical-align: top;\n",
       "    }\n",
       "\n",
       "    .dataframe thead th {\n",
       "        text-align: right;\n",
       "    }\n",
       "</style>\n",
       "<table border=\"1\" class=\"dataframe\">\n",
       "  <thead>\n",
       "    <tr style=\"text-align: right;\">\n",
       "      <th></th>\n",
       "      <th>sepal-length</th>\n",
       "      <th>sepal-width</th>\n",
       "      <th>petal-length</th>\n",
       "      <th>petal-width</th>\n",
       "      <th>class</th>\n",
       "    </tr>\n",
       "  </thead>\n",
       "  <tbody>\n",
       "    <tr>\n",
       "      <th>0</th>\n",
       "      <td>5.1</td>\n",
       "      <td>3.5</td>\n",
       "      <td>1.4</td>\n",
       "      <td>0.2</td>\n",
       "      <td>Iris-setosa</td>\n",
       "    </tr>\n",
       "    <tr>\n",
       "      <th>1</th>\n",
       "      <td>4.9</td>\n",
       "      <td>3.0</td>\n",
       "      <td>1.4</td>\n",
       "      <td>0.2</td>\n",
       "      <td>Iris-setosa</td>\n",
       "    </tr>\n",
       "    <tr>\n",
       "      <th>2</th>\n",
       "      <td>4.7</td>\n",
       "      <td>3.2</td>\n",
       "      <td>1.3</td>\n",
       "      <td>0.2</td>\n",
       "      <td>Iris-setosa</td>\n",
       "    </tr>\n",
       "    <tr>\n",
       "      <th>3</th>\n",
       "      <td>4.6</td>\n",
       "      <td>3.1</td>\n",
       "      <td>1.5</td>\n",
       "      <td>0.2</td>\n",
       "      <td>Iris-setosa</td>\n",
       "    </tr>\n",
       "    <tr>\n",
       "      <th>4</th>\n",
       "      <td>5.0</td>\n",
       "      <td>3.6</td>\n",
       "      <td>1.4</td>\n",
       "      <td>0.2</td>\n",
       "      <td>Iris-setosa</td>\n",
       "    </tr>\n",
       "  </tbody>\n",
       "</table>\n",
       "</div>"
      ],
      "text/plain": [
       "   sepal-length  sepal-width  petal-length  petal-width        class\n",
       "0           5.1          3.5           1.4          0.2  Iris-setosa\n",
       "1           4.9          3.0           1.4          0.2  Iris-setosa\n",
       "2           4.7          3.2           1.3          0.2  Iris-setosa\n",
       "3           4.6          3.1           1.5          0.2  Iris-setosa\n",
       "4           5.0          3.6           1.4          0.2  Iris-setosa"
      ]
     },
     "execution_count": 2,
     "metadata": {},
     "output_type": "execute_result"
    }
   ],
   "source": [
    "iris_dataset_url = r\"https://raw.githubusercontent.com/mr-pylin/datasets/refs/heads/main/data/tabular-data/iris/dataset.csv\"\n",
    "\n",
    "# pandas data-frame\n",
    "df = pd.read_csv(iris_dataset_url, encoding='utf-8')\n",
    "\n",
    "# log\n",
    "df.head()"
   ]
  },
  {
   "cell_type": "markdown",
   "metadata": {},
   "source": [
    "## Species Count/Distribution"
   ]
  },
  {
   "cell_type": "code",
   "execution_count": null,
   "metadata": {},
   "outputs": [],
   "source": [
    "species = df['class'].value_counts()\n",
    "\n",
    "# plot\n",
    "fig, axs = plt.subplots(nrows=1, ncols=2, figsize=(8, 4), layout='compressed')\n",
    "\n",
    "axs[0].bar(species.index, species.values, color='skyblue')\n",
    "axs[0].set(title=\"Bar chart of Species Counts\", ylabel=\"Count\")\n",
    "axs[1].pie(species, autopct='%1.1f%%', startangle=90, labels=species.index)\n",
    "axs[1].set(title=\"Pie Chart of Species Distribution\")\n",
    "\n",
    "plt.show()"
   ]
  },
  {
   "cell_type": "markdown",
   "metadata": {},
   "source": [
    "## Histogram for Feature Distribution"
   ]
  },
  {
   "cell_type": "code",
   "execution_count": null,
   "metadata": {},
   "outputs": [],
   "source": [
    "fig, axs = plt.subplots(nrows=1, ncols=4, figsize=(16, 4), layout='compressed')\n",
    "\n",
    "for i, col_name in enumerate(df.columns[:-1]):\n",
    "    axs[i].hist(df[col_name], bins=20, edgecolor='black', alpha=0.7)\n",
    "    axs[i].set(title=f\"Histogram of {col_name}\", xlabel=f\"{col_name} (cm)\", ylabel=\"Frequency\")\n",
    "\n",
    "plt.show()"
   ]
  },
  {
   "cell_type": "markdown",
   "metadata": {},
   "source": [
    "## Box Plot to Check for Outliers"
   ]
  },
  {
   "cell_type": "code",
   "execution_count": null,
   "metadata": {},
   "outputs": [],
   "source": [
    "plt.figure(figsize=(10, 5))\n",
    "plt.boxplot(df.values[:, :-1])\n",
    "plt.title('Boxplot of Features')\n",
    "plt.show()"
   ]
  },
  {
   "cell_type": "markdown",
   "metadata": {},
   "source": [
    "## Scatter Plot for Pairs of Features"
   ]
  },
  {
   "cell_type": "code",
   "execution_count": null,
   "metadata": {},
   "outputs": [],
   "source": [
    "species_idx = df['class'].unique()\n",
    "\n",
    "class_colors = {l: c for l, c in zip(species_idx, ['blue', 'green', 'red'])}\n",
    "class_markers = {l: m for l, m in zip(species_idx, ['o', 's', 'x'])}\n",
    "\n",
    "# plot\n",
    "fig, axs = plt.subplots(nrows=2, ncols=3, figsize=(14, 8), layout='compressed')\n",
    "axs = axs.flatten()\n",
    "idx = 0\n",
    "\n",
    "for i, x_name in enumerate(df.columns[:-1]):\n",
    "    for j, y_name in enumerate(df.columns[(i + 1):-1]):\n",
    "        for cls in species_idx:\n",
    "            cls_data = df[df['class'] == cls]\n",
    "            axs[idx].scatter(cls_data[x_name], cls_data[y_name], color=class_colors[cls], marker=class_markers[cls], alpha=0.7, label=cls)\n",
    "        \n",
    "        axs[idx].set(xlabel=x_name, ylabel=y_name)\n",
    "        axs[idx].legend(shadow=True, fancybox=True)\n",
    "        \n",
    "        idx += 1\n",
    "\n",
    "plt.show()"
   ]
  },
  {
   "cell_type": "markdown",
   "metadata": {},
   "source": [
    "## Violin Plot for Feature Distribution by Species"
   ]
  },
  {
   "cell_type": "code",
   "execution_count": null,
   "metadata": {},
   "outputs": [],
   "source": [
    "fig, axs = plt.subplots(nrows=1, ncols=4, figsize=(16, 4), layout='compressed')\n",
    "\n",
    "for i, col_name in enumerate(df.columns[:-1]):\n",
    "    sns.violinplot(ax=axs[i], x='class', y=col_name, data=df)\n",
    "    axs[i].set(title=f\"Violin plot of {col_name} by species\")\n",
    "\n",
    "plt.show()"
   ]
  },
  {
   "cell_type": "markdown",
   "metadata": {},
   "source": [
    "## Correlation Heatmap"
   ]
  },
  {
   "cell_type": "code",
   "execution_count": null,
   "metadata": {},
   "outputs": [],
   "source": [
    "corr = df.iloc[:, :-1].corr()\n",
    "\n",
    "# plot\n",
    "plt.figure(figsize=(8, 6))\n",
    "sns.heatmap(corr, annot=True, cmap='coolwarm', fmt='.2f')\n",
    "plt.title('Feature Correlation Heatmap')\n",
    "plt.show()"
   ]
  },
  {
   "cell_type": "markdown",
   "metadata": {},
   "source": [
    "# 3D Scatter Plot for Triplet Features"
   ]
  },
  {
   "cell_type": "code",
   "execution_count": null,
   "metadata": {},
   "outputs": [],
   "source": [
    "species_idx = df['class'].unique()\n",
    "class_colors = {l: c for l, c in zip(species_idx, ['blue', 'green', 'red'])}\n",
    "class_markers = {l: m for l, m in zip(species_idx, ['o', 's', 'x'])}\n",
    "\n",
    "# plot\n",
    "fig, axs = plt.subplots(nrows=1, ncols=4, figsize=(20, 6), subplot_kw={'projection': '3d'})\n",
    "\n",
    "for cls in species_idx:\n",
    "    cls_data = df[df['class'] == cls]\n",
    "    axs[0].scatter(cls_data['sepal-length'], cls_data['sepal-width'], cls_data['petal-length'], color=class_colors[cls], marker=class_markers[cls])\n",
    "    axs[1].scatter(cls_data['sepal-length'], cls_data['sepal-width'], cls_data['petal-width'], color=class_colors[cls], marker=class_markers[cls])\n",
    "    axs[2].scatter(cls_data['sepal-length'], cls_data['petal-length'], cls_data['petal-width'], color=class_colors[cls], marker=class_markers[cls])\n",
    "    axs[3].scatter(cls_data['sepal-width'], cls_data['petal-length'], cls_data['petal-width'], color=class_colors[cls], marker=class_markers[cls])\n",
    "\n",
    "axs[0].set(xlabel=\"Sepal Length (cm)\", ylabel=\"Sepal Width (cm)\", zlabel=\"Petal Length (cm)\")\n",
    "axs[1].set(xlabel=\"Sepal Length (cm)\", ylabel=\"Sepal Width (cm)\", zlabel=\"Petal Width (cm)\")\n",
    "axs[2].set(xlabel=\"Sepal Length (cm)\", ylabel=\"Petal Length (cm)\", zlabel=\"Petal Width (cm)\")\n",
    "axs[3].set(xlabel=\"Sepal Width (cm)\", ylabel=\"Petal Height (cm)\", zlabel=\"Petal Width (cm)\")\n",
    "plt.show()"
   ]
  },
  {
   "cell_type": "markdown",
   "metadata": {},
   "source": [
    "## Hexbin Plot"
   ]
  },
  {
   "cell_type": "code",
   "execution_count": null,
   "metadata": {},
   "outputs": [],
   "source": [
    "plt.hexbin(df['sepal-length'], df['sepal-width'], gridsize=30, cmap='Blues')\n",
    "plt.colorbar()\n",
    "plt.title('Hexbin Plot of Sepal Length vs Sepal Width')\n",
    "plt.xlabel('Sepal Length (cm)')\n",
    "plt.ylabel('Sepal Width (cm)')\n",
    "plt.show()"
   ]
  }
 ],
 "metadata": {
  "author_email": "AmirhosseinHeydari78@gmail.com",
  "author_github": "https://github.com/mr-pylin",
  "author_name": "Amirhossein Heydari",
  "kernelspec": {
   "display_name": "Python 3",
   "language": "python",
   "name": "python3"
  },
  "language_info": {
   "codemirror_mode": {
    "name": "ipython",
    "version": 3
   },
   "file_extension": ".py",
   "mimetype": "text/x-python",
   "name": "python",
   "nbconvert_exporter": "python",
   "pygments_lexer": "ipython3",
   "version": "3.12.3"
  },
  "origin_repo": "https://github.com/mr-pylin/matplotlib-workshop"
 },
 "nbformat": 4,
 "nbformat_minor": 2
}
