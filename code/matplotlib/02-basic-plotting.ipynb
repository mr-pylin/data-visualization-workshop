{
 "cells": [
  {
   "cell_type": "markdown",
   "metadata": {},
   "source": [
    "📝 **Author:** Amirhossein Heydari - 📧 **Email:** AmirhosseinHeydari78@gmail.com - 📍 **Linktree:** [linktr.ee/mr_pylin](https://linktr.ee/mr_pylin)\n",
    "\n",
    "---"
   ]
  },
  {
   "cell_type": "markdown",
   "metadata": {},
   "source": [
    "# Dependencies"
   ]
  },
  {
   "cell_type": "code",
   "execution_count": 1,
   "metadata": {},
   "outputs": [],
   "source": [
    "import matplotlib.pyplot as plt\n",
    "import numpy as np"
   ]
  },
  {
   "cell_type": "code",
   "execution_count": 2,
   "metadata": {},
   "outputs": [],
   "source": [
    "seed = 42\n",
    "rng = np.random.default_rng(seed)"
   ]
  },
  {
   "cell_type": "markdown",
   "metadata": {},
   "source": [
    "# Basic Plotting with Matplotlib"
   ]
  },
  {
   "cell_type": "markdown",
   "metadata": {},
   "source": [
    "## Line Plot\n",
    "   - A line plot is one of the most common types of plots.\n",
    "   - It displays data as a series of points connected by straight lines.\n",
    "\n",
    "📝 Docs:\n",
    "   - `matplotlib.pyplot.plot`: [matplotlib.org/stable/api/_as_gen/matplotlib.pyplot.plot.html](https://matplotlib.org/stable/api/_as_gen/matplotlib.pyplot.plot.html)"
   ]
  },
  {
   "cell_type": "code",
   "execution_count": null,
   "metadata": {},
   "outputs": [],
   "source": [
    "# create sample data\n",
    "x = np.linspace(0, 10, 100)\n",
    "y = np.sin(x)\n",
    "\n",
    "# line plot\n",
    "plt.plot(x, y)\n",
    "plt.title(\"Simple Line Plot\")\n",
    "plt.xlabel(\"X-axis\")\n",
    "plt.ylabel(\"Y-axis\")\n",
    "plt.show()"
   ]
  },
  {
   "cell_type": "markdown",
   "metadata": {},
   "source": [
    "## Scatter Plot\n",
    "   - A scatter plot displays individual data points.\n",
    "   - It is useful for showing the relationship between two variables.\n",
    "\n",
    "📝 Docs:\n",
    "   - `matplotlib.pyplot.scatter`: [matplotlib.org/stable/api/_as_gen/matplotlib.pyplot.scatter.html](https://matplotlib.org/stable/api/_as_gen/matplotlib.pyplot.scatter.html)"
   ]
  },
  {
   "cell_type": "code",
   "execution_count": null,
   "metadata": {},
   "outputs": [],
   "source": [
    "# create sample data\n",
    "x = rng.random(size=50)\n",
    "y = rng.random(size=50)\n",
    "\n",
    "# scatter plot\n",
    "plt.scatter(x, y)\n",
    "plt.title(\"Simple Scatter Plot\")\n",
    "plt.xlabel(\"X-axis\")\n",
    "plt.ylabel(\"Y-axis\")\n",
    "plt.show()"
   ]
  },
  {
   "cell_type": "markdown",
   "metadata": {},
   "source": [
    "## Bar Chart\n",
    "   - A bar chart displays data with rectangular bars.\n",
    "   - It is useful for comparing different categories.\n",
    "\n",
    "📝 Docs:\n",
    "   - `matplotlib.pyplot.bar`: [matplotlib.org/stable/api/_as_gen/matplotlib.pyplot.bar.html](https://matplotlib.org/stable/api/_as_gen/matplotlib.pyplot.bar.html)\n",
    "   - `matplotlib.pyplot.barh`: [matplotlib.org/stable/api/_as_gen/matplotlib.pyplot.barh.html](https://matplotlib.org/stable/api/_as_gen/matplotlib.pyplot.barh.html)"
   ]
  },
  {
   "cell_type": "code",
   "execution_count": null,
   "metadata": {},
   "outputs": [],
   "source": [
    "# create sample data\n",
    "categories = [\"A\", \"B\", \"C\", \"D\"]\n",
    "values = [10, 20, 15, 25]\n",
    "\n",
    "# bar chart\n",
    "plt.bar(categories, values)\n",
    "plt.title(\"Simple Bar Chart\")\n",
    "plt.xlabel(\"Categories\")\n",
    "plt.ylabel(\"Values\")\n",
    "plt.show()"
   ]
  },
  {
   "cell_type": "code",
   "execution_count": null,
   "metadata": {},
   "outputs": [],
   "source": [
    "# create sample data\n",
    "categories = [\"A\", \"B\", \"C\", \"D\"]\n",
    "values = [10, 20, 15, 25]\n",
    "\n",
    "# horizontal bar chart\n",
    "plt.barh(categories, values, color=\"skyblue\")\n",
    "plt.title(\"Horizontal Bar Chart Example\")\n",
    "plt.xlabel(\"Values\")\n",
    "plt.ylabel(\"Categories\")\n",
    "plt.show()"
   ]
  },
  {
   "cell_type": "markdown",
   "metadata": {},
   "source": [
    "## Stem Plot\n",
    "   - A stem plot is useful for visualizing discrete data points along with their stems.\n",
    "\n",
    "📝 Docs:\n",
    "   - `matplotlib.pyplot.stem`: [matplotlib.org/stable/api/_as_gen/matplotlib.pyplot.stem.html](https://matplotlib.org/stable/api/_as_gen/matplotlib.pyplot.stem.html)"
   ]
  },
  {
   "cell_type": "code",
   "execution_count": null,
   "metadata": {},
   "outputs": [],
   "source": [
    "# create sample data\n",
    "x = np.linspace(0.1, 2 * np.pi, 50)\n",
    "y = np.cos(x)\n",
    "\n",
    "# stem plot\n",
    "plt.stem(x, y)\n",
    "plt.title(\"Stem Plot Example\")\n",
    "plt.xlabel(\"X-axis\")\n",
    "plt.ylabel(\"Y-axis\")\n",
    "plt.show()"
   ]
  },
  {
   "cell_type": "markdown",
   "metadata": {},
   "source": [
    "## Histogram\n",
    "   - A histogram displays the distribution of a dataset.\n",
    "   - It is useful for understanding the frequency of data points within certain ranges.\n",
    "\n",
    "📝 Docs:\n",
    "   - `matplotlib.pyplot.hist`: [matplotlib.org/stable/api/_as_gen/matplotlib.pyplot.hist.html](https://matplotlib.org/stable/api/_as_gen/matplotlib.pyplot.hist.html)"
   ]
  },
  {
   "cell_type": "code",
   "execution_count": null,
   "metadata": {},
   "outputs": [],
   "source": [
    "# create sample data\n",
    "data = rng.normal(loc=0, scale=1, size=1000)\n",
    "\n",
    "# histogram\n",
    "plt.hist(data, bins=30)\n",
    "plt.title(\"Simple Histogram\")\n",
    "plt.xlabel(\"Value\")\n",
    "plt.ylabel(\"Frequency\")\n",
    "plt.show()"
   ]
  },
  {
   "cell_type": "markdown",
   "metadata": {},
   "source": [
    "## Step Plot\n",
    "   - A step plot is useful for visualizing data that changes at discrete intervals, such as time series data with sudden jumps.\n",
    "\n",
    "📝 Docs:\n",
    "   - `matplotlib.pyplot.step`: [matplotlib.org/stable/api/_as_gen/matplotlib.pyplot.step.html](https://matplotlib.org/stable/api/_as_gen/matplotlib.pyplot.step.html)"
   ]
  },
  {
   "cell_type": "code",
   "execution_count": null,
   "metadata": {},
   "outputs": [],
   "source": [
    "# create sample data\n",
    "x = np.arange(0, 10, 1)\n",
    "y = rng.integers(1, 10, size=10)\n",
    "\n",
    "# step plot\n",
    "plt.step(x, y, where=\"mid\")\n",
    "plt.title(\"Step Plot Example\")\n",
    "plt.xlabel(\"X-axis\")\n",
    "plt.ylabel(\"Y-axis\")\n",
    "plt.show()"
   ]
  },
  {
   "cell_type": "markdown",
   "metadata": {},
   "source": [
    "## Vertical/Horizontal lines\n",
    "   - Vertical lines (vlines) and horizontal lines (hlines) are useful for highlighting specific values or ranges in your plots.\n",
    "\n",
    "📝 Docs:\n",
    "   - `matplotlib.pyplot.vlines`: [matplotlib.org/stable/api/_as_gen/matplotlib.pyplot.vlines.html](https://matplotlib.org/stable/api/_as_gen/matplotlib.pyplot.vlines.html)\n",
    "   - `matplotlib.pyplot.hlines`: [matplotlib.org/stable/api/_as_gen/matplotlib.pyplot.hlines.html](https://matplotlib.org/stable/api/_as_gen/matplotlib.pyplot.hlines.html)\n",
    "   - `matplotlib.pyplot.axvline`: [matplotlib.org/stable/api/_as_gen/matplotlib.pyplot.axvline.html](https://matplotlib.org/stable/api/_as_gen/matplotlib.pyplot.axvline.html)\n",
    "   - `matplotlib.pyplot.axhline`: [matplotlib.org/stable/api/_as_gen/matplotlib.pyplot.axhline.html](https://matplotlib.org/stable/api/_as_gen/matplotlib.pyplot.axhline.html)"
   ]
  },
  {
   "cell_type": "code",
   "execution_count": null,
   "metadata": {},
   "outputs": [],
   "source": [
    "# create sample data\n",
    "x = np.linspace(0, 10, 100)\n",
    "y = np.sin(x)\n",
    "\n",
    "# plot\n",
    "plt.plot(x, y)\n",
    "plt.vlines(x=[2, 4, 6], ymin=-1, ymax=1, colors=\"r\", linestyles=\"dashed\", label=\"vlines\")\n",
    "plt.axhline(y=0, color=\"b\", linestyle=\"dotted\")\n",
    "plt.title(\"Example of vlines and hlines\")\n",
    "plt.xlabel(\"X-axis\")\n",
    "plt.ylabel(\"Y-axis\")\n",
    "plt.legend()\n",
    "plt.show()"
   ]
  },
  {
   "cell_type": "markdown",
   "metadata": {},
   "source": [
    "## Pie Chart\n",
    "   - A pie chart is a circular statistical graphic, which is divided into slices to illustrate numerical proportions.\n",
    "\n",
    "📝 Docs:\n",
    "   - `matplotlib.pyplot.pie`: [matplotlib.org/stable/api/_as_gen/matplotlib.pyplot.pie.html](https://matplotlib.org/stable/api/_as_gen/matplotlib.pyplot.pie.html)"
   ]
  },
  {
   "cell_type": "code",
   "execution_count": null,
   "metadata": {},
   "outputs": [],
   "source": [
    "# create sample data\n",
    "labels = [\"A\", \"B\", \"C\", \"D\"]\n",
    "sizes = [30, 60, 45, 20]\n",
    "colors = [\"gold\", \"yellowgreen\", \"lightcoral\", \"lightskyblue\"]\n",
    "explode = (0.2, 0, 0, 0)\n",
    "\n",
    "# pie chart\n",
    "plt.pie(sizes, explode=explode, labels=labels, colors=colors, autopct=\"%.2f%%\", shadow=True, startangle=140)\n",
    "plt.axis(\"equal\")  # equal aspect ratio ensures that pie is drawn as a circle.\n",
    "plt.title(\"Pie Chart\")\n",
    "plt.show()"
   ]
  },
  {
   "cell_type": "markdown",
   "metadata": {},
   "source": [
    "## Box Plot\n",
    "   - A box plot (or box-and-whisker plot) displays the distribution of data based on a five-number summary\n",
    "   - five numbers are: minimum, first quartile (Q1), median, third quartile (Q3), and maximum.\n",
    "\n",
    "📝 Docs:\n",
    "   - `matplotlib.pyplot.boxplot`: [matplotlib.org/stable/api/_as_gen/matplotlib.pyplot.boxplot.html](https://matplotlib.org/stable/api/_as_gen/matplotlib.pyplot.boxplot.html)"
   ]
  },
  {
   "cell_type": "code",
   "execution_count": null,
   "metadata": {},
   "outputs": [],
   "source": [
    "# create sample data\n",
    "data = [np.random.normal(0, std, 100) for std in range(1, 4)]\n",
    "\n",
    "# box plot\n",
    "plt.boxplot(data, vert=True, patch_artist=True)\n",
    "plt.title(\"Box Plot Example\")\n",
    "plt.xlabel(\"Category\")\n",
    "plt.ylabel(\"Values\")\n",
    "plt.xticks([1, 2, 3], [\"Category 1\", \"Category 2\", \"Category 3\"])\n",
    "plt.show()"
   ]
  },
  {
   "cell_type": "markdown",
   "metadata": {},
   "source": [
    "## Violin Plot\n",
    "   - A violin plot is similar to a box plot but also shows the probability density of the data at different values.\n",
    "\n",
    "📝 Docs:\n",
    "   - `matplotlib.pyplot.violinplot`: [matplotlib.org/stable/api/_as_gen/matplotlib.pyplot.violinplot.html](https://matplotlib.org/stable/api/_as_gen/matplotlib.pyplot.violinplot.html)"
   ]
  },
  {
   "cell_type": "code",
   "execution_count": null,
   "metadata": {},
   "outputs": [],
   "source": [
    "plt.violinplot(data, showmeans=False, showmedians=True)\n",
    "plt.title(\"Violin Plot Example\")\n",
    "plt.xlabel(\"Category\")\n",
    "plt.ylabel(\"Values\")\n",
    "plt.xticks([1, 2, 3], [\"Category 1\", \"Category 2\", \"Category 3\"])\n",
    "plt.show()"
   ]
  }
 ],
 "metadata": {
  "author_email": "AmirhosseinHeydari78@gmail.com",
  "author_github": "https://github.com/mr-pylin",
  "author_name": "Amirhossein Heydari",
  "kernelspec": {
   "display_name": "Python 3",
   "language": "python",
   "name": "python3"
  },
  "language_info": {
   "codemirror_mode": {
    "name": "ipython",
    "version": 3
   },
   "file_extension": ".py",
   "mimetype": "text/x-python",
   "name": "python",
   "nbconvert_exporter": "python",
   "pygments_lexer": "ipython3",
   "version": "3.12.3"
  },
  "origin_repo": "https://github.com/mr-pylin/matplotlib-workshop"
 },
 "nbformat": 4,
 "nbformat_minor": 2
}
